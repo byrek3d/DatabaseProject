{
 "cells": [
  {
   "cell_type": "code",
   "execution_count": 1,
   "metadata": {},
   "outputs": [],
   "source": [
    "import flask\n",
    "import pandas as pd\n",
    "import numpy as np\n",
    "from sqlalchemy import create_engine\n",
    "import sqlalchemy"
   ]
  },
  {
   "cell_type": "code",
   "execution_count": null,
   "metadata": {
    "scrolled": true
   },
   "outputs": [
    {
     "name": "stdout",
     "output_type": "stream",
     "text": [
      " * Serving Flask app \"__main__\" (lazy loading)\n",
      " * Environment: production\n",
      "   WARNING: Do not use the development server in a production environment.\n",
      "   Use a production WSGI server instead.\n",
      " * Debug mode: off\n"
     ]
    },
    {
     "name": "stderr",
     "output_type": "stream",
     "text": [
      " * Running on http://127.0.0.1:5000/ (Press CTRL+C to quit)\n",
      "127.0.0.1 - - [26/Apr/2019 08:24:22] \"GET / HTTP/1.1\" 200 -\n",
      "127.0.0.1 - - [26/Apr/2019 08:24:22] \"GET /favicon.ico HTTP/1.1\" 404 -\n",
      "127.0.0.1 - - [26/Apr/2019 08:25:10] \"POST /xyz HTTP/1.1\" 302 -\n",
      "127.0.0.1 - - [26/Apr/2019 08:25:10] \"GET /abc/Bedding/beds/2 HTTP/1.1\" 200 -\n",
      "127.0.0.1 - - [26/Apr/2019 08:25:11] \"GET /favicon.ico HTTP/1.1\" 404 -\n",
      "127.0.0.1 - - [26/Apr/2019 08:25:23] \"GET /table HTTP/1.1\" 200 -\n"
     ]
    }
   ],
   "source": [
    "# serve.py\n",
    "\n",
    "from flask import Flask, redirect, url_for, request\n",
    "from flask import render_template\n",
    "\n",
    "engine = create_engine(\"sqlite:///project.db\")\n",
    "# creates a Flask application, named app\n",
    "app = Flask(__name__)\n",
    "\n",
    "# a route where we will display a welcome message via an HTML template\n",
    "@app.route(\"/\")\n",
    "def hello():  \n",
    "    message = \"Hello, World\"\n",
    "    return render_template('index.html', message=message)\n",
    "    #return redirect(url_for('asb'))\n",
    "\n",
    "@app.route('/actors')\n",
    "def asb():\n",
    "    return str(engine.execute(\"select * from Bedding Where beds=3\").fetchall());\n",
    "\n",
    "@app.route('/xyz', methods = ['POST', 'GET'])\n",
    "def xyz():\n",
    "    if request.method == 'POST':\n",
    "        x = request.form[\"x\"]\n",
    "        y = request.form[\"y\"]\n",
    "        z = request.form[\"z\"]\n",
    "        return redirect(url_for('abc', x=x,y=y,z=z))\n",
    "    \n",
    "@app.route('/abc/<x>/<y>/<z>')\n",
    "def abc(x,y,z):\n",
    "    return render_template('index.html', message=str(engine.execute(\"select * from \"+x+\" Where \"+y+\" = \"+z).fetchall()))\n",
    "\n",
    "@app.route(\"/table\")\n",
    "def tab():\n",
    "    test = engine.execute(\"select * from Described_Description Where square_feet=75\").fetchall();\n",
    "    columns=str(engine.execute(\"select * from Described_Description Where square_feet=75\").keys());\n",
    "    return render_template('table.html', test=test, columns=columns)\n",
    "    #return redirect(url_for('asb'))\n",
    "# run the application\n",
    "if __name__==\"__main__\":\n",
    "     app.run(port=5000, debug=False)"
   ]
  },
  {
   "cell_type": "code",
   "execution_count": null,
   "metadata": {},
   "outputs": [],
   "source": []
  },
  {
   "cell_type": "code",
   "execution_count": null,
   "metadata": {},
   "outputs": [],
   "source": []
  },
  {
   "cell_type": "code",
   "execution_count": null,
   "metadata": {},
   "outputs": [],
   "source": []
  }
 ],
 "metadata": {
  "kernelspec": {
   "display_name": "Python 3",
   "language": "python",
   "name": "python3"
  },
  "language_info": {
   "codemirror_mode": {
    "name": "ipython",
    "version": 3
   },
   "file_extension": ".py",
   "mimetype": "text/x-python",
   "name": "python",
   "nbconvert_exporter": "python",
   "pygments_lexer": "ipython3",
   "version": "3.7.1"
  }
 },
 "nbformat": 4,
 "nbformat_minor": 2
}
