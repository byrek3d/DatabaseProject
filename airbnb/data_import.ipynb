{
 "cells": [
  {
   "cell_type": "markdown",
   "metadata": {},
   "source": [
    "## Basic setting up"
   ]
  },
  {
   "cell_type": "code",
   "execution_count": 1,
   "metadata": {},
   "outputs": [],
   "source": [
    "import pandas as pd\n",
    "import numpy as np\n",
    "from sqlalchemy import create_engine\n",
    "import sqlalchemy\n",
    "import datetime"
   ]
  },
  {
   "cell_type": "code",
   "execution_count": 2,
   "metadata": {},
   "outputs": [],
   "source": [
    "barcelona_listings = pd.read_csv(\"barcelona_listings.csv\")\n",
    "berlin_listings = pd.read_csv(\"berlin_listings_filtered.csv\")\n",
    "madrid_listings = pd.read_csv(\"madrid_listings_filtered.csv\")\n",
    "listings = pd.concat([barcelona_listings, berlin_listings, madrid_listings], ignore_index=True)"
   ]
  },
  {
   "cell_type": "code",
   "execution_count": 3,
   "metadata": {},
   "outputs": [],
   "source": [
    "barcelona_reviews = pd.read_csv(\"barcelona_reviews.csv\")\n",
    "berlin_reviews = pd.read_csv(\"berlin_reviews.csv\")\n",
    "madrid_reviews = pd.read_csv(\"madrid_reviews.csv\")\n",
    "reviews = pd.concat([barcelona_reviews, berlin_reviews, madrid_reviews], ignore_index=True)"
   ]
  },
  {
   "cell_type": "code",
   "execution_count": 4,
   "metadata": {},
   "outputs": [],
   "source": [
    "barcelona_calendar = pd.read_csv(\"barcelona_calendar.csv\")\n",
    "berlin_calendar = pd.read_csv(\"berlin_calendar.csv\")\n",
    "madrid_calendar = pd.read_csv(\"madrid_calendar.csv\")\n",
    "calendar = pd.concat([barcelona_calendar, berlin_calendar, madrid_calendar], ignore_index=True)"
   ]
  },
  {
   "cell_type": "code",
   "execution_count": 5,
   "metadata": {},
   "outputs": [],
   "source": [
    "engine = create_engine(\"sqlite:////Users/gfotiadis/Temp useful/merged_project.db\")"
   ]
  },
  {
   "cell_type": "code",
   "execution_count": 6,
   "metadata": {},
   "outputs": [],
   "source": [
    "def null_count(x):\n",
    "    return listings[x].isna().sum()# / len(listings[x])\n",
    "\n",
    "def unique_count(x):\n",
    "    return listings.nunique()# / listings.shape[0] * 100\n",
    "\n",
    "#for i,c in enumerate(listings.columns):\n",
    " #   print(c, unique_count(c)[i])"
   ]
  },
  {
   "cell_type": "code",
   "execution_count": 7,
   "metadata": {},
   "outputs": [],
   "source": [
    "#db_name = \"project.db\""
   ]
  },
  {
   "cell_type": "code",
   "execution_count": 8,
   "metadata": {},
   "outputs": [],
   "source": [
    "#from_engine = sqlalchemy.create_engine(\"sqlite:///%s\" % db_name, execution_options={\"sqlite_raw_colnames\": True})"
   ]
  },
  {
   "cell_type": "markdown",
   "metadata": {},
   "source": [
    "## Import accommodates"
   ]
  },
  {
   "cell_type": "code",
   "execution_count": 9,
   "metadata": {
    "scrolled": true
   },
   "outputs": [],
   "source": [
    "df = pd.DataFrame(listings.accommodates.unique(), columns=[\"accommodates\"])"
   ]
  },
  {
   "cell_type": "code",
   "execution_count": 10,
   "metadata": {},
   "outputs": [],
   "source": [
    "#db_ac = pd.read_sql_table(\"Accommodation\", from_engine)"
   ]
  },
  {
   "cell_type": "code",
   "execution_count": 11,
   "metadata": {},
   "outputs": [],
   "source": [
    "#set_diff_df = pd.concat([db_ac, df, df]).drop_duplicates(keep=False)"
   ]
  },
  {
   "cell_type": "code",
   "execution_count": 12,
   "metadata": {},
   "outputs": [],
   "source": [
    "df.to_sql(\"Accommodation\", engine, if_exists=\"append\", index=False, dtype={\"accommodates\" : sqlalchemy.INT})"
   ]
  },
  {
   "cell_type": "code",
   "execution_count": 13,
   "metadata": {},
   "outputs": [
    {
     "data": {
      "text/plain": [
       "[(16,)]"
      ]
     },
     "execution_count": 13,
     "metadata": {},
     "output_type": "execute_result"
    }
   ],
   "source": [
    "engine.execute(\"select count(*) from Accommodation \").fetchall()"
   ]
  },
  {
   "cell_type": "markdown",
   "metadata": {},
   "source": [
    "## Import amenities"
   ]
  },
  {
   "cell_type": "code",
   "execution_count": 14,
   "metadata": {},
   "outputs": [],
   "source": [
    "amenities = pd.DataFrame(listings.amenities.unique(), columns=[\"amenities\"])"
   ]
  },
  {
   "cell_type": "code",
   "execution_count": 15,
   "metadata": {},
   "outputs": [],
   "source": [
    "temp = []\n",
    "for index, row in amenities.iterrows():\n",
    "    temp.append(row[\"amenities\"].split(','))"
   ]
  },
  {
   "cell_type": "code",
   "execution_count": 16,
   "metadata": {},
   "outputs": [],
   "source": [
    "flat_list = []\n",
    "for sublist in temp:\n",
    "    for item in sublist:\n",
    "        flat_list.append(item)"
   ]
  },
  {
   "cell_type": "code",
   "execution_count": 17,
   "metadata": {
    "scrolled": true
   },
   "outputs": [],
   "source": [
    "def remove_chars(item):\n",
    "    for c in item:\n",
    "        if c == \"{\" or c == \"}\" or c == \"'\" or c == '\"' or c == \"[\" or c == \"]\":\n",
    "            item = item.replace(c, \"\")\n",
    "        item = item.strip().lower()\n",
    "    return item"
   ]
  },
  {
   "cell_type": "code",
   "execution_count": 18,
   "metadata": {},
   "outputs": [],
   "source": [
    "new_list = []\n",
    "for item in flat_list:\n",
    "    new_list.append('\"' + remove_chars(item) + '\"')\n",
    "    "
   ]
  },
  {
   "cell_type": "code",
   "execution_count": 19,
   "metadata": {},
   "outputs": [],
   "source": [
    "new_list = list(set(new_list))"
   ]
  },
  {
   "cell_type": "code",
   "execution_count": 20,
   "metadata": {},
   "outputs": [],
   "source": [
    "new_list.remove('\"\"')"
   ]
  },
  {
   "cell_type": "code",
   "execution_count": 21,
   "metadata": {},
   "outputs": [
    {
     "data": {
      "text/plain": [
       "['\"indoor fireplace\"',\n",
       " '\"firm mattress\"',\n",
       " '\"lock on bedroom door\"',\n",
       " '\"accessible-height toilet\"',\n",
       " '\"other pet(s)\"',\n",
       " '\"ethernet connection\"',\n",
       " '\"fireplace guards\"',\n",
       " '\"outdoor seating\"',\n",
       " '\"carbon monoxide detector\"',\n",
       " '\"heated towel rack\"',\n",
       " '\"ev charger\"',\n",
       " '\"convection oven\"',\n",
       " '\"essentials\"',\n",
       " '\"amazon echo\"',\n",
       " '\"stove\"',\n",
       " '\"bed linens\"',\n",
       " '\"wide doorway\"',\n",
       " '\"mountain view\"',\n",
       " '\"lockbox\"',\n",
       " '\"ceiling fan\"',\n",
       " '\"hot water\"',\n",
       " '\"heated floors\"',\n",
       " '\"warming drawer\"',\n",
       " '\"ground floor access\"',\n",
       " '\"printer\"',\n",
       " '\"gas oven\"',\n",
       " '\"translation missing: en.hosting_amenity_50\"',\n",
       " '\"mudroom\"',\n",
       " '\"microwave\"',\n",
       " '\"pack ’n play/travel crib\"',\n",
       " '\"hbo go\"',\n",
       " '\"pets allowed\"',\n",
       " '\"full kitchen\"',\n",
       " '\"air purifier\"',\n",
       " '\"children’s books and toys\"',\n",
       " '\"hammock\"',\n",
       " '\"handheld shower head\"',\n",
       " '\"crib\"',\n",
       " '\"private entrance\"',\n",
       " '\"bath towel\"',\n",
       " '\"luggage dropoff allowed\"',\n",
       " '\"mobile hoist\"',\n",
       " '\"sound system\"',\n",
       " '\"waterfront\"',\n",
       " '\"gym\"',\n",
       " '\"memory foam mattress\"',\n",
       " '\"roll-in shower\"',\n",
       " '\"flat path to front door\"',\n",
       " '\"ceiling hoist\"',\n",
       " '\"sauna\"',\n",
       " '\"host greets you\"',\n",
       " '\"extra pillows and blankets\"',\n",
       " '\"24-hour check-in\"',\n",
       " '\"toilet paper\"',\n",
       " '\"outdoor parking\"',\n",
       " '\"private living room\"',\n",
       " '\"steam oven\"',\n",
       " '\"smart lock\"',\n",
       " '\"hot tub\"',\n",
       " '\"body soap\"',\n",
       " '\"game console\"',\n",
       " '\"fixed grab bars for shower\"',\n",
       " '\"lake access\"',\n",
       " '\"wine cooler\"',\n",
       " '\"step-free access\"',\n",
       " '\"building staff\"',\n",
       " '\"cleaning before checkout\"',\n",
       " '\"standing valet\"',\n",
       " '\"long term stays allowed\"',\n",
       " '\"room-darkening shades\"',\n",
       " '\"table corner guards\"',\n",
       " '\"babysitter recommendations\"',\n",
       " '\"shared pool\"',\n",
       " '\"beachfront\"',\n",
       " '\"smart tv\"',\n",
       " '\"cat(s)\"',\n",
       " '\"suitable for events\"',\n",
       " '\"wheelchair accessible\"',\n",
       " '\"doorman\"',\n",
       " '\"formal dining area\"',\n",
       " '\"pool with pool hoist\"',\n",
       " '\"beach view\"',\n",
       " '\"sun loungers\"',\n",
       " '\"pocket wifi\"',\n",
       " '\"dishwasher\"',\n",
       " '\"wide clearance to bed\"',\n",
       " '\"shampoo\"',\n",
       " '\"dog(s)\"',\n",
       " '\"internet\"',\n",
       " '\"smoking allowed\"',\n",
       " '\"shower chair\"',\n",
       " '\"translation missing: en.hosting_amenity_49\"',\n",
       " '\"rain shower\"',\n",
       " '\"terrace\"',\n",
       " '\"dishes and silverware\"',\n",
       " '\"children’s dinnerware\"',\n",
       " '\"other\"',\n",
       " '\"bbq grill\"',\n",
       " '\"netflix\"',\n",
       " '\"wide entryway\"',\n",
       " '\"bathtub\"',\n",
       " '\"well-lit path to entrance\"',\n",
       " '\"window guards\"',\n",
       " '\"balcony\"',\n",
       " '\"exercise equipment\"',\n",
       " '\"private pool\"',\n",
       " '\"free street parking\"',\n",
       " '\"hair dryer\"',\n",
       " '\"outlet covers\"',\n",
       " '\"cable tv\"',\n",
       " '\"breakfast\"',\n",
       " '\"en suite bathroom\"',\n",
       " '\"pool cover\"',\n",
       " '\"free parking on premises\"',\n",
       " '\"bathtub with bath chair\"',\n",
       " '\"laptop friendly workspace\"',\n",
       " '\"bidet\"',\n",
       " '\"elevator\"',\n",
       " '\"fixed grab bars for toilet\"',\n",
       " '\"espresso machine\"',\n",
       " '\"washer / dryer\"',\n",
       " '\"buzzer/wireless intercom\"',\n",
       " '\"dvd player\"',\n",
       " '\"self check-in\"',\n",
       " '\"paid parking on premises\"',\n",
       " '\"paid parking off premises\"',\n",
       " '\"jetted tub\"',\n",
       " '\"toilet\"',\n",
       " '\"hangers\"',\n",
       " '\"beach essentials\"',\n",
       " '\"single level home\"',\n",
       " '\"fax machine\"',\n",
       " '\"touchless faucets\"',\n",
       " '\"pets live on this property\"',\n",
       " '\"wide hallway clearance\"',\n",
       " '\"safety card\"',\n",
       " '\"hot water kettle\"',\n",
       " '\"coffee maker\"',\n",
       " '\"fire extinguisher\"',\n",
       " '\"bedroom comforts\"',\n",
       " '\"disabled parking spot\"',\n",
       " '\"oven\"',\n",
       " '\"mini fridge\"',\n",
       " '\"central air conditioning\"',\n",
       " '\"high chair\"',\n",
       " '\"shared gym\"',\n",
       " '\"tv\"',\n",
       " '\"electric profiling bed\"',\n",
       " '\"dryer\"',\n",
       " '\"patio or balcony\"',\n",
       " '\"baby bath\"',\n",
       " '\"murphy bed\"',\n",
       " '\"kitchenette\"',\n",
       " '\"keypad\"',\n",
       " '\"cooking basics\"',\n",
       " '\"wide clearance to shower\"',\n",
       " '\"ski-in/ski-out\"',\n",
       " '\"smoke detector\"',\n",
       " '\"baby monitor\"',\n",
       " '\"breakfast table\"',\n",
       " '\"kitchen\"',\n",
       " '\"day bed\"',\n",
       " '\"wifi\"',\n",
       " '\"accessible-height bed\"',\n",
       " '\"soaking tub\"',\n",
       " '\"private bathroom\"',\n",
       " '\"pillow-top mattress\"',\n",
       " '\"pool\"',\n",
       " '\"heating\"',\n",
       " '\"bathroom essentials\"',\n",
       " '\"walk-in shower\"',\n",
       " '\"changing table\"',\n",
       " '\"refrigerator\"',\n",
       " '\"stair gates\"',\n",
       " '\"family/kid friendly\"',\n",
       " '\"first aid kit\"',\n",
       " '\"garden or backyard\"',\n",
       " '\"washer\"',\n",
       " '\"air conditioning\"',\n",
       " '\"iron\"',\n",
       " '\"projector and screen\"']"
      ]
     },
     "execution_count": 21,
     "metadata": {},
     "output_type": "execute_result"
    }
   ],
   "source": [
    "new_list"
   ]
  },
  {
   "cell_type": "code",
   "execution_count": 22,
   "metadata": {},
   "outputs": [],
   "source": [
    "amenities = pd.DataFrame(new_list, columns=[\"amenities\"])"
   ]
  },
  {
   "cell_type": "code",
   "execution_count": 23,
   "metadata": {},
   "outputs": [],
   "source": [
    "#db_amenities = pd.read_sql_table(\"Amenities\", from_engine)"
   ]
  },
  {
   "cell_type": "code",
   "execution_count": 24,
   "metadata": {},
   "outputs": [],
   "source": [
    "#set_diff_amenities = pd.concat([db_amenities, amenities, amenities], ignore_index=True).drop_duplicates(keep=False)"
   ]
  },
  {
   "cell_type": "code",
   "execution_count": 25,
   "metadata": {
    "scrolled": true
   },
   "outputs": [],
   "source": [
    "#set_diff_amenities.amenities.isin(amenities.amenities).any()"
   ]
  },
  {
   "cell_type": "code",
   "execution_count": 26,
   "metadata": {
    "scrolled": true
   },
   "outputs": [],
   "source": [
    "#print(len(amenities.amenities), len(set_diff_amenities.amenities), len(amenities.amenities) + len(set_diff_amenities.amenities), )"
   ]
  },
  {
   "cell_type": "code",
   "execution_count": 27,
   "metadata": {},
   "outputs": [],
   "source": [
    "#print(len(pd.concat([amenities, set_diff_amenities], ignore_index=True)))"
   ]
  },
  {
   "cell_type": "code",
   "execution_count": 28,
   "metadata": {},
   "outputs": [],
   "source": [
    "amenities.to_sql(\"Amenities\", engine, if_exists=\"append\", index=False, dtype={\"amenities\" : sqlalchemy.CHAR(32)})"
   ]
  },
  {
   "cell_type": "code",
   "execution_count": 29,
   "metadata": {},
   "outputs": [
    {
     "data": {
      "text/plain": [
       "42094"
      ]
     },
     "execution_count": 29,
     "metadata": {},
     "output_type": "execute_result"
    }
   ],
   "source": [
    "listings.id.count()"
   ]
  },
  {
   "cell_type": "code",
   "execution_count": 30,
   "metadata": {},
   "outputs": [
    {
     "data": {
      "text/plain": [
       "37765"
      ]
     },
     "execution_count": 30,
     "metadata": {},
     "output_type": "execute_result"
    }
   ],
   "source": [
    "len(listings[\"amenities\"].unique() == listings.amenities.unique())"
   ]
  },
  {
   "cell_type": "markdown",
   "metadata": {},
   "source": [
    "## Import Bathrooms"
   ]
  },
  {
   "cell_type": "code",
   "execution_count": 31,
   "metadata": {},
   "outputs": [],
   "source": [
    "bathrooms = pd.DataFrame(listings.bathrooms.unique(), columns=[\"bathrooms\"])"
   ]
  },
  {
   "cell_type": "code",
   "execution_count": 32,
   "metadata": {},
   "outputs": [],
   "source": [
    "bathrooms = bathrooms.dropna()"
   ]
  },
  {
   "cell_type": "code",
   "execution_count": 33,
   "metadata": {},
   "outputs": [],
   "source": [
    "bathrooms.to_sql(\"Bathrooms\", engine, if_exists=\"append\", index=False, dtype={\"bathrooms\" : sqlalchemy.FLOAT})"
   ]
  },
  {
   "cell_type": "markdown",
   "metadata": {},
   "source": [
    "## Import Description"
   ]
  },
  {
   "cell_type": "code",
   "execution_count": 38,
   "metadata": {},
   "outputs": [],
   "source": [
    "description = pd.DataFrame({\"description_id\": np.arange(len(listings.description)), \"summary\": listings.summary, \"space\": listings.space, \"description\": listings.description, \"neighbourhood_overview\": listings.neighborhood_overview,\"notes\":listings.notes,\"transit\":listings.transit,\"access\":listings.access,\"picture_url\":listings.picture_url,\"square_feet\": listings.square_feet, \"id\": listings.id})"
   ]
  },
  {
   "cell_type": "code",
   "execution_count": 39,
   "metadata": {},
   "outputs": [],
   "source": [
    "description[\"space\"].fillna(\"\",inplace=True)\n",
    "description[\"neighbourhood_overview\"].fillna(\"\",inplace=True)\n",
    "description[\"description\"].fillna(\"\",inplace=True)\n",
    "description[\"summary\"].fillna(\"\",inplace=True)\n",
    "description[\"notes\"].fillna(\"\",inplace=True)\n",
    "description[\"transit\"].fillna(\"\",inplace=True)\n",
    "description[\"access\"].fillna(\"\",inplace=True)\n",
    "description[\"picture_url\"].fillna(\"\",inplace=True)\n",
    "description[\"square_feet\"].fillna(-1,inplace=True)\n"
   ]
  },
  {
   "cell_type": "code",
   "execution_count": 40,
   "metadata": {},
   "outputs": [],
   "source": [
    "description.to_sql(\"Described_Description\", engine, if_exists=\"append\", index=False, dtype={\"description_id\": sqlalchemy.INT, \"summary\": sqlalchemy.VARCHAR(1024), \"space\": sqlalchemy.VARCHAR(1024), \"description\": sqlalchemy.VARCHAR(1024), \"neighbourhood_overview\": sqlalchemy.VARCHAR(1024),\"notes\":sqlalchemy.VARCHAR(1024),\"transit\": sqlalchemy.VARCHAR(1024),\"access\": sqlalchemy.VARCHAR(1024),\"picture_url\":sqlalchemy.CHAR(128),\"square_feet\": sqlalchemy.FLOAT, \"id\": sqlalchemy.INT})"
   ]
  },
  {
   "cell_type": "markdown",
   "metadata": {},
   "source": [
    "## Import bedding"
   ]
  },
  {
   "cell_type": "code",
   "execution_count": 41,
   "metadata": {},
   "outputs": [],
   "source": [
    "bedding = pd.DataFrame({\"beds\": listings.beds, \"bed_type\": listings.bed_type})"
   ]
  },
  {
   "cell_type": "code",
   "execution_count": 42,
   "metadata": {},
   "outputs": [],
   "source": [
    "bedding = bedding.fillna(0).drop_duplicates()"
   ]
  },
  {
   "cell_type": "code",
   "execution_count": 43,
   "metadata": {},
   "outputs": [],
   "source": [
    "bedding.to_sql(\"Bedding\", engine, if_exists=\"append\", index=False, dtype={\"beds\" : sqlalchemy.FLOAT, \"bed_type\" : sqlalchemy.CHAR(32)})"
   ]
  },
  {
   "cell_type": "markdown",
   "metadata": {},
   "source": [
    "## Import Bedrooms"
   ]
  },
  {
   "cell_type": "code",
   "execution_count": 44,
   "metadata": {},
   "outputs": [],
   "source": [
    "bedrooms = pd.DataFrame({\"bedrooms\": listings.bedrooms})"
   ]
  },
  {
   "cell_type": "code",
   "execution_count": 45,
   "metadata": {},
   "outputs": [],
   "source": [
    "bedrooms = bedrooms.dropna().drop_duplicates()"
   ]
  },
  {
   "cell_type": "code",
   "execution_count": 48,
   "metadata": {},
   "outputs": [],
   "source": [
    "bedrooms.to_sql(\"Bedrooms\", engine, if_exists=\"append\", index=False, dtype={\"bedrooms\" : sqlalchemy.INT})"
   ]
  },
  {
   "cell_type": "markdown",
   "metadata": {},
   "source": [
    "## Import Room"
   ]
  },
  {
   "cell_type": "code",
   "execution_count": 49,
   "metadata": {},
   "outputs": [],
   "source": [
    "room = pd.DataFrame({\"room_type\": listings.room_type})"
   ]
  },
  {
   "cell_type": "code",
   "execution_count": 50,
   "metadata": {},
   "outputs": [],
   "source": [
    "room = room.drop_duplicates()"
   ]
  },
  {
   "cell_type": "code",
   "execution_count": 51,
   "metadata": {},
   "outputs": [],
   "source": [
    "room.to_sql(\"Room\", engine, if_exists=\"append\", index=False, dtype={\"room_type\" : sqlalchemy.CHAR(32)})"
   ]
  },
  {
   "cell_type": "markdown",
   "metadata": {},
   "source": [
    "## Import Property"
   ]
  },
  {
   "cell_type": "code",
   "execution_count": 52,
   "metadata": {},
   "outputs": [],
   "source": [
    "prop = pd.DataFrame({\"property_type\": listings.property_type})"
   ]
  },
  {
   "cell_type": "code",
   "execution_count": 53,
   "metadata": {},
   "outputs": [],
   "source": [
    "prop = prop.drop_duplicates()"
   ]
  },
  {
   "cell_type": "code",
   "execution_count": 54,
   "metadata": {},
   "outputs": [],
   "source": [
    "prop.to_sql(\"Property\", engine, if_exists=\"append\", index=False, dtype={\"propery_type\" : sqlalchemy.CHAR(32)})"
   ]
  },
  {
   "cell_type": "markdown",
   "metadata": {},
   "source": [
    "## Import Reviewer"
   ]
  },
  {
   "cell_type": "code",
   "execution_count": 55,
   "metadata": {},
   "outputs": [],
   "source": [
    "reviewer = pd.DataFrame({\"reviewer_id\": reviews.reviewer_id, \"reviewer_name\" : reviews.reviewer_name})"
   ]
  },
  {
   "cell_type": "code",
   "execution_count": 56,
   "metadata": {},
   "outputs": [],
   "source": [
    "reviewer = reviewer.drop_duplicates().drop(174201).drop(651249)"
   ]
  },
  {
   "cell_type": "code",
   "execution_count": 57,
   "metadata": {
    "scrolled": true
   },
   "outputs": [
    {
     "data": {
      "text/html": [
       "<div>\n",
       "<style scoped>\n",
       "    .dataframe tbody tr th:only-of-type {\n",
       "        vertical-align: middle;\n",
       "    }\n",
       "\n",
       "    .dataframe tbody tr th {\n",
       "        vertical-align: top;\n",
       "    }\n",
       "\n",
       "    .dataframe thead th {\n",
       "        text-align: right;\n",
       "    }\n",
       "</style>\n",
       "<table border=\"1\" class=\"dataframe\">\n",
       "  <thead>\n",
       "    <tr style=\"text-align: right;\">\n",
       "      <th></th>\n",
       "      <th>reviewer_id</th>\n",
       "      <th>reviewer_name</th>\n",
       "    </tr>\n",
       "  </thead>\n",
       "  <tbody>\n",
       "  </tbody>\n",
       "</table>\n",
       "</div>"
      ],
      "text/plain": [
       "Empty DataFrame\n",
       "Columns: [reviewer_id, reviewer_name]\n",
       "Index: []"
      ]
     },
     "execution_count": 57,
     "metadata": {},
     "output_type": "execute_result"
    }
   ],
   "source": [
    "reviewer[reviewer.duplicated(['reviewer_id'], keep=False)]"
   ]
  },
  {
   "cell_type": "code",
   "execution_count": 58,
   "metadata": {},
   "outputs": [],
   "source": [
    "reviewer.to_sql(\"Reviewer\", engine, if_exists=\"append\", index=False, dtype={\"reviewer_id\" : sqlalchemy.INT, \"reviewer_name\" : sqlalchemy.CHAR(32)})"
   ]
  },
  {
   "cell_type": "markdown",
   "metadata": {},
   "source": [
    "## Import Review"
   ]
  },
  {
   "cell_type": "code",
   "execution_count": 59,
   "metadata": {},
   "outputs": [],
   "source": [
    "review = pd.DataFrame({\"review_id\" : np.arange(len(reviews.listing_id)), \"review_date\" : reviews.date, \"comments\" : reviews.comments})"
   ]
  },
  {
   "cell_type": "code",
   "execution_count": 60,
   "metadata": {},
   "outputs": [],
   "source": [
    "for i in review.index:\n",
    "    review.at[i, \"review_date\"] = datetime.datetime.strptime(str(review.at[i, \"review_date\"]), \"%Y-%m-%d\").date()"
   ]
  },
  {
   "cell_type": "code",
   "execution_count": 61,
   "metadata": {},
   "outputs": [],
   "source": [
    "review.to_sql(\"Review\", engine, if_exists=\"append\", index=False, dtype={\"review_id\" : sqlalchemy.INT, \"review_date\" : sqlalchemy.DATE, \"comments\" : sqlalchemy.VARCHAR(1024)})"
   ]
  },
  {
   "cell_type": "markdown",
   "metadata": {},
   "source": [
    "## Import Reviewed"
   ]
  },
  {
   "cell_type": "code",
   "execution_count": 62,
   "metadata": {},
   "outputs": [],
   "source": [
    "reviewed = pd.DataFrame({\"id\": reviews.listing_id, \"reviewer_id\" : reviews.reviewer_id, \"review_id\" : review.review_id})"
   ]
  },
  {
   "cell_type": "code",
   "execution_count": 63,
   "metadata": {},
   "outputs": [],
   "source": [
    "reviewed.to_sql(\"Reviewed\", engine, if_exists=\"append\", index=False, dtype={\"id\" : sqlalchemy.INT, \"reviewer_id\" : sqlalchemy.INT, \"review_id\" : sqlalchemy.INT})"
   ]
  },
  {
   "cell_type": "markdown",
   "metadata": {},
   "source": [
    "## Import Pricing"
   ]
  },
  {
   "cell_type": "code",
   "execution_count": 64,
   "metadata": {},
   "outputs": [],
   "source": [
    "pricing = pd.DataFrame({\"price\": listings.price, \"weekly_price\" : listings.weekly_price, \"monthly_price\": listings.monthly_price, \"security_deposit\" : listings.security_deposit, \"cleaning_fee\" : listings.cleaning_fee, \"guests_included\" : listings.guests_included, \"extra_people\" : listings.extra_people, \"minimum_nights\" : listings.minimum_nights, \"maximum_nights\" : listings.maximum_nights, \"id\" : listings.id})"
   ]
  },
  {
   "cell_type": "code",
   "execution_count": 65,
   "metadata": {},
   "outputs": [],
   "source": [
    "for i in pricing.index:\n",
    "    pricing.at[i, \"price\"] = float(str(pricing.at[i, \"price\"])[1:].replace(\",\", \"\"))\n",
    "    if not pd.isnull(pricing.at[i, \"weekly_price\"]):\n",
    "        pricing.at[i, \"weekly_price\"] = float(str(pricing.at[i, \"weekly_price\"])[1:].replace(\",\", \"\"))\n",
    "    if not pd.isnull(pricing.at[i, \"monthly_price\"]):\n",
    "        pricing.at[i, \"monthly_price\"] = float(str(pricing.at[i, \"monthly_price\"])[1:].replace(\",\", \"\"))\n",
    "    if not pd.isnull(pricing.at[i, \"security_deposit\"]):\n",
    "        pricing.at[i, \"security_deposit\"] = float(str(pricing.at[i, \"security_deposit\"])[1:].replace(\",\", \"\"))\n",
    "    if not pd.isnull(pricing.at[i, \"cleaning_fee\"]):\n",
    "        pricing.at[i, \"cleaning_fee\"] = float(str(pricing.at[i, \"cleaning_fee\"])[1:].replace(\",\", \"\"))\n",
    "    if not pd.isnull(pricing.at[i, \"extra_people\"]):\n",
    "        pricing.at[i, \"extra_people\"] = float(str(pricing.at[i, \"extra_people\"])[1:].replace(\",\", \"\"))"
   ]
  },
  {
   "cell_type": "code",
   "execution_count": 66,
   "metadata": {},
   "outputs": [],
   "source": [
    "for i in pricing.index:\n",
    "    if pd.isnull(pricing.at[i, \"weekly_price\"]):\n",
    "        pricing.at[i, \"weekly_price\"] = pricing.at[i, \"price\"] * 7\n",
    "    if pd.isnull(pricing.at[i, \"monthly_price\"]):\n",
    "        pricing.at[i, \"monthly_price\"] = pricing.at[i, \"price\"] * 30\n",
    "    if pd.isnull(pricing.at[i, \"security_deposit\"]):\n",
    "        pricing.at[i, \"security_deposit\"] = 0\n",
    "    if pd.isnull(pricing.at[i, \"cleaning_fee\"]):\n",
    "        pricing.at[i, \"cleaning_fee\"] = 0"
   ]
  },
  {
   "cell_type": "code",
   "execution_count": 68,
   "metadata": {},
   "outputs": [],
   "source": [
    "pricing.to_sql(\"Pricing\", engine, if_exists=\"append\", index=False, dtype={\"price\": sqlalchemy.FLOAT, \"weekly_price\" : sqlalchemy.FLOAT, \"monthly_price\": sqlalchemy.FLOAT, \"security_deposit\" : sqlalchemy.FLOAT, \"cleaning_fee\" : sqlalchemy.FLOAT, \"guests_included\" : sqlalchemy.INT, \"extra_people\" : sqlalchemy.FLOAT, \"minimum_nights\" : sqlalchemy.INT, \"maximum_nights\" : sqlalchemy.INT, \"id\" : sqlalchemy.INT})"
   ]
  },
  {
   "cell_type": "markdown",
   "metadata": {},
   "source": [
    "## Import Verification"
   ]
  },
  {
   "cell_type": "code",
   "execution_count": 69,
   "metadata": {},
   "outputs": [],
   "source": [
    "verification = pd.DataFrame(listings.host_verifications.unique(), columns=[\"host_verifications\"])"
   ]
  },
  {
   "cell_type": "code",
   "execution_count": 70,
   "metadata": {},
   "outputs": [],
   "source": [
    "temp = []\n",
    "for index, row in verification.iterrows():\n",
    "    temp.append(row[\"host_verifications\"].split(','))"
   ]
  },
  {
   "cell_type": "code",
   "execution_count": 71,
   "metadata": {},
   "outputs": [],
   "source": [
    "flat_list = []\n",
    "for sublist in temp:\n",
    "    for item in sublist:\n",
    "        flat_list.append(item)"
   ]
  },
  {
   "cell_type": "code",
   "execution_count": 72,
   "metadata": {},
   "outputs": [],
   "source": [
    "new_list = []\n",
    "for item in flat_list:\n",
    "    new_list.append('\"' + remove_chars(item) + '\"')"
   ]
  },
  {
   "cell_type": "code",
   "execution_count": 73,
   "metadata": {},
   "outputs": [],
   "source": [
    "new_list = list(set(new_list))"
   ]
  },
  {
   "cell_type": "code",
   "execution_count": 74,
   "metadata": {},
   "outputs": [],
   "source": [
    "new_list.remove('\"\"')"
   ]
  },
  {
   "cell_type": "code",
   "execution_count": 75,
   "metadata": {},
   "outputs": [],
   "source": [
    "verification = pd.DataFrame({\"host_verifications\" : new_list})"
   ]
  },
  {
   "cell_type": "code",
   "execution_count": 76,
   "metadata": {},
   "outputs": [],
   "source": [
    "verification.to_sql(\"Verification\", engine, if_exists=\"append\", index=False, dtype={\"host_verifications\" : sqlalchemy.CHAR(32)})"
   ]
  },
  {
   "cell_type": "markdown",
   "metadata": {},
   "source": [
    "## Import Host"
   ]
  },
  {
   "cell_type": "code",
   "execution_count": 138,
   "metadata": {},
   "outputs": [],
   "source": [
    "host = pd.DataFrame({\"host_id\" : listings.host_id, \"host_name\" : listings.host_name, \"host_since\" : listings.host_since, \"host_about\" : listings.host_about, \"host_response_time\" : listings.host_response_time, \"host_response_rate\" : listings.host_response_rate, \"host_neighbourhood\" : listings.host_neighbourhood, \"host_country_code\" : \"ES\", \"host_city\" : \"Barcelona\", \"host_name\" : listings.host_name, \"host_thumbnail_url\" : listings.host_thumbnail_url, \"host_picture_url\" : listings.host_picture_url})"
   ]
  },
  {
   "cell_type": "code",
   "execution_count": 139,
   "metadata": {},
   "outputs": [],
   "source": [
    "host = host.fillna(\"Unknown\")"
   ]
  },
  {
   "cell_type": "code",
   "execution_count": 140,
   "metadata": {},
   "outputs": [],
   "source": [
    "for i in host.index:\n",
    "    host.at[i, \"host_since\"] = datetime.datetime.strptime(str(host.at[i, \"host_since\"]), \"%Y-%m-%d\").date()"
   ]
  },
  {
   "cell_type": "code",
   "execution_count": 141,
   "metadata": {},
   "outputs": [],
   "source": [
    "host = host.drop_duplicates()"
   ]
  },
  {
   "cell_type": "code",
   "execution_count": 119,
   "metadata": {},
   "outputs": [],
   "source": [
    "dups = host[host.duplicated(['host_id'], keep=False)]"
   ]
  },
  {
   "cell_type": "code",
   "execution_count": 121,
   "metadata": {},
   "outputs": [],
   "source": [
    "dups_index = dups.index[np.where(dups[\"host_response_time\"] == \"Unknown\")]"
   ]
  },
  {
   "cell_type": "code",
   "execution_count": 142,
   "metadata": {
    "scrolled": false
   },
   "outputs": [],
   "source": [
    "host = host.drop(dups_index)"
   ]
  },
  {
   "cell_type": "code",
   "execution_count": 144,
   "metadata": {},
   "outputs": [],
   "source": [
    "host.to_sql(\"Host\", engine, if_exists=\"append\", index=False, dtype={\"host_id\" : sqlalchemy.CHAR(32), \"host_since\" : sqlalchemy.DATE, \"host_about\" : sqlalchemy.VARCHAR(1024), \"host_response_time\" : sqlalchemy.CHAR(32), \"host_response_rate\" : sqlalchemy.CHAR(32), \"host_neighbourhood\" : sqlalchemy.CHAR(32), \"host_country_code\" : sqlalchemy.CHAR(2), \"host_city\" : sqlalchemy.CHAR(32), \"host_url\" : sqlalchemy.CHAR(32), \"host_name\" : sqlalchemy.CHAR(32), \"host_thumbnail_url\" : sqlalchemy.CHAR(32), \"host_picture_url\" : sqlalchemy.CHAR(32)})"
   ]
  },
  {
   "cell_type": "markdown",
   "metadata": {},
   "source": [
    "## Import verified_by"
   ]
  },
  {
   "cell_type": "code",
   "execution_count": 145,
   "metadata": {},
   "outputs": [],
   "source": [
    "verified_by = pd.DataFrame({\"host_id\" : listings.host_id, \"host_verifications\" : listings.host_verifications})"
   ]
  },
  {
   "cell_type": "code",
   "execution_count": 146,
   "metadata": {},
   "outputs": [],
   "source": [
    "verified_by = verified_by.drop_duplicates()"
   ]
  },
  {
   "cell_type": "code",
   "execution_count": 147,
   "metadata": {},
   "outputs": [],
   "source": [
    "verified_by.to_sql(\"Verified_by\", engine, if_exists=\"append\", index=False, dtype={\"host_id\" : sqlalchemy.INT, \"host_verifications\" : sqlalchemy.CHAR(32)})"
   ]
  },
  {
   "cell_type": "markdown",
   "metadata": {},
   "source": [
    "## Import Calendar"
   ]
  },
  {
   "cell_type": "code",
   "execution_count": 148,
   "metadata": {},
   "outputs": [],
   "source": [
    "cal = pd.DataFrame({\"date\" : calendar.date.unique()})"
   ]
  },
  {
   "cell_type": "code",
   "execution_count": 149,
   "metadata": {},
   "outputs": [],
   "source": [
    "for i in cal.index:\n",
    "    cal.at[i, \"date\"] = datetime.datetime.strptime(str(cal.at[i, \"date\"]), \"%Y-%m-%d\").date()"
   ]
  },
  {
   "cell_type": "code",
   "execution_count": 150,
   "metadata": {},
   "outputs": [],
   "source": [
    "cal.to_sql(\"Calendar\", engine, if_exists=\"append\", index=False, dtype={\"date\" : sqlalchemy.DATE})"
   ]
  },
  {
   "cell_type": "markdown",
   "metadata": {},
   "source": [
    "## Import Available_at"
   ]
  },
  {
   "cell_type": "code",
   "execution_count": 151,
   "metadata": {},
   "outputs": [],
   "source": [
    "avail = pd.DataFrame({\"id\" : calendar.listing_id, \"date\" : calendar.date, \"price\" : calendar.price, \"available\" : calendar.available})"
   ]
  },
  {
   "cell_type": "code",
   "execution_count": 152,
   "metadata": {},
   "outputs": [],
   "source": [
    "for i in calendar.index:\n",
    "    avail.at[i, \"date\"] = datetime.datetime.strptime(str(calendar.at[i, \"date\"]), \"%Y-%m-%d\").date()"
   ]
  },
  {
   "cell_type": "code",
   "execution_count": 153,
   "metadata": {},
   "outputs": [],
   "source": [
    "for i in avail.index:\n",
    "    if not pd.isna(avail.at[i, \"price\"]):\n",
    "        avail.at[i, \"price\"] = float(str(avail.at[i, \"price\"]).replace(\",\",\"\").replace(\"$\", \"\"))"
   ]
  },
  {
   "cell_type": "code",
   "execution_count": 154,
   "metadata": {},
   "outputs": [],
   "source": [
    "avail = avail.fillna(-1)"
   ]
  },
  {
   "cell_type": "code",
   "execution_count": 155,
   "metadata": {},
   "outputs": [
    {
     "name": "stderr",
     "output_type": "stream",
     "text": [
      "/anaconda3/lib/python3.6/site-packages/pandas/io/sql.py:1144: UserWarning: The provided table name 'Available_at' is not found exactly as such in the database after writing the table, possibly due to case sensitivity issues. Consider using lower case table names.\n",
      "  warnings.warn(msg, UserWarning)\n"
     ]
    }
   ],
   "source": [
    "avail.to_sql(\"Available_at\", engine, if_exists=\"append\", index=False, dtype={\"id\" : sqlalchemy.INT, \"date\" : sqlalchemy.DATE, \"price\" : sqlalchemy.INT, \"available\" : sqlalchemy.CHAR(1)})"
   ]
  },
  {
   "cell_type": "markdown",
   "metadata": {},
   "source": [
    "## Import Policy"
   ]
  },
  {
   "cell_type": "code",
   "execution_count": 157,
   "metadata": {},
   "outputs": [],
   "source": [
    "reduced = pd.DataFrame({\"cancellation_policy\" : listings[\"cancellation_policy\"]})"
   ]
  },
  {
   "cell_type": "code",
   "execution_count": 158,
   "metadata": {},
   "outputs": [],
   "source": [
    "reduced = reduced.drop_duplicates()"
   ]
  },
  {
   "cell_type": "code",
   "execution_count": 159,
   "metadata": {},
   "outputs": [],
   "source": [
    "reduced.to_sql(\"Policy\", engine, if_exists=\"append\", index=False, dtype={\"cancellation_policy\" : sqlalchemy.CHAR(32)})"
   ]
  },
  {
   "cell_type": "markdown",
   "metadata": {},
   "source": [
    "## Import Score"
   ]
  },
  {
   "cell_type": "code",
   "execution_count": 160,
   "metadata": {},
   "outputs": [],
   "source": [
    "score = pd.DataFrame({\"review_scores_rating\" : listings.review_scores_rating, \"review_scores_accuracy\" : listings.review_scores_accuracy, \"review_scores_cleanliness\" : listings.review_scores_cleanliness, \"review_scores_checkin\" : listings.review_scores_checkin, \"review_scores_communication\" : listings.review_scores_communication, \"review_scores_location\" : listings.review_scores_location, \"review_scores_value\" : listings.review_scores_value, \"id\" : listings.id})"
   ]
  },
  {
   "cell_type": "code",
   "execution_count": 161,
   "metadata": {
    "scrolled": true
   },
   "outputs": [],
   "source": [
    "score = score.fillna(-1)"
   ]
  },
  {
   "cell_type": "code",
   "execution_count": 163,
   "metadata": {},
   "outputs": [],
   "source": [
    "score.to_sql(\"Score\", engine, if_exists=\"append\", index=False, dtype={\"review_scores_rating\" : sqlalchemy.INT, \"review_scores_accuracy\" : sqlalchemy.INT, \"review_scores_cleanliness\" : sqlalchemy.INT, \"review_scores_checkin\" : sqlalchemy.INT, \"review_scores_communication\" : sqlalchemy.INT, \"review_scores_location\" : sqlalchemy.INT, \"review_scores_value\" : sqlalchemy.INT, \"id\" : sqlalchemy.INT})"
   ]
  },
  {
   "cell_type": "markdown",
   "metadata": {},
   "source": [
    "## Import Provide"
   ]
  },
  {
   "cell_type": "code",
   "execution_count": 164,
   "metadata": {},
   "outputs": [],
   "source": [
    "provide = listings[[\"id\", \"amenities\"]]"
   ]
  },
  {
   "cell_type": "code",
   "execution_count": 165,
   "metadata": {},
   "outputs": [],
   "source": [
    "temp2 = []\n",
    "for index, row in provide.iterrows():\n",
    "    temp2.append(row[\"amenities\"].split(','))"
   ]
  },
  {
   "cell_type": "code",
   "execution_count": 166,
   "metadata": {},
   "outputs": [],
   "source": [
    "removed_chars_list = []\n",
    "for l in temp2:\n",
    "    tmp = []\n",
    "    for a in l:\n",
    "        tmp.append(remove_chars(a))\n",
    "    removed_chars_list.append(tmp)"
   ]
  },
  {
   "cell_type": "code",
   "execution_count": 167,
   "metadata": {},
   "outputs": [],
   "source": [
    "ids = []\n",
    "amens = []\n",
    "for i, elem in enumerate(provide[\"id\"]):\n",
    "    for j in np.arange(len(removed_chars_list[i])):\n",
    "        ids.append(elem)\n",
    "        amens.append(removed_chars_list[i][j])\n",
    "        \n"
   ]
  },
  {
   "cell_type": "code",
   "execution_count": 168,
   "metadata": {},
   "outputs": [],
   "source": [
    "provides = pd.DataFrame({\"id\" : ids, \"amenities\" : amens})"
   ]
  },
  {
   "cell_type": "code",
   "execution_count": 169,
   "metadata": {
    "scrolled": true
   },
   "outputs": [],
   "source": [
    "provides = provides.drop_duplicates()"
   ]
  },
  {
   "cell_type": "code",
   "execution_count": 170,
   "metadata": {},
   "outputs": [],
   "source": [
    "provides.to_sql(\"Provides\", engine, if_exists=\"append\", index=False, dtype={\"id\" : sqlalchemy.INT, \"amenities\" : sqlalchemy.CHAR(32)})"
   ]
  },
  {
   "cell_type": "markdown",
   "metadata": {},
   "source": [
    "## Country"
   ]
  },
  {
   "cell_type": "code",
   "execution_count": 171,
   "metadata": {},
   "outputs": [],
   "source": [
    "country = [\"Spain\", \"Germany\"]\n",
    "c_code = [\"ES\", \"DE\"]"
   ]
  },
  {
   "cell_type": "code",
   "execution_count": 172,
   "metadata": {},
   "outputs": [],
   "source": [
    "da_country = pd.DataFrame({\"country\" : country, \"country_code\" : c_code})"
   ]
  },
  {
   "cell_type": "code",
   "execution_count": 173,
   "metadata": {},
   "outputs": [],
   "source": [
    "da_country.to_sql(\"Country\", engine, if_exists=\"append\", index=False, dtype={\"country_code\" : sqlalchemy.CHAR(2), \"country\" : sqlalchemy.CHAR(32)})"
   ]
  },
  {
   "cell_type": "markdown",
   "metadata": {},
   "source": [
    "## City"
   ]
  },
  {
   "cell_type": "code",
   "execution_count": 174,
   "metadata": {},
   "outputs": [],
   "source": [
    "city= [\"Barcelona\",\"Madrid\",\"Berlin\"]"
   ]
  },
  {
   "cell_type": "code",
   "execution_count": 175,
   "metadata": {},
   "outputs": [],
   "source": [
    "country_code = [\"ES\", \"ES\", \"DE\"]"
   ]
  },
  {
   "cell_type": "code",
   "execution_count": 176,
   "metadata": {},
   "outputs": [],
   "source": [
    "da_city = pd.DataFrame({\"city\" : city, \"country_code\" : country_code})"
   ]
  },
  {
   "cell_type": "code",
   "execution_count": 177,
   "metadata": {},
   "outputs": [],
   "source": [
    "da_city.to_sql(\"City\", engine, if_exists=\"append\", index=False, dtype={\"city\" : sqlalchemy.CHAR(32), \"country_code\" : sqlalchemy.CHAR(2)})"
   ]
  },
  {
   "cell_type": "markdown",
   "metadata": {},
   "source": [
    "### Neighbourhood"
   ]
  },
  {
   "cell_type": "code",
   "execution_count": 187,
   "metadata": {},
   "outputs": [],
   "source": [
    "nei = barcelona_listings[[\"neighbourhood\", \"country_code\", \"city\"]]\n",
    "for i in nei.index:\n",
    "    nei.at[i, \"city\"] = \"Barcelona\"\n",
    "nei = nei.drop_duplicates()\n",
    "nei.to_sql(\"Neighbourhood\", engine, if_exists=\"append\", index=False, dtype={\"Neighbourhood\" : sqlalchemy.CHAR(32), \"country_code\" : sqlalchemy.CHAR(2), \"city\" : sqlalchemy.CHAR(32)})"
   ]
  },
  {
   "cell_type": "code",
   "execution_count": 188,
   "metadata": {},
   "outputs": [],
   "source": [
    "nei = berlin_listings[[\"neighbourhood\", \"country_code\", \"city\"]]\n",
    "for i in nei.index:\n",
    "    nei.at[i, \"city\"] = \"Berlin\"\n",
    "nei = nei.drop_duplicates()\n",
    "nei.to_sql(\"Neighbourhood\", engine, if_exists=\"append\", index=False, dtype={\"Neighbourhood\" : sqlalchemy.CHAR(32), \"country_code\" : sqlalchemy.CHAR(2), \"city\" : sqlalchemy.CHAR(32)})"
   ]
  },
  {
   "cell_type": "code",
   "execution_count": 189,
   "metadata": {},
   "outputs": [],
   "source": [
    "nei = madrid_listings[[\"neighbourhood\", \"country_code\", \"city\"]]\n",
    "for i in nei.index:\n",
    "    nei.at[i, \"city\"] = \"Madrid\"\n",
    "nei = nei.drop_duplicates()\n",
    "nei.to_sql(\"Neighbourhood\", engine, if_exists=\"append\", index=False, dtype={\"Neighbourhood\" : sqlalchemy.CHAR(32), \"country_code\" : sqlalchemy.CHAR(2), \"city\" : sqlalchemy.CHAR(32)})"
   ]
  },
  {
   "cell_type": "markdown",
   "metadata": {},
   "source": [
    "## Import Listing"
   ]
  },
  {
   "cell_type": "code",
   "execution_count": 190,
   "metadata": {},
   "outputs": [
    {
     "name": "stderr",
     "output_type": "stream",
     "text": [
      "/anaconda3/lib/python3.6/site-packages/pandas/core/generic.py:4405: SettingWithCopyWarning: \n",
      "A value is trying to be set on a copy of a slice from a DataFrame.\n",
      "Try using .loc[row_indexer,col_indexer] = value instead\n",
      "\n",
      "See the caveats in the documentation: http://pandas.pydata.org/pandas-docs/stable/indexing.html#indexing-view-versus-copy\n",
      "  self[name] = value\n"
     ]
    }
   ],
   "source": [
    "da_listing = barcelona_listings[[\"id\", \"listing_url\", \"name\", \"accommodates\", \"cancellation_policy\", \"host_id\", \"neighbourhood\", \"city\", \"country_code\", \"latitude\", \"longitude\", \"property_type\", \"room_type\", \"bathrooms\", \"bedrooms\", \"beds\", \"bed_type\", \"interaction\", \"house_rules\", \"is_business_travel_ready\", \"require_guest_profile_picture\", \"require_guest_phone_verification\"]]\n",
    "da_listing.name = da_listing.name.fillna(\"\")\n",
    "da_listing.interaction = da_listing.interaction.fillna(\"\")\n",
    "da_listing.house_rules = da_listing.house_rules.fillna(\"\")\n",
    "\n",
    "da_listing.city = da_listing.city.fillna(\"Barcelona\")\n",
    "da_listing.bathrooms = da_listing.bathrooms.fillna(0)\n",
    "da_listing.bedrooms = da_listing.bedrooms.fillna(0)\n",
    "da_listing.beds = da_listing.beds.fillna(0)\n",
    "\n",
    "da_listing.to_sql(\"Listing\", engine, if_exists=\"append\", index=False, dtype={\"id\" : sqlalchemy.INT, \"listing_url\" : sqlalchemy.CHAR(32), \"name\" : sqlalchemy.CHAR(32), \"accommodates\" : sqlalchemy.CHAR(32), \"cancellation_policy\" : sqlalchemy.CHAR(32), \"host_id\" : sqlalchemy.INT, \"neighbourhood\": sqlalchemy.CHAR(32), \"city\" : sqlalchemy.CHAR(32), \"country_code\" : sqlalchemy.CHAR(2), \"latitude\" : sqlalchemy.FLOAT, \"longitude\" : sqlalchemy.FLOAT, \"property_type\": sqlalchemy.CHAR(32), \"room_type\" : sqlalchemy.CHAR(32), \"bathrooms\" : sqlalchemy.FLOAT, \"bedrooms\" : sqlalchemy.INT, \"beds\" : sqlalchemy.INT, \"bed_type\" : sqlalchemy.CHAR(32), \"interaction\" : sqlalchemy.VARCHAR(1024), \"house_rules\" : sqlalchemy.VARCHAR(1024), \"is_business_travel_ready\" : sqlalchemy.CHAR(1), \"require_guest_profile_picture\" : sqlalchemy.CHAR(1), \"require_guest_phone_verification\" : sqlalchemy.CHAR(1)})\n"
   ]
  },
  {
   "cell_type": "code",
   "execution_count": 191,
   "metadata": {},
   "outputs": [
    {
     "name": "stderr",
     "output_type": "stream",
     "text": [
      "/anaconda3/lib/python3.6/site-packages/pandas/core/generic.py:4405: SettingWithCopyWarning: \n",
      "A value is trying to be set on a copy of a slice from a DataFrame.\n",
      "Try using .loc[row_indexer,col_indexer] = value instead\n",
      "\n",
      "See the caveats in the documentation: http://pandas.pydata.org/pandas-docs/stable/indexing.html#indexing-view-versus-copy\n",
      "  self[name] = value\n"
     ]
    }
   ],
   "source": [
    "da_listing = berlin_listings[[\"id\", \"listing_url\", \"name\", \"accommodates\", \"cancellation_policy\", \"host_id\", \"neighbourhood\", \"city\", \"country_code\", \"latitude\", \"longitude\", \"property_type\", \"room_type\", \"bathrooms\", \"bedrooms\", \"beds\", \"bed_type\", \"interaction\", \"house_rules\", \"is_business_travel_ready\", \"require_guest_profile_picture\", \"require_guest_phone_verification\"]]\n",
    "da_listing.name = da_listing.name.fillna(\"\")\n",
    "da_listing.interaction = da_listing.interaction.fillna(\"\")\n",
    "da_listing.house_rules = da_listing.house_rules.fillna(\"\")\n",
    "\n",
    "da_listing.city = da_listing.city.fillna(\"Berlin\")\n",
    "da_listing.bathrooms = da_listing.bathrooms.fillna(0)\n",
    "da_listing.bedrooms = da_listing.bedrooms.fillna(0)\n",
    "da_listing.beds = da_listing.beds.fillna(0)\n",
    "\n",
    "da_listing.to_sql(\"Listing\", engine, if_exists=\"append\", index=False, dtype={\"id\" : sqlalchemy.INT, \"listing_url\" : sqlalchemy.CHAR(32), \"name\" : sqlalchemy.CHAR(32), \"accommodates\" : sqlalchemy.CHAR(32), \"cancellation_policy\" : sqlalchemy.CHAR(32), \"host_id\" : sqlalchemy.INT, \"neighbourhood\": sqlalchemy.CHAR(32), \"city\" : sqlalchemy.CHAR(32), \"country_code\" : sqlalchemy.CHAR(2), \"latitude\" : sqlalchemy.FLOAT, \"longitude\" : sqlalchemy.FLOAT, \"property_type\": sqlalchemy.CHAR(32), \"room_type\" : sqlalchemy.CHAR(32), \"bathrooms\" : sqlalchemy.FLOAT, \"bedrooms\" : sqlalchemy.INT, \"beds\" : sqlalchemy.INT, \"bed_type\" : sqlalchemy.CHAR(32), \"interaction\" : sqlalchemy.VARCHAR(1024), \"house_rules\" : sqlalchemy.VARCHAR(1024), \"is_business_travel_ready\" : sqlalchemy.CHAR(1), \"require_guest_profile_picture\" : sqlalchemy.CHAR(1), \"require_guest_phone_verification\" : sqlalchemy.CHAR(1)})\n",
    "\n"
   ]
  },
  {
   "cell_type": "code",
   "execution_count": 192,
   "metadata": {},
   "outputs": [
    {
     "name": "stderr",
     "output_type": "stream",
     "text": [
      "/anaconda3/lib/python3.6/site-packages/pandas/core/generic.py:4405: SettingWithCopyWarning: \n",
      "A value is trying to be set on a copy of a slice from a DataFrame.\n",
      "Try using .loc[row_indexer,col_indexer] = value instead\n",
      "\n",
      "See the caveats in the documentation: http://pandas.pydata.org/pandas-docs/stable/indexing.html#indexing-view-versus-copy\n",
      "  self[name] = value\n"
     ]
    }
   ],
   "source": [
    "da_listing = madrid_listings[[\"id\", \"listing_url\", \"name\", \"accommodates\", \"cancellation_policy\", \"host_id\", \"neighbourhood\", \"city\", \"country_code\", \"latitude\", \"longitude\", \"property_type\", \"room_type\", \"bathrooms\", \"bedrooms\", \"beds\", \"bed_type\", \"interaction\", \"house_rules\", \"is_business_travel_ready\", \"require_guest_profile_picture\", \"require_guest_phone_verification\"]]\n",
    "da_listing.name = da_listing.name.fillna(\"\")\n",
    "da_listing.interaction = da_listing.interaction.fillna(\"\")\n",
    "da_listing.house_rules = da_listing.house_rules.fillna(\"\")\n",
    "\n",
    "da_listing.city = da_listing.city.fillna(\"Madrid\")\n",
    "da_listing.bathrooms = da_listing.bathrooms.fillna(0)\n",
    "da_listing.bedrooms = da_listing.bedrooms.fillna(0)\n",
    "da_listing.beds = da_listing.beds.fillna(0)\n",
    "\n",
    "da_listing.to_sql(\"Listing\", engine, if_exists=\"append\", index=False, dtype={\"id\" : sqlalchemy.INT, \"listing_url\" : sqlalchemy.CHAR(32), \"name\" : sqlalchemy.CHAR(32), \"accommodates\" : sqlalchemy.CHAR(32), \"cancellation_policy\" : sqlalchemy.CHAR(32), \"host_id\" : sqlalchemy.INT, \"neighbourhood\": sqlalchemy.CHAR(32), \"city\" : sqlalchemy.CHAR(32), \"country_code\" : sqlalchemy.CHAR(2), \"latitude\" : sqlalchemy.FLOAT, \"longitude\" : sqlalchemy.FLOAT, \"property_type\": sqlalchemy.CHAR(32), \"room_type\" : sqlalchemy.CHAR(32), \"bathrooms\" : sqlalchemy.FLOAT, \"bedrooms\" : sqlalchemy.INT, \"beds\" : sqlalchemy.INT, \"bed_type\" : sqlalchemy.CHAR(32), \"interaction\" : sqlalchemy.VARCHAR(1024), \"house_rules\" : sqlalchemy.VARCHAR(1024), \"is_business_travel_ready\" : sqlalchemy.CHAR(1), \"require_guest_profile_picture\" : sqlalchemy.CHAR(1), \"require_guest_phone_verification\" : sqlalchemy.CHAR(1)})\n",
    "\n"
   ]
  },
  {
   "cell_type": "code",
   "execution_count": null,
   "metadata": {},
   "outputs": [],
   "source": []
  }
 ],
 "metadata": {
  "kernelspec": {
   "display_name": "Python 3",
   "language": "python",
   "name": "python3"
  },
  "language_info": {
   "codemirror_mode": {
    "name": "ipython",
    "version": 3
   },
   "file_extension": ".py",
   "mimetype": "text/x-python",
   "name": "python",
   "nbconvert_exporter": "python",
   "pygments_lexer": "ipython3",
   "version": "3.6.6"
  }
 },
 "nbformat": 4,
 "nbformat_minor": 2
}
