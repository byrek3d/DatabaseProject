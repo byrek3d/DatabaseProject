{
 "cells": [
  {
   "cell_type": "markdown",
   "metadata": {},
   "source": [
    "## Basic setting up"
   ]
  },
  {
   "cell_type": "code",
   "execution_count": 1,
   "metadata": {},
   "outputs": [],
   "source": [
    "import pandas as pd\n",
    "import numpy as np\n",
    "from sqlalchemy import create_engine\n",
    "import sqlalchemy\n",
    "import datetime"
   ]
  },
  {
   "cell_type": "code",
   "execution_count": 2,
   "metadata": {},
   "outputs": [],
   "source": [
    "listings = pd.read_csv(\"barcelona_listings.csv\")"
   ]
  },
  {
   "cell_type": "code",
   "execution_count": 3,
   "metadata": {},
   "outputs": [],
   "source": [
    "reviews = pd.read_csv(\"barcelona_reviews.csv\")"
   ]
  },
  {
   "cell_type": "code",
   "execution_count": 4,
   "metadata": {},
   "outputs": [],
   "source": [
    "calendar = pd.read_csv(\"barcelona_calendar.csv\")"
   ]
  },
  {
   "cell_type": "code",
   "execution_count": 5,
   "metadata": {},
   "outputs": [],
   "source": [
    "engine = create_engine(\"sqlite:///project.db\")"
   ]
  },
  {
   "cell_type": "code",
   "execution_count": 6,
   "metadata": {},
   "outputs": [],
   "source": [
    "def null_count(x):\n",
    "    return listings[x].isna().sum() / len(listings[x])\n",
    "\n",
    "def unique_count(x):\n",
    "    return listings.nunique()# / listings.shape[0] * 100\n",
    "\n",
    "#for i,c in enumerate(listings.columns):\n",
    " #   print(c, unique_count(c)[i])"
   ]
  },
  {
   "cell_type": "markdown",
   "metadata": {},
   "source": [
    "## Import accommodates"
   ]
  },
  {
   "cell_type": "code",
   "execution_count": 4,
   "metadata": {
    "scrolled": true
   },
   "outputs": [],
   "source": [
    "df = pd.DataFrame(listings.accommodates.unique(), columns=[\"accommodates\"])"
   ]
  },
  {
   "cell_type": "code",
   "execution_count": 5,
   "metadata": {
    "collapsed": true
   },
   "outputs": [
    {
     "ename": "IntegrityError",
     "evalue": "(sqlite3.IntegrityError) UNIQUE constraint failed: Accommodation.accommodates [SQL: 'INSERT INTO \"Accommodation\" (accommodates) VALUES (?)'] [parameters: ((6,), (8,), (2,), (3,), (4,), (5,), (10,), (1,)  ... displaying 10 of 16 total bound parameter sets ...  (14,), (15,))] (Background on this error at: http://sqlalche.me/e/gkpj)",
     "output_type": "error",
     "traceback": [
      "\u001b[0;31m---------------------------------------------------------------------------\u001b[0m",
      "\u001b[0;31mIntegrityError\u001b[0m                            Traceback (most recent call last)",
      "\u001b[0;32m/anaconda3/lib/python3.6/site-packages/sqlalchemy/engine/base.py\u001b[0m in \u001b[0;36m_execute_context\u001b[0;34m(self, dialect, constructor, statement, parameters, *args)\u001b[0m\n\u001b[1;32m   1169\u001b[0m                         \u001b[0mparameters\u001b[0m\u001b[0;34m,\u001b[0m\u001b[0;34m\u001b[0m\u001b[0m\n\u001b[0;32m-> 1170\u001b[0;31m                         context)\n\u001b[0m\u001b[1;32m   1171\u001b[0m             \u001b[0;32melif\u001b[0m \u001b[0;32mnot\u001b[0m \u001b[0mparameters\u001b[0m \u001b[0;32mand\u001b[0m \u001b[0mcontext\u001b[0m\u001b[0;34m.\u001b[0m\u001b[0mno_parameters\u001b[0m\u001b[0;34m:\u001b[0m\u001b[0;34m\u001b[0m\u001b[0m\n",
      "\u001b[0;32m/anaconda3/lib/python3.6/site-packages/sqlalchemy/engine/default.py\u001b[0m in \u001b[0;36mdo_executemany\u001b[0;34m(self, cursor, statement, parameters, context)\u001b[0m\n\u001b[1;32m    505\u001b[0m     \u001b[0;32mdef\u001b[0m \u001b[0mdo_executemany\u001b[0m\u001b[0;34m(\u001b[0m\u001b[0mself\u001b[0m\u001b[0;34m,\u001b[0m \u001b[0mcursor\u001b[0m\u001b[0;34m,\u001b[0m \u001b[0mstatement\u001b[0m\u001b[0;34m,\u001b[0m \u001b[0mparameters\u001b[0m\u001b[0;34m,\u001b[0m \u001b[0mcontext\u001b[0m\u001b[0;34m=\u001b[0m\u001b[0;32mNone\u001b[0m\u001b[0;34m)\u001b[0m\u001b[0;34m:\u001b[0m\u001b[0;34m\u001b[0m\u001b[0m\n\u001b[0;32m--> 506\u001b[0;31m         \u001b[0mcursor\u001b[0m\u001b[0;34m.\u001b[0m\u001b[0mexecutemany\u001b[0m\u001b[0;34m(\u001b[0m\u001b[0mstatement\u001b[0m\u001b[0;34m,\u001b[0m \u001b[0mparameters\u001b[0m\u001b[0;34m)\u001b[0m\u001b[0;34m\u001b[0m\u001b[0m\n\u001b[0m\u001b[1;32m    507\u001b[0m \u001b[0;34m\u001b[0m\u001b[0m\n",
      "\u001b[0;31mIntegrityError\u001b[0m: UNIQUE constraint failed: Accommodation.accommodates",
      "\nThe above exception was the direct cause of the following exception:\n",
      "\u001b[0;31mIntegrityError\u001b[0m                            Traceback (most recent call last)",
      "\u001b[0;32m<ipython-input-5-8cf2c86ead10>\u001b[0m in \u001b[0;36m<module>\u001b[0;34m()\u001b[0m\n\u001b[0;32m----> 1\u001b[0;31m \u001b[0mdf\u001b[0m\u001b[0;34m.\u001b[0m\u001b[0mto_sql\u001b[0m\u001b[0;34m(\u001b[0m\u001b[0;34m\"Accommodation\"\u001b[0m\u001b[0;34m,\u001b[0m \u001b[0mengine\u001b[0m\u001b[0;34m,\u001b[0m \u001b[0mif_exists\u001b[0m\u001b[0;34m=\u001b[0m\u001b[0;34m\"append\"\u001b[0m\u001b[0;34m,\u001b[0m \u001b[0mindex\u001b[0m\u001b[0;34m=\u001b[0m\u001b[0;32mFalse\u001b[0m\u001b[0;34m,\u001b[0m \u001b[0mdtype\u001b[0m\u001b[0;34m=\u001b[0m\u001b[0;34m{\u001b[0m\u001b[0;34m\"accommodates\"\u001b[0m \u001b[0;34m:\u001b[0m \u001b[0msqlalchemy\u001b[0m\u001b[0;34m.\u001b[0m\u001b[0mCHAR\u001b[0m\u001b[0;34m(\u001b[0m\u001b[0;36m32\u001b[0m\u001b[0;34m)\u001b[0m\u001b[0;34m}\u001b[0m\u001b[0;34m)\u001b[0m\u001b[0;34m\u001b[0m\u001b[0m\n\u001b[0m",
      "\u001b[0;32m/anaconda3/lib/python3.6/site-packages/pandas/core/generic.py\u001b[0m in \u001b[0;36mto_sql\u001b[0;34m(self, name, con, schema, if_exists, index, index_label, chunksize, dtype)\u001b[0m\n\u001b[1;32m   2128\u001b[0m         sql.to_sql(self, name, con, schema=schema, if_exists=if_exists,\n\u001b[1;32m   2129\u001b[0m                    \u001b[0mindex\u001b[0m\u001b[0;34m=\u001b[0m\u001b[0mindex\u001b[0m\u001b[0;34m,\u001b[0m \u001b[0mindex_label\u001b[0m\u001b[0;34m=\u001b[0m\u001b[0mindex_label\u001b[0m\u001b[0;34m,\u001b[0m \u001b[0mchunksize\u001b[0m\u001b[0;34m=\u001b[0m\u001b[0mchunksize\u001b[0m\u001b[0;34m,\u001b[0m\u001b[0;34m\u001b[0m\u001b[0m\n\u001b[0;32m-> 2130\u001b[0;31m                    dtype=dtype)\n\u001b[0m\u001b[1;32m   2131\u001b[0m \u001b[0;34m\u001b[0m\u001b[0m\n\u001b[1;32m   2132\u001b[0m     def to_pickle(self, path, compression='infer',\n",
      "\u001b[0;32m/anaconda3/lib/python3.6/site-packages/pandas/io/sql.py\u001b[0m in \u001b[0;36mto_sql\u001b[0;34m(frame, name, con, schema, if_exists, index, index_label, chunksize, dtype)\u001b[0m\n\u001b[1;32m    448\u001b[0m     pandas_sql.to_sql(frame, name, if_exists=if_exists, index=index,\n\u001b[1;32m    449\u001b[0m                       \u001b[0mindex_label\u001b[0m\u001b[0;34m=\u001b[0m\u001b[0mindex_label\u001b[0m\u001b[0;34m,\u001b[0m \u001b[0mschema\u001b[0m\u001b[0;34m=\u001b[0m\u001b[0mschema\u001b[0m\u001b[0;34m,\u001b[0m\u001b[0;34m\u001b[0m\u001b[0m\n\u001b[0;32m--> 450\u001b[0;31m                       chunksize=chunksize, dtype=dtype)\n\u001b[0m\u001b[1;32m    451\u001b[0m \u001b[0;34m\u001b[0m\u001b[0m\n\u001b[1;32m    452\u001b[0m \u001b[0;34m\u001b[0m\u001b[0m\n",
      "\u001b[0;32m/anaconda3/lib/python3.6/site-packages/pandas/io/sql.py\u001b[0m in \u001b[0;36mto_sql\u001b[0;34m(self, frame, name, if_exists, index, index_label, schema, chunksize, dtype)\u001b[0m\n\u001b[1;32m   1125\u001b[0m                          schema=schema, dtype=dtype)\n\u001b[1;32m   1126\u001b[0m         \u001b[0mtable\u001b[0m\u001b[0;34m.\u001b[0m\u001b[0mcreate\u001b[0m\u001b[0;34m(\u001b[0m\u001b[0;34m)\u001b[0m\u001b[0;34m\u001b[0m\u001b[0m\n\u001b[0;32m-> 1127\u001b[0;31m         \u001b[0mtable\u001b[0m\u001b[0;34m.\u001b[0m\u001b[0minsert\u001b[0m\u001b[0;34m(\u001b[0m\u001b[0mchunksize\u001b[0m\u001b[0;34m)\u001b[0m\u001b[0;34m\u001b[0m\u001b[0m\n\u001b[0m\u001b[1;32m   1128\u001b[0m         \u001b[0;32mif\u001b[0m \u001b[0;34m(\u001b[0m\u001b[0;32mnot\u001b[0m \u001b[0mname\u001b[0m\u001b[0;34m.\u001b[0m\u001b[0misdigit\u001b[0m\u001b[0;34m(\u001b[0m\u001b[0;34m)\u001b[0m \u001b[0;32mand\u001b[0m \u001b[0;32mnot\u001b[0m \u001b[0mname\u001b[0m\u001b[0;34m.\u001b[0m\u001b[0mislower\u001b[0m\u001b[0;34m(\u001b[0m\u001b[0;34m)\u001b[0m\u001b[0;34m)\u001b[0m\u001b[0;34m:\u001b[0m\u001b[0;34m\u001b[0m\u001b[0m\n\u001b[1;32m   1129\u001b[0m             \u001b[0;31m# check for potentially case sensitivity issues (GH7815)\u001b[0m\u001b[0;34m\u001b[0m\u001b[0;34m\u001b[0m\u001b[0m\n",
      "\u001b[0;32m/anaconda3/lib/python3.6/site-packages/pandas/io/sql.py\u001b[0m in \u001b[0;36minsert\u001b[0;34m(self, chunksize)\u001b[0m\n\u001b[1;32m    639\u001b[0m \u001b[0;34m\u001b[0m\u001b[0m\n\u001b[1;32m    640\u001b[0m                 \u001b[0mchunk_iter\u001b[0m \u001b[0;34m=\u001b[0m \u001b[0mzip\u001b[0m\u001b[0;34m(\u001b[0m\u001b[0;34m*\u001b[0m\u001b[0;34m[\u001b[0m\u001b[0marr\u001b[0m\u001b[0;34m[\u001b[0m\u001b[0mstart_i\u001b[0m\u001b[0;34m:\u001b[0m\u001b[0mend_i\u001b[0m\u001b[0;34m]\u001b[0m \u001b[0;32mfor\u001b[0m \u001b[0marr\u001b[0m \u001b[0;32min\u001b[0m \u001b[0mdata_list\u001b[0m\u001b[0;34m]\u001b[0m\u001b[0;34m)\u001b[0m\u001b[0;34m\u001b[0m\u001b[0m\n\u001b[0;32m--> 641\u001b[0;31m                 \u001b[0mself\u001b[0m\u001b[0;34m.\u001b[0m\u001b[0m_execute_insert\u001b[0m\u001b[0;34m(\u001b[0m\u001b[0mconn\u001b[0m\u001b[0;34m,\u001b[0m \u001b[0mkeys\u001b[0m\u001b[0;34m,\u001b[0m \u001b[0mchunk_iter\u001b[0m\u001b[0;34m)\u001b[0m\u001b[0;34m\u001b[0m\u001b[0m\n\u001b[0m\u001b[1;32m    642\u001b[0m \u001b[0;34m\u001b[0m\u001b[0m\n\u001b[1;32m    643\u001b[0m     def _query_iterator(self, result, chunksize, columns, coerce_float=True,\n",
      "\u001b[0;32m/anaconda3/lib/python3.6/site-packages/pandas/io/sql.py\u001b[0m in \u001b[0;36m_execute_insert\u001b[0;34m(self, conn, keys, data_iter)\u001b[0m\n\u001b[1;32m    614\u001b[0m     \u001b[0;32mdef\u001b[0m \u001b[0m_execute_insert\u001b[0m\u001b[0;34m(\u001b[0m\u001b[0mself\u001b[0m\u001b[0;34m,\u001b[0m \u001b[0mconn\u001b[0m\u001b[0;34m,\u001b[0m \u001b[0mkeys\u001b[0m\u001b[0;34m,\u001b[0m \u001b[0mdata_iter\u001b[0m\u001b[0;34m)\u001b[0m\u001b[0;34m:\u001b[0m\u001b[0;34m\u001b[0m\u001b[0m\n\u001b[1;32m    615\u001b[0m         \u001b[0mdata\u001b[0m \u001b[0;34m=\u001b[0m \u001b[0;34m[\u001b[0m\u001b[0;34m{\u001b[0m\u001b[0mk\u001b[0m\u001b[0;34m:\u001b[0m \u001b[0mv\u001b[0m \u001b[0;32mfor\u001b[0m \u001b[0mk\u001b[0m\u001b[0;34m,\u001b[0m \u001b[0mv\u001b[0m \u001b[0;32min\u001b[0m \u001b[0mzip\u001b[0m\u001b[0;34m(\u001b[0m\u001b[0mkeys\u001b[0m\u001b[0;34m,\u001b[0m \u001b[0mrow\u001b[0m\u001b[0;34m)\u001b[0m\u001b[0;34m}\u001b[0m \u001b[0;32mfor\u001b[0m \u001b[0mrow\u001b[0m \u001b[0;32min\u001b[0m \u001b[0mdata_iter\u001b[0m\u001b[0;34m]\u001b[0m\u001b[0;34m\u001b[0m\u001b[0m\n\u001b[0;32m--> 616\u001b[0;31m         \u001b[0mconn\u001b[0m\u001b[0;34m.\u001b[0m\u001b[0mexecute\u001b[0m\u001b[0;34m(\u001b[0m\u001b[0mself\u001b[0m\u001b[0;34m.\u001b[0m\u001b[0minsert_statement\u001b[0m\u001b[0;34m(\u001b[0m\u001b[0;34m)\u001b[0m\u001b[0;34m,\u001b[0m \u001b[0mdata\u001b[0m\u001b[0;34m)\u001b[0m\u001b[0;34m\u001b[0m\u001b[0m\n\u001b[0m\u001b[1;32m    617\u001b[0m \u001b[0;34m\u001b[0m\u001b[0m\n\u001b[1;32m    618\u001b[0m     \u001b[0;32mdef\u001b[0m \u001b[0minsert\u001b[0m\u001b[0;34m(\u001b[0m\u001b[0mself\u001b[0m\u001b[0;34m,\u001b[0m \u001b[0mchunksize\u001b[0m\u001b[0;34m=\u001b[0m\u001b[0;32mNone\u001b[0m\u001b[0;34m)\u001b[0m\u001b[0;34m:\u001b[0m\u001b[0;34m\u001b[0m\u001b[0m\n",
      "\u001b[0;32m/anaconda3/lib/python3.6/site-packages/sqlalchemy/engine/base.py\u001b[0m in \u001b[0;36mexecute\u001b[0;34m(self, object, *multiparams, **params)\u001b[0m\n\u001b[1;32m    946\u001b[0m             \u001b[0;32mraise\u001b[0m \u001b[0mexc\u001b[0m\u001b[0;34m.\u001b[0m\u001b[0mObjectNotExecutableError\u001b[0m\u001b[0;34m(\u001b[0m\u001b[0mobject\u001b[0m\u001b[0;34m)\u001b[0m\u001b[0;34m\u001b[0m\u001b[0m\n\u001b[1;32m    947\u001b[0m         \u001b[0;32melse\u001b[0m\u001b[0;34m:\u001b[0m\u001b[0;34m\u001b[0m\u001b[0m\n\u001b[0;32m--> 948\u001b[0;31m             \u001b[0;32mreturn\u001b[0m \u001b[0mmeth\u001b[0m\u001b[0;34m(\u001b[0m\u001b[0mself\u001b[0m\u001b[0;34m,\u001b[0m \u001b[0mmultiparams\u001b[0m\u001b[0;34m,\u001b[0m \u001b[0mparams\u001b[0m\u001b[0;34m)\u001b[0m\u001b[0;34m\u001b[0m\u001b[0m\n\u001b[0m\u001b[1;32m    949\u001b[0m \u001b[0;34m\u001b[0m\u001b[0m\n\u001b[1;32m    950\u001b[0m     \u001b[0;32mdef\u001b[0m \u001b[0m_execute_function\u001b[0m\u001b[0;34m(\u001b[0m\u001b[0mself\u001b[0m\u001b[0;34m,\u001b[0m \u001b[0mfunc\u001b[0m\u001b[0;34m,\u001b[0m \u001b[0mmultiparams\u001b[0m\u001b[0;34m,\u001b[0m \u001b[0mparams\u001b[0m\u001b[0;34m)\u001b[0m\u001b[0;34m:\u001b[0m\u001b[0;34m\u001b[0m\u001b[0m\n",
      "\u001b[0;32m/anaconda3/lib/python3.6/site-packages/sqlalchemy/sql/elements.py\u001b[0m in \u001b[0;36m_execute_on_connection\u001b[0;34m(self, connection, multiparams, params)\u001b[0m\n\u001b[1;32m    267\u001b[0m     \u001b[0;32mdef\u001b[0m \u001b[0m_execute_on_connection\u001b[0m\u001b[0;34m(\u001b[0m\u001b[0mself\u001b[0m\u001b[0;34m,\u001b[0m \u001b[0mconnection\u001b[0m\u001b[0;34m,\u001b[0m \u001b[0mmultiparams\u001b[0m\u001b[0;34m,\u001b[0m \u001b[0mparams\u001b[0m\u001b[0;34m)\u001b[0m\u001b[0;34m:\u001b[0m\u001b[0;34m\u001b[0m\u001b[0m\n\u001b[1;32m    268\u001b[0m         \u001b[0;32mif\u001b[0m \u001b[0mself\u001b[0m\u001b[0;34m.\u001b[0m\u001b[0msupports_execution\u001b[0m\u001b[0;34m:\u001b[0m\u001b[0;34m\u001b[0m\u001b[0m\n\u001b[0;32m--> 269\u001b[0;31m             \u001b[0;32mreturn\u001b[0m \u001b[0mconnection\u001b[0m\u001b[0;34m.\u001b[0m\u001b[0m_execute_clauseelement\u001b[0m\u001b[0;34m(\u001b[0m\u001b[0mself\u001b[0m\u001b[0;34m,\u001b[0m \u001b[0mmultiparams\u001b[0m\u001b[0;34m,\u001b[0m \u001b[0mparams\u001b[0m\u001b[0;34m)\u001b[0m\u001b[0;34m\u001b[0m\u001b[0m\n\u001b[0m\u001b[1;32m    270\u001b[0m         \u001b[0;32melse\u001b[0m\u001b[0;34m:\u001b[0m\u001b[0;34m\u001b[0m\u001b[0m\n\u001b[1;32m    271\u001b[0m             \u001b[0;32mraise\u001b[0m \u001b[0mexc\u001b[0m\u001b[0;34m.\u001b[0m\u001b[0mObjectNotExecutableError\u001b[0m\u001b[0;34m(\u001b[0m\u001b[0mself\u001b[0m\u001b[0;34m)\u001b[0m\u001b[0;34m\u001b[0m\u001b[0m\n",
      "\u001b[0;32m/anaconda3/lib/python3.6/site-packages/sqlalchemy/engine/base.py\u001b[0m in \u001b[0;36m_execute_clauseelement\u001b[0;34m(self, elem, multiparams, params)\u001b[0m\n\u001b[1;32m   1058\u001b[0m             \u001b[0mcompiled_sql\u001b[0m\u001b[0;34m,\u001b[0m\u001b[0;34m\u001b[0m\u001b[0m\n\u001b[1;32m   1059\u001b[0m             \u001b[0mdistilled_params\u001b[0m\u001b[0;34m,\u001b[0m\u001b[0;34m\u001b[0m\u001b[0m\n\u001b[0;32m-> 1060\u001b[0;31m             \u001b[0mcompiled_sql\u001b[0m\u001b[0;34m,\u001b[0m \u001b[0mdistilled_params\u001b[0m\u001b[0;34m\u001b[0m\u001b[0m\n\u001b[0m\u001b[1;32m   1061\u001b[0m         )\n\u001b[1;32m   1062\u001b[0m         \u001b[0;32mif\u001b[0m \u001b[0mself\u001b[0m\u001b[0;34m.\u001b[0m\u001b[0m_has_events\u001b[0m \u001b[0;32mor\u001b[0m \u001b[0mself\u001b[0m\u001b[0;34m.\u001b[0m\u001b[0mengine\u001b[0m\u001b[0;34m.\u001b[0m\u001b[0m_has_events\u001b[0m\u001b[0;34m:\u001b[0m\u001b[0;34m\u001b[0m\u001b[0m\n",
      "\u001b[0;32m/anaconda3/lib/python3.6/site-packages/sqlalchemy/engine/base.py\u001b[0m in \u001b[0;36m_execute_context\u001b[0;34m(self, dialect, constructor, statement, parameters, *args)\u001b[0m\n\u001b[1;32m   1198\u001b[0m                 \u001b[0mparameters\u001b[0m\u001b[0;34m,\u001b[0m\u001b[0;34m\u001b[0m\u001b[0m\n\u001b[1;32m   1199\u001b[0m                 \u001b[0mcursor\u001b[0m\u001b[0;34m,\u001b[0m\u001b[0;34m\u001b[0m\u001b[0m\n\u001b[0;32m-> 1200\u001b[0;31m                 context)\n\u001b[0m\u001b[1;32m   1201\u001b[0m \u001b[0;34m\u001b[0m\u001b[0m\n\u001b[1;32m   1202\u001b[0m         \u001b[0;32mif\u001b[0m \u001b[0mself\u001b[0m\u001b[0;34m.\u001b[0m\u001b[0m_has_events\u001b[0m \u001b[0;32mor\u001b[0m \u001b[0mself\u001b[0m\u001b[0;34m.\u001b[0m\u001b[0mengine\u001b[0m\u001b[0;34m.\u001b[0m\u001b[0m_has_events\u001b[0m\u001b[0;34m:\u001b[0m\u001b[0;34m\u001b[0m\u001b[0m\n",
      "\u001b[0;32m/anaconda3/lib/python3.6/site-packages/sqlalchemy/engine/base.py\u001b[0m in \u001b[0;36m_handle_dbapi_exception\u001b[0;34m(self, e, statement, parameters, cursor, context)\u001b[0m\n\u001b[1;32m   1411\u001b[0m                 util.raise_from_cause(\n\u001b[1;32m   1412\u001b[0m                     \u001b[0msqlalchemy_exception\u001b[0m\u001b[0;34m,\u001b[0m\u001b[0;34m\u001b[0m\u001b[0m\n\u001b[0;32m-> 1413\u001b[0;31m                     \u001b[0mexc_info\u001b[0m\u001b[0;34m\u001b[0m\u001b[0m\n\u001b[0m\u001b[1;32m   1414\u001b[0m                 )\n\u001b[1;32m   1415\u001b[0m             \u001b[0;32melse\u001b[0m\u001b[0;34m:\u001b[0m\u001b[0;34m\u001b[0m\u001b[0m\n",
      "\u001b[0;32m/anaconda3/lib/python3.6/site-packages/sqlalchemy/util/compat.py\u001b[0m in \u001b[0;36mraise_from_cause\u001b[0;34m(exception, exc_info)\u001b[0m\n\u001b[1;32m    263\u001b[0m     \u001b[0mexc_type\u001b[0m\u001b[0;34m,\u001b[0m \u001b[0mexc_value\u001b[0m\u001b[0;34m,\u001b[0m \u001b[0mexc_tb\u001b[0m \u001b[0;34m=\u001b[0m \u001b[0mexc_info\u001b[0m\u001b[0;34m\u001b[0m\u001b[0m\n\u001b[1;32m    264\u001b[0m     \u001b[0mcause\u001b[0m \u001b[0;34m=\u001b[0m \u001b[0mexc_value\u001b[0m \u001b[0;32mif\u001b[0m \u001b[0mexc_value\u001b[0m \u001b[0;32mis\u001b[0m \u001b[0;32mnot\u001b[0m \u001b[0mexception\u001b[0m \u001b[0;32melse\u001b[0m \u001b[0;32mNone\u001b[0m\u001b[0;34m\u001b[0m\u001b[0m\n\u001b[0;32m--> 265\u001b[0;31m     \u001b[0mreraise\u001b[0m\u001b[0;34m(\u001b[0m\u001b[0mtype\u001b[0m\u001b[0;34m(\u001b[0m\u001b[0mexception\u001b[0m\u001b[0;34m)\u001b[0m\u001b[0;34m,\u001b[0m \u001b[0mexception\u001b[0m\u001b[0;34m,\u001b[0m \u001b[0mtb\u001b[0m\u001b[0;34m=\u001b[0m\u001b[0mexc_tb\u001b[0m\u001b[0;34m,\u001b[0m \u001b[0mcause\u001b[0m\u001b[0;34m=\u001b[0m\u001b[0mcause\u001b[0m\u001b[0;34m)\u001b[0m\u001b[0;34m\u001b[0m\u001b[0m\n\u001b[0m\u001b[1;32m    266\u001b[0m \u001b[0;34m\u001b[0m\u001b[0m\n\u001b[1;32m    267\u001b[0m \u001b[0;32mif\u001b[0m \u001b[0mpy3k\u001b[0m\u001b[0;34m:\u001b[0m\u001b[0;34m\u001b[0m\u001b[0m\n",
      "\u001b[0;32m/anaconda3/lib/python3.6/site-packages/sqlalchemy/util/compat.py\u001b[0m in \u001b[0;36mreraise\u001b[0;34m(tp, value, tb, cause)\u001b[0m\n\u001b[1;32m    246\u001b[0m             \u001b[0mvalue\u001b[0m\u001b[0;34m.\u001b[0m\u001b[0m__cause__\u001b[0m \u001b[0;34m=\u001b[0m \u001b[0mcause\u001b[0m\u001b[0;34m\u001b[0m\u001b[0m\n\u001b[1;32m    247\u001b[0m         \u001b[0;32mif\u001b[0m \u001b[0mvalue\u001b[0m\u001b[0;34m.\u001b[0m\u001b[0m__traceback__\u001b[0m \u001b[0;32mis\u001b[0m \u001b[0;32mnot\u001b[0m \u001b[0mtb\u001b[0m\u001b[0;34m:\u001b[0m\u001b[0;34m\u001b[0m\u001b[0m\n\u001b[0;32m--> 248\u001b[0;31m             \u001b[0;32mraise\u001b[0m \u001b[0mvalue\u001b[0m\u001b[0;34m.\u001b[0m\u001b[0mwith_traceback\u001b[0m\u001b[0;34m(\u001b[0m\u001b[0mtb\u001b[0m\u001b[0;34m)\u001b[0m\u001b[0;34m\u001b[0m\u001b[0m\n\u001b[0m\u001b[1;32m    249\u001b[0m         \u001b[0;32mraise\u001b[0m \u001b[0mvalue\u001b[0m\u001b[0;34m\u001b[0m\u001b[0m\n\u001b[1;32m    250\u001b[0m \u001b[0;34m\u001b[0m\u001b[0m\n",
      "\u001b[0;32m/anaconda3/lib/python3.6/site-packages/sqlalchemy/engine/base.py\u001b[0m in \u001b[0;36m_execute_context\u001b[0;34m(self, dialect, constructor, statement, parameters, *args)\u001b[0m\n\u001b[1;32m   1168\u001b[0m                         \u001b[0mstatement\u001b[0m\u001b[0;34m,\u001b[0m\u001b[0;34m\u001b[0m\u001b[0m\n\u001b[1;32m   1169\u001b[0m                         \u001b[0mparameters\u001b[0m\u001b[0;34m,\u001b[0m\u001b[0;34m\u001b[0m\u001b[0m\n\u001b[0;32m-> 1170\u001b[0;31m                         context)\n\u001b[0m\u001b[1;32m   1171\u001b[0m             \u001b[0;32melif\u001b[0m \u001b[0;32mnot\u001b[0m \u001b[0mparameters\u001b[0m \u001b[0;32mand\u001b[0m \u001b[0mcontext\u001b[0m\u001b[0;34m.\u001b[0m\u001b[0mno_parameters\u001b[0m\u001b[0;34m:\u001b[0m\u001b[0;34m\u001b[0m\u001b[0m\n\u001b[1;32m   1172\u001b[0m                 \u001b[0;32mif\u001b[0m \u001b[0mself\u001b[0m\u001b[0;34m.\u001b[0m\u001b[0mdialect\u001b[0m\u001b[0;34m.\u001b[0m\u001b[0m_has_events\u001b[0m\u001b[0;34m:\u001b[0m\u001b[0;34m\u001b[0m\u001b[0m\n",
      "\u001b[0;32m/anaconda3/lib/python3.6/site-packages/sqlalchemy/engine/default.py\u001b[0m in \u001b[0;36mdo_executemany\u001b[0;34m(self, cursor, statement, parameters, context)\u001b[0m\n\u001b[1;32m    504\u001b[0m \u001b[0;34m\u001b[0m\u001b[0m\n\u001b[1;32m    505\u001b[0m     \u001b[0;32mdef\u001b[0m \u001b[0mdo_executemany\u001b[0m\u001b[0;34m(\u001b[0m\u001b[0mself\u001b[0m\u001b[0;34m,\u001b[0m \u001b[0mcursor\u001b[0m\u001b[0;34m,\u001b[0m \u001b[0mstatement\u001b[0m\u001b[0;34m,\u001b[0m \u001b[0mparameters\u001b[0m\u001b[0;34m,\u001b[0m \u001b[0mcontext\u001b[0m\u001b[0;34m=\u001b[0m\u001b[0;32mNone\u001b[0m\u001b[0;34m)\u001b[0m\u001b[0;34m:\u001b[0m\u001b[0;34m\u001b[0m\u001b[0m\n\u001b[0;32m--> 506\u001b[0;31m         \u001b[0mcursor\u001b[0m\u001b[0;34m.\u001b[0m\u001b[0mexecutemany\u001b[0m\u001b[0;34m(\u001b[0m\u001b[0mstatement\u001b[0m\u001b[0;34m,\u001b[0m \u001b[0mparameters\u001b[0m\u001b[0;34m)\u001b[0m\u001b[0;34m\u001b[0m\u001b[0m\n\u001b[0m\u001b[1;32m    507\u001b[0m \u001b[0;34m\u001b[0m\u001b[0m\n\u001b[1;32m    508\u001b[0m     \u001b[0;32mdef\u001b[0m \u001b[0mdo_execute\u001b[0m\u001b[0;34m(\u001b[0m\u001b[0mself\u001b[0m\u001b[0;34m,\u001b[0m \u001b[0mcursor\u001b[0m\u001b[0;34m,\u001b[0m \u001b[0mstatement\u001b[0m\u001b[0;34m,\u001b[0m \u001b[0mparameters\u001b[0m\u001b[0;34m,\u001b[0m \u001b[0mcontext\u001b[0m\u001b[0;34m=\u001b[0m\u001b[0;32mNone\u001b[0m\u001b[0;34m)\u001b[0m\u001b[0;34m:\u001b[0m\u001b[0;34m\u001b[0m\u001b[0m\n",
      "\u001b[0;31mIntegrityError\u001b[0m: (sqlite3.IntegrityError) UNIQUE constraint failed: Accommodation.accommodates [SQL: 'INSERT INTO \"Accommodation\" (accommodates) VALUES (?)'] [parameters: ((6,), (8,), (2,), (3,), (4,), (5,), (10,), (1,)  ... displaying 10 of 16 total bound parameter sets ...  (14,), (15,))] (Background on this error at: http://sqlalche.me/e/gkpj)"
     ]
    }
   ],
   "source": [
    "df.to_sql(\"Accommodation\", engine, if_exists=\"append\", index=False, dtype={\"accommodates\" : sqlalchemy.CHAR(32)})"
   ]
  },
  {
   "cell_type": "code",
   "execution_count": null,
   "metadata": {},
   "outputs": [],
   "source": [
    "engine.execute(\"select count(*) from Accommodation \").fetchall()"
   ]
  },
  {
   "cell_type": "markdown",
   "metadata": {},
   "source": [
    "## Import amenities"
   ]
  },
  {
   "cell_type": "code",
   "execution_count": 83,
   "metadata": {},
   "outputs": [],
   "source": [
    "amenities = pd.DataFrame(listings.amenities.unique(), columns=[\"amenities\"])"
   ]
  },
  {
   "cell_type": "code",
   "execution_count": 84,
   "metadata": {},
   "outputs": [],
   "source": [
    "temp = []\n",
    "for index, row in amenities.iterrows():\n",
    "    temp.append(row[\"amenities\"].split(','))"
   ]
  },
  {
   "cell_type": "code",
   "execution_count": 85,
   "metadata": {},
   "outputs": [],
   "source": [
    "flat_list = []\n",
    "for sublist in temp:\n",
    "    for item in sublist:\n",
    "        flat_list.append(item)"
   ]
  },
  {
   "cell_type": "code",
   "execution_count": 140,
   "metadata": {
    "scrolled": true
   },
   "outputs": [],
   "source": [
    "def remove_chars(item):\n",
    "    for c in item:\n",
    "        if c == \"{\" or c == \"}\" or c == \"'\" or c == '\"' or c == \"[\" or c == \"]\":\n",
    "            item = item.replace(c, \"\")\n",
    "        item = item.strip().lower()\n",
    "    return item"
   ]
  },
  {
   "cell_type": "code",
   "execution_count": 87,
   "metadata": {},
   "outputs": [],
   "source": [
    "new_list = []\n",
    "for item in flat_list:\n",
    "    new_list.append('\"' + remove_chars(item) + '\"')\n",
    "    "
   ]
  },
  {
   "cell_type": "code",
   "execution_count": 88,
   "metadata": {},
   "outputs": [],
   "source": [
    "new_list = list(set(new_list))"
   ]
  },
  {
   "cell_type": "code",
   "execution_count": 90,
   "metadata": {},
   "outputs": [],
   "source": [
    "new_list.remove('\"\"')"
   ]
  },
  {
   "cell_type": "code",
   "execution_count": 91,
   "metadata": {},
   "outputs": [
    {
     "data": {
      "text/plain": [
       "['\"espresso machine\"',\n",
       " '\"handheld shower head\"',\n",
       " '\"carbon monoxide detector\"',\n",
       " '\"stair gates\"',\n",
       " '\"elevator\"',\n",
       " '\"pets live on this property\"',\n",
       " '\"baby monitor\"',\n",
       " '\"ski-in/ski-out\"',\n",
       " '\"disabled parking spot\"',\n",
       " '\"building staff\"',\n",
       " '\"coffee maker\"',\n",
       " '\"private pool\"',\n",
       " '\"smart lock\"',\n",
       " '\"gym\"',\n",
       " '\"day bed\"',\n",
       " '\"accessible-height bed\"',\n",
       " '\"warming drawer\"',\n",
       " '\"shared pool\"',\n",
       " '\"microwave\"',\n",
       " '\"cooking basics\"',\n",
       " '\"wheelchair accessible\"',\n",
       " '\"pack ’n play/travel crib\"',\n",
       " '\"electric profiling bed\"',\n",
       " '\"free street parking\"',\n",
       " '\"balcony\"',\n",
       " '\"pillow-top mattress\"',\n",
       " '\"bidet\"',\n",
       " '\"air conditioning\"',\n",
       " '\"hbo go\"',\n",
       " '\"baby bath\"',\n",
       " '\"washer\"',\n",
       " '\"private living room\"',\n",
       " '\"single level home\"',\n",
       " '\"beachfront\"',\n",
       " '\"outdoor parking\"',\n",
       " '\"netflix\"',\n",
       " '\"dishes and silverware\"',\n",
       " '\"bath towel\"',\n",
       " '\"cat(s)\"',\n",
       " '\"sun loungers\"',\n",
       " '\"table corner guards\"',\n",
       " '\"changing table\"',\n",
       " '\"bbq grill\"',\n",
       " '\"dishwasher\"',\n",
       " '\"luggage dropoff allowed\"',\n",
       " '\"memory foam mattress\"',\n",
       " '\"free parking on premises\"',\n",
       " '\"cable tv\"',\n",
       " '\"oven\"',\n",
       " '\"patio or balcony\"',\n",
       " '\"waterfront\"',\n",
       " '\"wide entryway\"',\n",
       " '\"translation missing: en.hosting_amenity_49\"',\n",
       " '\"projector and screen\"',\n",
       " '\"shared gym\"',\n",
       " '\"fax machine\"',\n",
       " '\"translation missing: en.hosting_amenity_50\"',\n",
       " '\"essentials\"',\n",
       " '\"heated floors\"',\n",
       " '\"cleaning before checkout\"',\n",
       " '\"pocket wifi\"',\n",
       " '\"toilet\"',\n",
       " '\"garden or backyard\"',\n",
       " '\"babysitter recommendations\"',\n",
       " '\"other pet(s)\"',\n",
       " '\"iron\"',\n",
       " '\"first aid kit\"',\n",
       " '\"wide doorway\"',\n",
       " '\"bathroom essentials\"',\n",
       " '\"beach view\"',\n",
       " '\"ethernet connection\"',\n",
       " '\"laptop friendly workspace\"',\n",
       " '\"lake access\"',\n",
       " '\"kitchen\"',\n",
       " '\"mobile hoist\"',\n",
       " '\"game console\"',\n",
       " '\"family/kid friendly\"',\n",
       " '\"smoking allowed\"',\n",
       " '\"standing valet\"',\n",
       " '\"firm mattress\"',\n",
       " '\"tv\"',\n",
       " '\"fixed grab bars for shower\"',\n",
       " '\"24-hour check-in\"',\n",
       " '\"fire extinguisher\"',\n",
       " '\"touchless faucets\"',\n",
       " '\"lockbox\"',\n",
       " '\"heated towel rack\"',\n",
       " '\"refrigerator\"',\n",
       " '\"private bathroom\"',\n",
       " '\"murphy bed\"',\n",
       " '\"crib\"',\n",
       " '\"pets allowed\"',\n",
       " '\"indoor fireplace\"',\n",
       " '\"fireplace guards\"',\n",
       " '\"wine cooler\"',\n",
       " '\"hammock\"',\n",
       " '\"pool with pool hoist\"',\n",
       " '\"bed linens\"',\n",
       " '\"roll-in shower\"',\n",
       " '\"wifi\"',\n",
       " '\"breakfast\"',\n",
       " '\"suitable for events\"',\n",
       " '\"ceiling fan\"',\n",
       " '\"formal dining area\"',\n",
       " '\"sound system\"',\n",
       " '\"full kitchen\"',\n",
       " '\"steam oven\"',\n",
       " '\"lock on bedroom door\"',\n",
       " '\"hair dryer\"',\n",
       " '\"buzzer/wireless intercom\"',\n",
       " '\"en suite bathroom\"',\n",
       " '\"kitchenette\"',\n",
       " '\"keypad\"',\n",
       " '\"private entrance\"',\n",
       " '\"washer / dryer\"',\n",
       " '\"window guards\"',\n",
       " '\"toilet paper\"',\n",
       " '\"self check-in\"',\n",
       " '\"air purifier\"',\n",
       " '\"mudroom\"',\n",
       " '\"safety card\"',\n",
       " '\"children’s dinnerware\"',\n",
       " '\"flat path to front door\"',\n",
       " '\"stove\"',\n",
       " '\"breakfast table\"',\n",
       " '\"room-darkening shades\"',\n",
       " '\"outlet covers\"',\n",
       " '\"dog(s)\"',\n",
       " '\"walk-in shower\"',\n",
       " '\"bathtub with bath chair\"',\n",
       " '\"body soap\"',\n",
       " '\"host greets you\"',\n",
       " '\"gas oven\"',\n",
       " '\"bedroom comforts\"',\n",
       " '\"other\"',\n",
       " '\"rain shower\"',\n",
       " '\"wide clearance to shower\"',\n",
       " '\"paid parking on premises\"',\n",
       " '\"hot water kettle\"',\n",
       " '\"beach essentials\"',\n",
       " '\"bathtub\"',\n",
       " '\"amazon echo\"',\n",
       " '\"ev charger\"',\n",
       " '\"mountain view\"',\n",
       " '\"hot water\"',\n",
       " '\"pool\"',\n",
       " '\"step-free access\"',\n",
       " '\"accessible-height toilet\"',\n",
       " '\"terrace\"',\n",
       " '\"well-lit path to entrance\"',\n",
       " '\"mini fridge\"',\n",
       " '\"doorman\"',\n",
       " '\"children’s books and toys\"',\n",
       " '\"pool cover\"',\n",
       " '\"sauna\"',\n",
       " '\"high chair\"',\n",
       " '\"outdoor seating\"',\n",
       " '\"shampoo\"',\n",
       " '\"smart tv\"',\n",
       " '\"dryer\"',\n",
       " '\"exercise equipment\"',\n",
       " '\"wide hallway clearance\"',\n",
       " '\"hot tub\"',\n",
       " '\"dvd player\"',\n",
       " '\"jetted tub\"',\n",
       " '\"long term stays allowed\"',\n",
       " '\"wide clearance to bed\"',\n",
       " '\"printer\"',\n",
       " '\"hangers\"',\n",
       " '\"internet\"',\n",
       " '\"smoke detector\"',\n",
       " '\"fixed grab bars for toilet\"',\n",
       " '\"soaking tub\"',\n",
       " '\"central air conditioning\"',\n",
       " '\"paid parking off premises\"',\n",
       " '\"extra pillows and blankets\"',\n",
       " '\"convection oven\"',\n",
       " '\"shower chair\"',\n",
       " '\"heating\"']"
      ]
     },
     "execution_count": 91,
     "metadata": {},
     "output_type": "execute_result"
    }
   ],
   "source": [
    "new_list"
   ]
  },
  {
   "cell_type": "code",
   "execution_count": 92,
   "metadata": {},
   "outputs": [],
   "source": [
    "amenities = pd.DataFrame(new_list, columns=[\"amenities\"])"
   ]
  },
  {
   "cell_type": "code",
   "execution_count": 93,
   "metadata": {},
   "outputs": [],
   "source": [
    "amenities.to_sql(\"Amenities\", engine, if_exists=\"append\", index=False, dtype={\"amenities\" : sqlalchemy.CHAR(32)})"
   ]
  },
  {
   "cell_type": "code",
   "execution_count": 24,
   "metadata": {},
   "outputs": [
    {
     "data": {
      "text/plain": [
       "13095"
      ]
     },
     "execution_count": 24,
     "metadata": {},
     "output_type": "execute_result"
    }
   ],
   "source": [
    "listings.id.count()"
   ]
  },
  {
   "cell_type": "code",
   "execution_count": 29,
   "metadata": {},
   "outputs": [
    {
     "data": {
      "text/plain": [
       "11837"
      ]
     },
     "execution_count": 29,
     "metadata": {},
     "output_type": "execute_result"
    }
   ],
   "source": [
    "len(listings[\"amenities\"].unique() == listings.amenities.unique())"
   ]
  },
  {
   "cell_type": "markdown",
   "metadata": {},
   "source": [
    "## Import Bathrooms"
   ]
  },
  {
   "cell_type": "code",
   "execution_count": 61,
   "metadata": {},
   "outputs": [],
   "source": [
    "bathrooms = pd.DataFrame(listings.bathrooms.unique(), columns=[\"bathrooms\"])"
   ]
  },
  {
   "cell_type": "code",
   "execution_count": 62,
   "metadata": {},
   "outputs": [],
   "source": [
    "bathrooms = bathrooms.dropna()"
   ]
  },
  {
   "cell_type": "code",
   "execution_count": 63,
   "metadata": {},
   "outputs": [],
   "source": [
    "bathrooms.to_sql(\"Bathrooms\", engine, if_exists=\"append\", index=False, dtype={\"bathrooms\" : sqlalchemy.FLOAT})"
   ]
  },
  {
   "cell_type": "markdown",
   "metadata": {},
   "source": [
    "## Import Description"
   ]
  },
  {
   "cell_type": "code",
   "execution_count": 25,
   "metadata": {},
   "outputs": [],
   "source": [
    "description = pd.DataFrame({\"description_id\": np.arange(len(listings.description)), \"summary\": listings.summary, \"space\": listings.space, \"description\": listings.description, \"neighborhood_overview\": listings.neighborhood_overview,\"notes\":listings.notes,\"transit\":listings.transit,\"access\":listings.access,\"picture_url\":listings.picture_url,\"square_feet\": listings.square_feet, \"id\": listings.id})"
   ]
  },
  {
   "cell_type": "code",
   "execution_count": 29,
   "metadata": {},
   "outputs": [],
   "source": [
    "description[\"space\"].fillna(\"\",inplace=True)\n",
    "description[\"neighborhood_overview\"].fillna(\"\",inplace=True)\n",
    "description[\"description\"].fillna(\"\",inplace=True)\n",
    "description[\"summary\"].fillna(\"\",inplace=True)\n",
    "description[\"notes\"].fillna(\"\",inplace=True)\n",
    "description[\"transit\"].fillna(\"\",inplace=True)\n",
    "description[\"access\"].fillna(\"\",inplace=True)\n",
    "description[\"picture_url\"].fillna(\"\",inplace=True)\n",
    "description[\"square_feet\"].fillna(-1,inplace=True)\n"
   ]
  },
  {
   "cell_type": "code",
   "execution_count": 32,
   "metadata": {},
   "outputs": [],
   "source": [
    "description.to_sql(\"Described_Description\", engine, if_exists=\"append\", index=False, dtype={\"description_id\": sqlalchemy.INT, \"summary\": sqlalchemy.VARCHAR(1024), \"space\": sqlalchemy.VARCHAR(1024), \"description\": sqlalchemy.VARCHAR(1024), \"neighborhood_overview\": sqlalchemy.VARCHAR(1024),\"notes\":sqlalchemy.VARCHAR(1024),\"transit\": sqlalchemy.VARCHAR(1024),\"access\": sqlalchemy.VARCHAR(1024),\"picture_url\":sqlalchemy.CHAR(128),\"square_feet\": sqlalchemy.FLOAT, \"id\": sqlalchemy.INT})"
   ]
  },
  {
   "cell_type": "markdown",
   "metadata": {},
   "source": [
    "## Import bedding"
   ]
  },
  {
   "cell_type": "code",
   "execution_count": 19,
   "metadata": {},
   "outputs": [],
   "source": [
    "bedding = pd.DataFrame({\"beds\": listings.beds, \"bed_type\": listings.bed_type})"
   ]
  },
  {
   "cell_type": "code",
   "execution_count": 21,
   "metadata": {},
   "outputs": [],
   "source": [
    "bedding = bedding.fillna(0).drop_duplicates()\n"
   ]
  },
  {
   "cell_type": "code",
   "execution_count": 22,
   "metadata": {},
   "outputs": [],
   "source": [
    "bedding.to_sql(\"Bedding\", engine, if_exists=\"append\", index=False, dtype={\"beds\" : sqlalchemy.FLOAT, \"bed_type\" : sqlalchemy.CHAR(32)})"
   ]
  },
  {
   "cell_type": "markdown",
   "metadata": {},
   "source": [
    "## Import Bedrooms"
   ]
  },
  {
   "cell_type": "code",
   "execution_count": 4,
   "metadata": {},
   "outputs": [],
   "source": [
    "bedrooms = pd.DataFrame({\"bedrooms\": listings.bedrooms})"
   ]
  },
  {
   "cell_type": "code",
   "execution_count": 10,
   "metadata": {},
   "outputs": [],
   "source": [
    "bedrooms = bedrooms.dropna().drop_duplicates()"
   ]
  },
  {
   "cell_type": "code",
   "execution_count": 11,
   "metadata": {
    "collapsed": true
   },
   "outputs": [
    {
     "data": {
      "text/html": [
       "<div>\n",
       "<style scoped>\n",
       "    .dataframe tbody tr th:only-of-type {\n",
       "        vertical-align: middle;\n",
       "    }\n",
       "\n",
       "    .dataframe tbody tr th {\n",
       "        vertical-align: top;\n",
       "    }\n",
       "\n",
       "    .dataframe thead th {\n",
       "        text-align: right;\n",
       "    }\n",
       "</style>\n",
       "<table border=\"1\" class=\"dataframe\">\n",
       "  <thead>\n",
       "    <tr style=\"text-align: right;\">\n",
       "      <th></th>\n",
       "      <th>bedrooms</th>\n",
       "    </tr>\n",
       "  </thead>\n",
       "  <tbody>\n",
       "    <tr>\n",
       "      <th>0</th>\n",
       "      <td>2.0</td>\n",
       "    </tr>\n",
       "    <tr>\n",
       "      <th>1</th>\n",
       "      <td>3.0</td>\n",
       "    </tr>\n",
       "    <tr>\n",
       "      <th>2</th>\n",
       "      <td>1.0</td>\n",
       "    </tr>\n",
       "    <tr>\n",
       "      <th>12</th>\n",
       "      <td>4.0</td>\n",
       "    </tr>\n",
       "    <tr>\n",
       "      <th>77</th>\n",
       "      <td>0.0</td>\n",
       "    </tr>\n",
       "    <tr>\n",
       "      <th>97</th>\n",
       "      <td>5.0</td>\n",
       "    </tr>\n",
       "    <tr>\n",
       "      <th>261</th>\n",
       "      <td>16.0</td>\n",
       "    </tr>\n",
       "    <tr>\n",
       "      <th>308</th>\n",
       "      <td>6.0</td>\n",
       "    </tr>\n",
       "    <tr>\n",
       "      <th>1436</th>\n",
       "      <td>12.0</td>\n",
       "    </tr>\n",
       "    <tr>\n",
       "      <th>2312</th>\n",
       "      <td>8.0</td>\n",
       "    </tr>\n",
       "    <tr>\n",
       "      <th>2527</th>\n",
       "      <td>7.0</td>\n",
       "    </tr>\n",
       "    <tr>\n",
       "      <th>2539</th>\n",
       "      <td>9.0</td>\n",
       "    </tr>\n",
       "    <tr>\n",
       "      <th>2788</th>\n",
       "      <td>10.0</td>\n",
       "    </tr>\n",
       "  </tbody>\n",
       "</table>\n",
       "</div>"
      ],
      "text/plain": [
       "      bedrooms\n",
       "0          2.0\n",
       "1          3.0\n",
       "2          1.0\n",
       "12         4.0\n",
       "77         0.0\n",
       "97         5.0\n",
       "261       16.0\n",
       "308        6.0\n",
       "1436      12.0\n",
       "2312       8.0\n",
       "2527       7.0\n",
       "2539       9.0\n",
       "2788      10.0"
      ]
     },
     "execution_count": 11,
     "metadata": {},
     "output_type": "execute_result"
    }
   ],
   "source": [
    "bedrooms"
   ]
  },
  {
   "cell_type": "code",
   "execution_count": 12,
   "metadata": {
    "collapsed": true
   },
   "outputs": [
    {
     "data": {
      "text/html": [
       "<div>\n",
       "<style scoped>\n",
       "    .dataframe tbody tr th:only-of-type {\n",
       "        vertical-align: middle;\n",
       "    }\n",
       "\n",
       "    .dataframe tbody tr th {\n",
       "        vertical-align: top;\n",
       "    }\n",
       "\n",
       "    .dataframe thead th {\n",
       "        text-align: right;\n",
       "    }\n",
       "</style>\n",
       "<table border=\"1\" class=\"dataframe\">\n",
       "  <thead>\n",
       "    <tr style=\"text-align: right;\">\n",
       "      <th></th>\n",
       "      <th>bedrooms</th>\n",
       "    </tr>\n",
       "  </thead>\n",
       "  <tbody>\n",
       "    <tr>\n",
       "      <th>0</th>\n",
       "      <td>2</td>\n",
       "    </tr>\n",
       "    <tr>\n",
       "      <th>1</th>\n",
       "      <td>3</td>\n",
       "    </tr>\n",
       "    <tr>\n",
       "      <th>2</th>\n",
       "      <td>1</td>\n",
       "    </tr>\n",
       "    <tr>\n",
       "      <th>12</th>\n",
       "      <td>4</td>\n",
       "    </tr>\n",
       "    <tr>\n",
       "      <th>77</th>\n",
       "      <td>0</td>\n",
       "    </tr>\n",
       "    <tr>\n",
       "      <th>97</th>\n",
       "      <td>5</td>\n",
       "    </tr>\n",
       "    <tr>\n",
       "      <th>261</th>\n",
       "      <td>16</td>\n",
       "    </tr>\n",
       "    <tr>\n",
       "      <th>308</th>\n",
       "      <td>6</td>\n",
       "    </tr>\n",
       "    <tr>\n",
       "      <th>1436</th>\n",
       "      <td>12</td>\n",
       "    </tr>\n",
       "    <tr>\n",
       "      <th>2312</th>\n",
       "      <td>8</td>\n",
       "    </tr>\n",
       "    <tr>\n",
       "      <th>2527</th>\n",
       "      <td>7</td>\n",
       "    </tr>\n",
       "    <tr>\n",
       "      <th>2539</th>\n",
       "      <td>9</td>\n",
       "    </tr>\n",
       "    <tr>\n",
       "      <th>2788</th>\n",
       "      <td>10</td>\n",
       "    </tr>\n",
       "  </tbody>\n",
       "</table>\n",
       "</div>"
      ],
      "text/plain": [
       "      bedrooms\n",
       "0            2\n",
       "1            3\n",
       "2            1\n",
       "12           4\n",
       "77           0\n",
       "97           5\n",
       "261         16\n",
       "308          6\n",
       "1436        12\n",
       "2312         8\n",
       "2527         7\n",
       "2539         9\n",
       "2788        10"
      ]
     },
     "execution_count": 12,
     "metadata": {},
     "output_type": "execute_result"
    }
   ],
   "source": [
    "bedrooms.astype(int)"
   ]
  },
  {
   "cell_type": "code",
   "execution_count": 13,
   "metadata": {},
   "outputs": [],
   "source": [
    "bedrooms.to_sql(\"Bedrooms\", engine, if_exists=\"append\", index=False, dtype={\"bedrooms\" : sqlalchemy.INT})"
   ]
  },
  {
   "cell_type": "markdown",
   "metadata": {},
   "source": [
    "## Import Room"
   ]
  },
  {
   "cell_type": "code",
   "execution_count": 14,
   "metadata": {},
   "outputs": [],
   "source": [
    "room = pd.DataFrame({\"room_type\": listings.room_type})"
   ]
  },
  {
   "cell_type": "code",
   "execution_count": 17,
   "metadata": {},
   "outputs": [],
   "source": [
    "room = room.drop_duplicates()"
   ]
  },
  {
   "cell_type": "code",
   "execution_count": 18,
   "metadata": {},
   "outputs": [],
   "source": [
    "room.to_sql(\"Room\", engine, if_exists=\"append\", index=False, dtype={\"room_type\" : sqlalchemy.CHAR(32)})"
   ]
  },
  {
   "cell_type": "markdown",
   "metadata": {},
   "source": [
    "## Import Property"
   ]
  },
  {
   "cell_type": "code",
   "execution_count": 19,
   "metadata": {},
   "outputs": [],
   "source": [
    "prop = pd.DataFrame({\"property_type\": listings.property_type})"
   ]
  },
  {
   "cell_type": "code",
   "execution_count": 23,
   "metadata": {},
   "outputs": [],
   "source": [
    "prop = prop.drop_duplicates()"
   ]
  },
  {
   "cell_type": "code",
   "execution_count": 24,
   "metadata": {},
   "outputs": [],
   "source": [
    "prop.to_sql(\"Property\", engine, if_exists=\"append\", index=False, dtype={\"propery_type\" : sqlalchemy.CHAR(32)})"
   ]
  },
  {
   "cell_type": "markdown",
   "metadata": {},
   "source": [
    "## Import Reviewer"
   ]
  },
  {
   "cell_type": "code",
   "execution_count": 29,
   "metadata": {},
   "outputs": [],
   "source": [
    "reviewer = pd.DataFrame({\"reviewer_id\": reviews.reviewer_id, \"reviewer_name\" : reviews.reviewer_name})"
   ]
  },
  {
   "cell_type": "code",
   "execution_count": 50,
   "metadata": {},
   "outputs": [],
   "source": [
    "reviewer = reviewer.drop_duplicates().drop(174201)"
   ]
  },
  {
   "cell_type": "code",
   "execution_count": 51,
   "metadata": {},
   "outputs": [],
   "source": [
    "reviewer.to_sql(\"Reviewer\", engine, if_exists=\"append\", index=False, dtype={\"reviewer_id\" : sqlalchemy.INT, \"reviewer_name\" : sqlalchemy.CHAR(32)})"
   ]
  },
  {
   "cell_type": "code",
   "execution_count": 49,
   "metadata": {
    "scrolled": true
   },
   "outputs": [
    {
     "data": {
      "text/html": [
       "<div>\n",
       "<style scoped>\n",
       "    .dataframe tbody tr th:only-of-type {\n",
       "        vertical-align: middle;\n",
       "    }\n",
       "\n",
       "    .dataframe tbody tr th {\n",
       "        vertical-align: top;\n",
       "    }\n",
       "\n",
       "    .dataframe thead th {\n",
       "        text-align: right;\n",
       "    }\n",
       "</style>\n",
       "<table border=\"1\" class=\"dataframe\">\n",
       "  <thead>\n",
       "    <tr style=\"text-align: right;\">\n",
       "      <th></th>\n",
       "      <th>reviewer_id</th>\n",
       "      <th>reviewer_name</th>\n",
       "    </tr>\n",
       "  </thead>\n",
       "  <tbody>\n",
       "    <tr>\n",
       "      <th>174201</th>\n",
       "      <td>6148697</td>\n",
       "      <td>Casa Nuna</td>\n",
       "    </tr>\n",
       "    <tr>\n",
       "      <th>179938</th>\n",
       "      <td>6148697</td>\n",
       "      <td>Mi Casa Bali</td>\n",
       "    </tr>\n",
       "  </tbody>\n",
       "</table>\n",
       "</div>"
      ],
      "text/plain": [
       "        reviewer_id reviewer_name\n",
       "174201      6148697     Casa Nuna\n",
       "179938      6148697  Mi Casa Bali"
      ]
     },
     "execution_count": 49,
     "metadata": {},
     "output_type": "execute_result"
    }
   ],
   "source": [
    "reviewer[reviewer.duplicated(['reviewer_id'], keep=False)]"
   ]
  },
  {
   "cell_type": "markdown",
   "metadata": {},
   "source": [
    "## Import Reviewed TODO"
   ]
  },
  {
   "cell_type": "code",
   "execution_count": 54,
   "metadata": {},
   "outputs": [],
   "source": [
    "reviewed = pd.DataFrame({\"id\": reviews.listing_id, \"reviewer_id\" : reviews.reviewer_id, \"comments\": reviews.comments, \"review_date\" : reviews.date})"
   ]
  },
  {
   "cell_type": "code",
   "execution_count": 55,
   "metadata": {
    "collapsed": true
   },
   "outputs": [
    {
     "data": {
      "text/html": [
       "<div>\n",
       "<style scoped>\n",
       "    .dataframe tbody tr th:only-of-type {\n",
       "        vertical-align: middle;\n",
       "    }\n",
       "\n",
       "    .dataframe tbody tr th {\n",
       "        vertical-align: top;\n",
       "    }\n",
       "\n",
       "    .dataframe thead th {\n",
       "        text-align: right;\n",
       "    }\n",
       "</style>\n",
       "<table border=\"1\" class=\"dataframe\">\n",
       "  <thead>\n",
       "    <tr style=\"text-align: right;\">\n",
       "      <th></th>\n",
       "      <th>id</th>\n",
       "      <th>reviewer_id</th>\n",
       "      <th>comments</th>\n",
       "      <th>review_date</th>\n",
       "    </tr>\n",
       "  </thead>\n",
       "  <tbody>\n",
       "    <tr>\n",
       "      <th>0</th>\n",
       "      <td>18666</td>\n",
       "      <td>1559265</td>\n",
       "      <td>Very nice flat. We had easy transportation to ...</td>\n",
       "      <td>2015-10-10</td>\n",
       "    </tr>\n",
       "    <tr>\n",
       "      <th>1</th>\n",
       "      <td>18674</td>\n",
       "      <td>4841196</td>\n",
       "      <td>Great location. Clean, spacious flat. Would re...</td>\n",
       "      <td>2013-05-27</td>\n",
       "    </tr>\n",
       "    <tr>\n",
       "      <th>2</th>\n",
       "      <td>18674</td>\n",
       "      <td>11600277</td>\n",
       "      <td>Mi mejor recomendación para este departamento....</td>\n",
       "      <td>2014-03-02</td>\n",
       "    </tr>\n",
       "    <tr>\n",
       "      <th>3</th>\n",
       "      <td>18674</td>\n",
       "      <td>35231385</td>\n",
       "      <td>Big apartment, well equipped.\\nVery good servi...</td>\n",
       "      <td>2015-08-04</td>\n",
       "    </tr>\n",
       "    <tr>\n",
       "      <th>4</th>\n",
       "      <td>18674</td>\n",
       "      <td>23223644</td>\n",
       "      <td>The Check in was fast and flexible. The price ...</td>\n",
       "      <td>2016-06-20</td>\n",
       "    </tr>\n",
       "    <tr>\n",
       "      <th>5</th>\n",
       "      <td>18674</td>\n",
       "      <td>4756672</td>\n",
       "      <td>Great location and enough space in the apartme...</td>\n",
       "      <td>2018-06-18</td>\n",
       "    </tr>\n",
       "    <tr>\n",
       "      <th>6</th>\n",
       "      <td>21605</td>\n",
       "      <td>57647372</td>\n",
       "      <td>Meritxell était très accueillante et nous a mi...</td>\n",
       "      <td>2016-05-08</td>\n",
       "    </tr>\n",
       "    <tr>\n",
       "      <th>7</th>\n",
       "      <td>21605</td>\n",
       "      <td>62165990</td>\n",
       "      <td>Con mi esposa nos hospedamos en casa de Michae...</td>\n",
       "      <td>2016-05-22</td>\n",
       "    </tr>\n",
       "    <tr>\n",
       "      <th>8</th>\n",
       "      <td>21605</td>\n",
       "      <td>67778905</td>\n",
       "      <td>Even though the hosts were not there at the mo...</td>\n",
       "      <td>2016-05-27</td>\n",
       "    </tr>\n",
       "    <tr>\n",
       "      <th>9</th>\n",
       "      <td>21605</td>\n",
       "      <td>64869468</td>\n",
       "      <td>La habitación es perfecta para una pareja y la...</td>\n",
       "      <td>2016-05-29</td>\n",
       "    </tr>\n",
       "    <tr>\n",
       "      <th>10</th>\n",
       "      <td>21605</td>\n",
       "      <td>19669204</td>\n",
       "      <td>Todo estupendo. Meritxell muy amable, la habit...</td>\n",
       "      <td>2016-06-03</td>\n",
       "    </tr>\n",
       "    <tr>\n",
       "      <th>11</th>\n",
       "      <td>21605</td>\n",
       "      <td>59626397</td>\n",
       "      <td>We had a great experience in Meritxell's apart...</td>\n",
       "      <td>2016-06-04</td>\n",
       "    </tr>\n",
       "    <tr>\n",
       "      <th>12</th>\n",
       "      <td>21605</td>\n",
       "      <td>75713733</td>\n",
       "      <td>We had an amazing weekend in Meritxell's flat ...</td>\n",
       "      <td>2016-06-12</td>\n",
       "    </tr>\n",
       "    <tr>\n",
       "      <th>13</th>\n",
       "      <td>21605</td>\n",
       "      <td>39277628</td>\n",
       "      <td>Nice appartment and it was easy to move anywhe...</td>\n",
       "      <td>2016-06-17</td>\n",
       "    </tr>\n",
       "    <tr>\n",
       "      <th>14</th>\n",
       "      <td>21605</td>\n",
       "      <td>72054240</td>\n",
       "      <td>Meritxell nous a accueillis très chaleuresemen...</td>\n",
       "      <td>2016-06-26</td>\n",
       "    </tr>\n",
       "    <tr>\n",
       "      <th>15</th>\n",
       "      <td>21605</td>\n",
       "      <td>71270699</td>\n",
       "      <td>We were in Barcelona for two nights and had a ...</td>\n",
       "      <td>2016-06-27</td>\n",
       "    </tr>\n",
       "    <tr>\n",
       "      <th>16</th>\n",
       "      <td>21605</td>\n",
       "      <td>77456855</td>\n",
       "      <td>La chambre était très bien. Meritxell nous a a...</td>\n",
       "      <td>2016-07-01</td>\n",
       "    </tr>\n",
       "    <tr>\n",
       "      <th>17</th>\n",
       "      <td>21605</td>\n",
       "      <td>74347449</td>\n",
       "      <td>She was really friendly  + free area's were ve...</td>\n",
       "      <td>2016-07-10</td>\n",
       "    </tr>\n",
       "    <tr>\n",
       "      <th>18</th>\n",
       "      <td>21605</td>\n",
       "      <td>79354117</td>\n",
       "      <td>Ringrazio Maritxell per l'ottimo alloggio che ...</td>\n",
       "      <td>2016-07-12</td>\n",
       "    </tr>\n",
       "    <tr>\n",
       "      <th>19</th>\n",
       "      <td>21605</td>\n",
       "      <td>68466442</td>\n",
       "      <td>Отдыхали с девушкой с 13 июля по 24 июля.\\nНам...</td>\n",
       "      <td>2016-07-25</td>\n",
       "    </tr>\n",
       "    <tr>\n",
       "      <th>20</th>\n",
       "      <td>21605</td>\n",
       "      <td>63909173</td>\n",
       "      <td>O bairro perigoso, bombeiros na frente bastant...</td>\n",
       "      <td>2016-07-25</td>\n",
       "    </tr>\n",
       "    <tr>\n",
       "      <th>21</th>\n",
       "      <td>21605</td>\n",
       "      <td>34289040</td>\n",
       "      <td>Very cozy flat with best location!\\nAnd host w...</td>\n",
       "      <td>2016-07-31</td>\n",
       "    </tr>\n",
       "    <tr>\n",
       "      <th>22</th>\n",
       "      <td>21605</td>\n",
       "      <td>145279</td>\n",
       "      <td>Everything was fine. The host was really nice ...</td>\n",
       "      <td>2017-05-19</td>\n",
       "    </tr>\n",
       "    <tr>\n",
       "      <th>23</th>\n",
       "      <td>590503</td>\n",
       "      <td>9875065</td>\n",
       "      <td>Beautiful loft to stay in!</td>\n",
       "      <td>2017-10-29</td>\n",
       "    </tr>\n",
       "    <tr>\n",
       "      <th>24</th>\n",
       "      <td>21605</td>\n",
       "      <td>84013452</td>\n",
       "      <td>El sitio queda a unos 20 min caminando de la p...</td>\n",
       "      <td>2016-08-03</td>\n",
       "    </tr>\n",
       "    <tr>\n",
       "      <th>25</th>\n",
       "      <td>21605</td>\n",
       "      <td>10371743</td>\n",
       "      <td>Meritxell és muy amable. Me retrase en llegar ...</td>\n",
       "      <td>2016-08-12</td>\n",
       "    </tr>\n",
       "    <tr>\n",
       "      <th>26</th>\n",
       "      <td>21605</td>\n",
       "      <td>40564426</td>\n",
       "      <td>Nice apartment with good metro connection. Mer...</td>\n",
       "      <td>2016-08-18</td>\n",
       "    </tr>\n",
       "    <tr>\n",
       "      <th>27</th>\n",
       "      <td>21605</td>\n",
       "      <td>72627266</td>\n",
       "      <td>We had great 9 nights! Room was nice and  very...</td>\n",
       "      <td>2016-08-27</td>\n",
       "    </tr>\n",
       "    <tr>\n",
       "      <th>28</th>\n",
       "      <td>21605</td>\n",
       "      <td>25534903</td>\n",
       "      <td>Meritxell and her husband were absolutely wond...</td>\n",
       "      <td>2016-08-30</td>\n",
       "    </tr>\n",
       "    <tr>\n",
       "      <th>29</th>\n",
       "      <td>21605</td>\n",
       "      <td>52098712</td>\n",
       "      <td>I had a nice stay at Meritxell's place, she an...</td>\n",
       "      <td>2016-09-05</td>\n",
       "    </tr>\n",
       "    <tr>\n",
       "      <th>...</th>\n",
       "      <td>...</td>\n",
       "      <td>...</td>\n",
       "      <td>...</td>\n",
       "      <td>...</td>\n",
       "    </tr>\n",
       "    <tr>\n",
       "      <th>464444</th>\n",
       "      <td>29487421</td>\n",
       "      <td>222446288</td>\n",
       "      <td>Beautiful apartment in a very good location to...</td>\n",
       "      <td>2018-11-05</td>\n",
       "    </tr>\n",
       "    <tr>\n",
       "      <th>464445</th>\n",
       "      <td>29507732</td>\n",
       "      <td>134706625</td>\n",
       "      <td>Nous fûmes très bien reçu, malgré l'heure tard...</td>\n",
       "      <td>2018-10-28</td>\n",
       "    </tr>\n",
       "    <tr>\n",
       "      <th>464446</th>\n",
       "      <td>29507732</td>\n",
       "      <td>222540934</td>\n",
       "      <td>Es una persona muy simpatica que nos ospedo co...</td>\n",
       "      <td>2018-10-31</td>\n",
       "    </tr>\n",
       "    <tr>\n",
       "      <th>464447</th>\n",
       "      <td>29511851</td>\n",
       "      <td>26196929</td>\n",
       "      <td>Willy is a super host. He's very nice and thou...</td>\n",
       "      <td>2018-10-31</td>\n",
       "    </tr>\n",
       "    <tr>\n",
       "      <th>464448</th>\n",
       "      <td>29511851</td>\n",
       "      <td>19360199</td>\n",
       "      <td>It is all exactly like described. Very good lo...</td>\n",
       "      <td>2018-11-04</td>\n",
       "    </tr>\n",
       "    <tr>\n",
       "      <th>464449</th>\n",
       "      <td>29514367</td>\n",
       "      <td>108356700</td>\n",
       "      <td>Aceuil, emplacement propreté équipement rien à...</td>\n",
       "      <td>2018-10-28</td>\n",
       "    </tr>\n",
       "    <tr>\n",
       "      <th>464450</th>\n",
       "      <td>29528799</td>\n",
       "      <td>30440241</td>\n",
       "      <td>The host canceled this reservation 3 days befo...</td>\n",
       "      <td>2018-10-25</td>\n",
       "    </tr>\n",
       "    <tr>\n",
       "      <th>464451</th>\n",
       "      <td>29528799</td>\n",
       "      <td>44333499</td>\n",
       "      <td>The host canceled this reservation 64 days bef...</td>\n",
       "      <td>2018-10-25</td>\n",
       "    </tr>\n",
       "    <tr>\n",
       "      <th>464452</th>\n",
       "      <td>29528799</td>\n",
       "      <td>101904739</td>\n",
       "      <td>The host canceled this reservation 7 days befo...</td>\n",
       "      <td>2018-10-25</td>\n",
       "    </tr>\n",
       "    <tr>\n",
       "      <th>464453</th>\n",
       "      <td>29533614</td>\n",
       "      <td>5000992</td>\n",
       "      <td>Sid was an amazing host. He was very friendly ...</td>\n",
       "      <td>2018-10-31</td>\n",
       "    </tr>\n",
       "    <tr>\n",
       "      <th>464454</th>\n",
       "      <td>29533614</td>\n",
       "      <td>18240831</td>\n",
       "      <td>We were in Barcelona for my wife's birthday. W...</td>\n",
       "      <td>2018-11-01</td>\n",
       "    </tr>\n",
       "    <tr>\n",
       "      <th>464455</th>\n",
       "      <td>29535104</td>\n",
       "      <td>6359909</td>\n",
       "      <td>The host canceled this reservation 2 days befo...</td>\n",
       "      <td>2018-11-06</td>\n",
       "    </tr>\n",
       "    <tr>\n",
       "      <th>464456</th>\n",
       "      <td>29536652</td>\n",
       "      <td>118639504</td>\n",
       "      <td>saidi. Thank you for being a great host. You w...</td>\n",
       "      <td>2018-10-26</td>\n",
       "    </tr>\n",
       "    <tr>\n",
       "      <th>464457</th>\n",
       "      <td>29542227</td>\n",
       "      <td>201127021</td>\n",
       "      <td>Excellent location in the city center, comfort...</td>\n",
       "      <td>2018-11-05</td>\n",
       "    </tr>\n",
       "    <tr>\n",
       "      <th>464458</th>\n",
       "      <td>29560594</td>\n",
       "      <td>996445</td>\n",
       "      <td>The host canceled this reservation 59 days bef...</td>\n",
       "      <td>2018-10-31</td>\n",
       "    </tr>\n",
       "    <tr>\n",
       "      <th>464459</th>\n",
       "      <td>29577981</td>\n",
       "      <td>3901585</td>\n",
       "      <td>Benjamin's apt in Barcelona is very nice, clea...</td>\n",
       "      <td>2018-11-04</td>\n",
       "    </tr>\n",
       "    <tr>\n",
       "      <th>464460</th>\n",
       "      <td>29581629</td>\n",
       "      <td>213507244</td>\n",
       "      <td>John es muy simpático y atento a la hora de ll...</td>\n",
       "      <td>2018-10-28</td>\n",
       "    </tr>\n",
       "    <tr>\n",
       "      <th>464461</th>\n",
       "      <td>29581629</td>\n",
       "      <td>218440078</td>\n",
       "      <td>You can expect a very welcoming host who genui...</td>\n",
       "      <td>2018-11-02</td>\n",
       "    </tr>\n",
       "    <tr>\n",
       "      <th>464462</th>\n",
       "      <td>29581629</td>\n",
       "      <td>7528443</td>\n",
       "      <td>John wait till i arrive to the apartment, that...</td>\n",
       "      <td>2018-11-04</td>\n",
       "    </tr>\n",
       "    <tr>\n",
       "      <th>464463</th>\n",
       "      <td>29582678</td>\n",
       "      <td>217532162</td>\n",
       "      <td>This room is really cozy and everything is cle...</td>\n",
       "      <td>2018-10-29</td>\n",
       "    </tr>\n",
       "    <tr>\n",
       "      <th>464464</th>\n",
       "      <td>29582678</td>\n",
       "      <td>97272012</td>\n",
       "      <td>de todos los alojamientos en Barcelona es la q...</td>\n",
       "      <td>2018-11-01</td>\n",
       "    </tr>\n",
       "    <tr>\n",
       "      <th>464465</th>\n",
       "      <td>29582678</td>\n",
       "      <td>171669879</td>\n",
       "      <td>Alojarte con Coromoto, podra ser una buena ele...</td>\n",
       "      <td>2018-11-04</td>\n",
       "    </tr>\n",
       "    <tr>\n",
       "      <th>464466</th>\n",
       "      <td>29630561</td>\n",
       "      <td>214147325</td>\n",
       "      <td>The host canceled this reservation 55 days bef...</td>\n",
       "      <td>2018-11-02</td>\n",
       "    </tr>\n",
       "    <tr>\n",
       "      <th>464467</th>\n",
       "      <td>29649317</td>\n",
       "      <td>7232983</td>\n",
       "      <td>I absolutely love this AirBnB. The location is...</td>\n",
       "      <td>2018-11-02</td>\n",
       "    </tr>\n",
       "    <tr>\n",
       "      <th>464468</th>\n",
       "      <td>29649317</td>\n",
       "      <td>128931425</td>\n",
       "      <td>We could not have asked for a better penthouse...</td>\n",
       "      <td>2018-11-03</td>\n",
       "    </tr>\n",
       "    <tr>\n",
       "      <th>464469</th>\n",
       "      <td>29649317</td>\n",
       "      <td>5661828</td>\n",
       "      <td>Eiza is really great host for giving us chocol...</td>\n",
       "      <td>2018-11-04</td>\n",
       "    </tr>\n",
       "    <tr>\n",
       "      <th>464470</th>\n",
       "      <td>29649317</td>\n",
       "      <td>3591499</td>\n",
       "      <td>Eiza was a great host and has an excellent apa...</td>\n",
       "      <td>2018-11-05</td>\n",
       "    </tr>\n",
       "    <tr>\n",
       "      <th>464471</th>\n",
       "      <td>29649317</td>\n",
       "      <td>217218433</td>\n",
       "      <td>Eiza is a great flexible and responsible host....</td>\n",
       "      <td>2018-11-06</td>\n",
       "    </tr>\n",
       "    <tr>\n",
       "      <th>464472</th>\n",
       "      <td>29748400</td>\n",
       "      <td>183391807</td>\n",
       "      <td>The host canceled this reservation 14 days bef...</td>\n",
       "      <td>2018-11-03</td>\n",
       "    </tr>\n",
       "    <tr>\n",
       "      <th>464473</th>\n",
       "      <td>29847117</td>\n",
       "      <td>224518248</td>\n",
       "      <td>The host canceled this reservation 173 days be...</td>\n",
       "      <td>2018-11-07</td>\n",
       "    </tr>\n",
       "  </tbody>\n",
       "</table>\n",
       "<p>464474 rows × 4 columns</p>\n",
       "</div>"
      ],
      "text/plain": [
       "              id  reviewer_id  \\\n",
       "0          18666      1559265   \n",
       "1          18674      4841196   \n",
       "2          18674     11600277   \n",
       "3          18674     35231385   \n",
       "4          18674     23223644   \n",
       "5          18674      4756672   \n",
       "6          21605     57647372   \n",
       "7          21605     62165990   \n",
       "8          21605     67778905   \n",
       "9          21605     64869468   \n",
       "10         21605     19669204   \n",
       "11         21605     59626397   \n",
       "12         21605     75713733   \n",
       "13         21605     39277628   \n",
       "14         21605     72054240   \n",
       "15         21605     71270699   \n",
       "16         21605     77456855   \n",
       "17         21605     74347449   \n",
       "18         21605     79354117   \n",
       "19         21605     68466442   \n",
       "20         21605     63909173   \n",
       "21         21605     34289040   \n",
       "22         21605       145279   \n",
       "23        590503      9875065   \n",
       "24         21605     84013452   \n",
       "25         21605     10371743   \n",
       "26         21605     40564426   \n",
       "27         21605     72627266   \n",
       "28         21605     25534903   \n",
       "29         21605     52098712   \n",
       "...          ...          ...   \n",
       "464444  29487421    222446288   \n",
       "464445  29507732    134706625   \n",
       "464446  29507732    222540934   \n",
       "464447  29511851     26196929   \n",
       "464448  29511851     19360199   \n",
       "464449  29514367    108356700   \n",
       "464450  29528799     30440241   \n",
       "464451  29528799     44333499   \n",
       "464452  29528799    101904739   \n",
       "464453  29533614      5000992   \n",
       "464454  29533614     18240831   \n",
       "464455  29535104      6359909   \n",
       "464456  29536652    118639504   \n",
       "464457  29542227    201127021   \n",
       "464458  29560594       996445   \n",
       "464459  29577981      3901585   \n",
       "464460  29581629    213507244   \n",
       "464461  29581629    218440078   \n",
       "464462  29581629      7528443   \n",
       "464463  29582678    217532162   \n",
       "464464  29582678     97272012   \n",
       "464465  29582678    171669879   \n",
       "464466  29630561    214147325   \n",
       "464467  29649317      7232983   \n",
       "464468  29649317    128931425   \n",
       "464469  29649317      5661828   \n",
       "464470  29649317      3591499   \n",
       "464471  29649317    217218433   \n",
       "464472  29748400    183391807   \n",
       "464473  29847117    224518248   \n",
       "\n",
       "                                                 comments review_date  \n",
       "0       Very nice flat. We had easy transportation to ...  2015-10-10  \n",
       "1       Great location. Clean, spacious flat. Would re...  2013-05-27  \n",
       "2       Mi mejor recomendación para este departamento....  2014-03-02  \n",
       "3       Big apartment, well equipped.\\nVery good servi...  2015-08-04  \n",
       "4       The Check in was fast and flexible. The price ...  2016-06-20  \n",
       "5       Great location and enough space in the apartme...  2018-06-18  \n",
       "6       Meritxell était très accueillante et nous a mi...  2016-05-08  \n",
       "7       Con mi esposa nos hospedamos en casa de Michae...  2016-05-22  \n",
       "8       Even though the hosts were not there at the mo...  2016-05-27  \n",
       "9       La habitación es perfecta para una pareja y la...  2016-05-29  \n",
       "10      Todo estupendo. Meritxell muy amable, la habit...  2016-06-03  \n",
       "11      We had a great experience in Meritxell's apart...  2016-06-04  \n",
       "12      We had an amazing weekend in Meritxell's flat ...  2016-06-12  \n",
       "13      Nice appartment and it was easy to move anywhe...  2016-06-17  \n",
       "14      Meritxell nous a accueillis très chaleuresemen...  2016-06-26  \n",
       "15      We were in Barcelona for two nights and had a ...  2016-06-27  \n",
       "16      La chambre était très bien. Meritxell nous a a...  2016-07-01  \n",
       "17      She was really friendly  + free area's were ve...  2016-07-10  \n",
       "18      Ringrazio Maritxell per l'ottimo alloggio che ...  2016-07-12  \n",
       "19      Отдыхали с девушкой с 13 июля по 24 июля.\\nНам...  2016-07-25  \n",
       "20      O bairro perigoso, bombeiros na frente bastant...  2016-07-25  \n",
       "21      Very cozy flat with best location!\\nAnd host w...  2016-07-31  \n",
       "22      Everything was fine. The host was really nice ...  2017-05-19  \n",
       "23                             Beautiful loft to stay in!  2017-10-29  \n",
       "24      El sitio queda a unos 20 min caminando de la p...  2016-08-03  \n",
       "25      Meritxell és muy amable. Me retrase en llegar ...  2016-08-12  \n",
       "26      Nice apartment with good metro connection. Mer...  2016-08-18  \n",
       "27      We had great 9 nights! Room was nice and  very...  2016-08-27  \n",
       "28      Meritxell and her husband were absolutely wond...  2016-08-30  \n",
       "29      I had a nice stay at Meritxell's place, she an...  2016-09-05  \n",
       "...                                                   ...         ...  \n",
       "464444  Beautiful apartment in a very good location to...  2018-11-05  \n",
       "464445  Nous fûmes très bien reçu, malgré l'heure tard...  2018-10-28  \n",
       "464446  Es una persona muy simpatica que nos ospedo co...  2018-10-31  \n",
       "464447  Willy is a super host. He's very nice and thou...  2018-10-31  \n",
       "464448  It is all exactly like described. Very good lo...  2018-11-04  \n",
       "464449  Aceuil, emplacement propreté équipement rien à...  2018-10-28  \n",
       "464450  The host canceled this reservation 3 days befo...  2018-10-25  \n",
       "464451  The host canceled this reservation 64 days bef...  2018-10-25  \n",
       "464452  The host canceled this reservation 7 days befo...  2018-10-25  \n",
       "464453  Sid was an amazing host. He was very friendly ...  2018-10-31  \n",
       "464454  We were in Barcelona for my wife's birthday. W...  2018-11-01  \n",
       "464455  The host canceled this reservation 2 days befo...  2018-11-06  \n",
       "464456  saidi. Thank you for being a great host. You w...  2018-10-26  \n",
       "464457  Excellent location in the city center, comfort...  2018-11-05  \n",
       "464458  The host canceled this reservation 59 days bef...  2018-10-31  \n",
       "464459  Benjamin's apt in Barcelona is very nice, clea...  2018-11-04  \n",
       "464460  John es muy simpático y atento a la hora de ll...  2018-10-28  \n",
       "464461  You can expect a very welcoming host who genui...  2018-11-02  \n",
       "464462  John wait till i arrive to the apartment, that...  2018-11-04  \n",
       "464463  This room is really cozy and everything is cle...  2018-10-29  \n",
       "464464  de todos los alojamientos en Barcelona es la q...  2018-11-01  \n",
       "464465  Alojarte con Coromoto, podra ser una buena ele...  2018-11-04  \n",
       "464466  The host canceled this reservation 55 days bef...  2018-11-02  \n",
       "464467  I absolutely love this AirBnB. The location is...  2018-11-02  \n",
       "464468  We could not have asked for a better penthouse...  2018-11-03  \n",
       "464469  Eiza is really great host for giving us chocol...  2018-11-04  \n",
       "464470  Eiza was a great host and has an excellent apa...  2018-11-05  \n",
       "464471  Eiza is a great flexible and responsible host....  2018-11-06  \n",
       "464472  The host canceled this reservation 14 days bef...  2018-11-03  \n",
       "464473  The host canceled this reservation 173 days be...  2018-11-07  \n",
       "\n",
       "[464474 rows x 4 columns]"
      ]
     },
     "execution_count": 55,
     "metadata": {},
     "output_type": "execute_result"
    }
   ],
   "source": [
    "reviewed"
   ]
  },
  {
   "cell_type": "code",
   "execution_count": 58,
   "metadata": {},
   "outputs": [
    {
     "data": {
      "text/html": [
       "<div>\n",
       "<style scoped>\n",
       "    .dataframe tbody tr th:only-of-type {\n",
       "        vertical-align: middle;\n",
       "    }\n",
       "\n",
       "    .dataframe tbody tr th {\n",
       "        vertical-align: top;\n",
       "    }\n",
       "\n",
       "    .dataframe thead th {\n",
       "        text-align: right;\n",
       "    }\n",
       "</style>\n",
       "<table border=\"1\" class=\"dataframe\">\n",
       "  <thead>\n",
       "    <tr style=\"text-align: right;\">\n",
       "      <th></th>\n",
       "      <th>id</th>\n",
       "      <th>reviewer_id</th>\n",
       "      <th>comments</th>\n",
       "      <th>review_date</th>\n",
       "    </tr>\n",
       "  </thead>\n",
       "  <tbody>\n",
       "    <tr>\n",
       "      <th>134162</th>\n",
       "      <td>1996730</td>\n",
       "      <td>85117476</td>\n",
       "      <td>El apartamiento es increible, muy espacioso y ...</td>\n",
       "      <td>2016-07-23</td>\n",
       "    </tr>\n",
       "    <tr>\n",
       "      <th>134163</th>\n",
       "      <td>1996730</td>\n",
       "      <td>85117476</td>\n",
       "      <td>La segunda vez que me quedo en su piso y como ...</td>\n",
       "      <td>2016-07-23</td>\n",
       "    </tr>\n",
       "    <tr>\n",
       "      <th>210431</th>\n",
       "      <td>3823973</td>\n",
       "      <td>24495890</td>\n",
       "      <td>The reservation was canceled 17 days before ar...</td>\n",
       "      <td>2015-03-08</td>\n",
       "    </tr>\n",
       "    <tr>\n",
       "      <th>210796</th>\n",
       "      <td>3823973</td>\n",
       "      <td>24495890</td>\n",
       "      <td>The reservation was canceled 24 days before ar...</td>\n",
       "      <td>2015-03-08</td>\n",
       "    </tr>\n",
       "    <tr>\n",
       "      <th>212882</th>\n",
       "      <td>3823973</td>\n",
       "      <td>24495890</td>\n",
       "      <td>The reservation was canceled 10 days before ar...</td>\n",
       "      <td>2015-03-08</td>\n",
       "    </tr>\n",
       "    <tr>\n",
       "      <th>263426</th>\n",
       "      <td>6449766</td>\n",
       "      <td>57829170</td>\n",
       "      <td>The host canceled this reservation 24 days bef...</td>\n",
       "      <td>2018-06-05</td>\n",
       "    </tr>\n",
       "    <tr>\n",
       "      <th>263427</th>\n",
       "      <td>6449766</td>\n",
       "      <td>57829170</td>\n",
       "      <td>The host canceled this reservation 33 days bef...</td>\n",
       "      <td>2018-06-05</td>\n",
       "    </tr>\n",
       "    <tr>\n",
       "      <th>378123</th>\n",
       "      <td>16347842</td>\n",
       "      <td>19641299</td>\n",
       "      <td>The host canceled this reservation 11 days bef...</td>\n",
       "      <td>2017-11-16</td>\n",
       "    </tr>\n",
       "    <tr>\n",
       "      <th>378124</th>\n",
       "      <td>16347842</td>\n",
       "      <td>19641299</td>\n",
       "      <td>The host canceled this reservation 7 days befo...</td>\n",
       "      <td>2017-11-16</td>\n",
       "    </tr>\n",
       "  </tbody>\n",
       "</table>\n",
       "</div>"
      ],
      "text/plain": [
       "              id  reviewer_id  \\\n",
       "134162   1996730     85117476   \n",
       "134163   1996730     85117476   \n",
       "210431   3823973     24495890   \n",
       "210796   3823973     24495890   \n",
       "212882   3823973     24495890   \n",
       "263426   6449766     57829170   \n",
       "263427   6449766     57829170   \n",
       "378123  16347842     19641299   \n",
       "378124  16347842     19641299   \n",
       "\n",
       "                                                 comments review_date  \n",
       "134162  El apartamiento es increible, muy espacioso y ...  2016-07-23  \n",
       "134163  La segunda vez que me quedo en su piso y como ...  2016-07-23  \n",
       "210431  The reservation was canceled 17 days before ar...  2015-03-08  \n",
       "210796  The reservation was canceled 24 days before ar...  2015-03-08  \n",
       "212882  The reservation was canceled 10 days before ar...  2015-03-08  \n",
       "263426  The host canceled this reservation 24 days bef...  2018-06-05  \n",
       "263427  The host canceled this reservation 33 days bef...  2018-06-05  \n",
       "378123  The host canceled this reservation 11 days bef...  2017-11-16  \n",
       "378124  The host canceled this reservation 7 days befo...  2017-11-16  "
      ]
     },
     "execution_count": 58,
     "metadata": {},
     "output_type": "execute_result"
    }
   ],
   "source": [
    "reviewed[reviewed.duplicated(['id', \"review_date\", \"reviewer_id\"], keep=False)]"
   ]
  },
  {
   "cell_type": "markdown",
   "metadata": {},
   "source": [
    "#### We need to change the primary key to (id, reviewer_id, date) and decide what to do with the duplicates"
   ]
  },
  {
   "cell_type": "markdown",
   "metadata": {},
   "source": [
    "## Import Pricing"
   ]
  },
  {
   "cell_type": "code",
   "execution_count": 118,
   "metadata": {},
   "outputs": [],
   "source": [
    "pricing = pd.DataFrame({\"price\": listings.price, \"weekly_price\" : listings.weekly_price, \"monthly_price\": listings.monthly_price, \"security_deposit\" : listings.security_deposit, \"cleaning_fee\" : listings.cleaning_fee, \"guests_included\" : listings.guests_included, \"extra_people\" : listings.extra_people, \"minimum_nights\" : listings.minimum_nights, \"maximum_nights\" : listings.maximum_nights, \"id\" : listings.id})"
   ]
  },
  {
   "cell_type": "code",
   "execution_count": 119,
   "metadata": {},
   "outputs": [],
   "source": [
    "for i in pricing.index:\n",
    "    pricing.at[i, \"price\"] = float(str(pricing.at[i, \"price\"])[1:].replace(\",\", \"\"))\n",
    "    if not pd.isnull(pricing.at[i, \"weekly_price\"]):\n",
    "        pricing.at[i, \"weekly_price\"] = float(str(pricing.at[i, \"weekly_price\"])[1:].replace(\",\", \"\"))\n",
    "    if not pd.isnull(pricing.at[i, \"monthly_price\"]):\n",
    "        pricing.at[i, \"monthly_price\"] = float(str(pricing.at[i, \"monthly_price\"])[1:].replace(\",\", \"\"))\n",
    "    if not pd.isnull(pricing.at[i, \"security_deposit\"]):\n",
    "        pricing.at[i, \"security_deposit\"] = float(str(pricing.at[i, \"security_deposit\"])[1:].replace(\",\", \"\"))\n",
    "    if not pd.isnull(pricing.at[i, \"cleaning_fee\"]):\n",
    "        pricing.at[i, \"cleaning_fee\"] = float(str(pricing.at[i, \"cleaning_fee\"])[1:].replace(\",\", \"\"))\n",
    "    if not pd.isnull(pricing.at[i, \"extra_people\"]):\n",
    "        pricing.at[i, \"extra_people\"] = float(str(pricing.at[i, \"extra_people\"])[1:].replace(\",\", \"\"))"
   ]
  },
  {
   "cell_type": "code",
   "execution_count": 120,
   "metadata": {},
   "outputs": [],
   "source": [
    "for i in pricing.index:\n",
    "    if pd.isnull(pricing.at[i, \"weekly_price\"]):\n",
    "        pricing.at[i, \"weekly_price\"] = pricing.at[i, \"price\"] * 7\n",
    "    if pd.isnull(pricing.at[i, \"monthly_price\"]):\n",
    "        pricing.at[i, \"monthly_price\"] = pricing.at[i, \"price\"] * 30\n",
    "    if pd.isnull(pricing.at[i, \"security_deposit\"]):\n",
    "        pricing.at[i, \"security_deposit\"] = 0\n",
    "    if pd.isnull(pricing.at[i, \"cleaning_fee\"]):\n",
    "        pricing.at[i, \"cleaning_fee\"] = 0"
   ]
  },
  {
   "cell_type": "code",
   "execution_count": 123,
   "metadata": {},
   "outputs": [],
   "source": [
    "pricing.to_sql(\"Pricing\", engine, if_exists=\"append\", index=False, dtype={\"price\": sqlalchemy.FLOAT, \"weekly_price\" : sqlalchemy.FLOAT, \"monthly_price\": sqlalchemy.FLOAT, \"security_deposit\" : sqlalchemy.FLOAT, \"cleaning_fee\" : sqlalchemy.FLOAT, \"guests_included\" : sqlalchemy.INT, \"extra_people\" : sqlalchemy.FLOAT, \"minimum_nights\" : sqlalchemy.INT, \"maximum_nights\" : sqlalchemy.INT, \"id\" : sqlalchemy.INT})"
   ]
  },
  {
   "cell_type": "markdown",
   "metadata": {},
   "source": [
    "## Import Verification"
   ]
  },
  {
   "cell_type": "code",
   "execution_count": 129,
   "metadata": {},
   "outputs": [],
   "source": [
    "verification = pd.DataFrame(listings.host_verifications.unique(), columns=[\"host_verifications\"])"
   ]
  },
  {
   "cell_type": "code",
   "execution_count": 133,
   "metadata": {},
   "outputs": [],
   "source": [
    "temp = []\n",
    "for index, row in verification.iterrows():\n",
    "    temp.append(row[\"host_verifications\"].split(','))"
   ]
  },
  {
   "cell_type": "code",
   "execution_count": 135,
   "metadata": {},
   "outputs": [],
   "source": [
    "flat_list = []\n",
    "for sublist in temp:\n",
    "    for item in sublist:\n",
    "        flat_list.append(item)"
   ]
  },
  {
   "cell_type": "code",
   "execution_count": 141,
   "metadata": {},
   "outputs": [],
   "source": [
    "new_list = []\n",
    "for item in flat_list:\n",
    "    new_list.append('\"' + remove_chars(item) + '\"')"
   ]
  },
  {
   "cell_type": "code",
   "execution_count": 142,
   "metadata": {},
   "outputs": [],
   "source": [
    "new_list = list(set(new_list))"
   ]
  },
  {
   "cell_type": "code",
   "execution_count": 147,
   "metadata": {},
   "outputs": [],
   "source": [
    "new_list.remove('\"\"')"
   ]
  },
  {
   "cell_type": "code",
   "execution_count": 148,
   "metadata": {},
   "outputs": [
    {
     "data": {
      "text/plain": [
       "['\"google\"',\n",
       " '\"sesame\"',\n",
       " '\"phone\"',\n",
       " '\"government_id\"',\n",
       " '\"zhima_selfie\"',\n",
       " '\"jumio\"',\n",
       " '\"facebook\"',\n",
       " '\"photographer\"',\n",
       " '\"kba\"',\n",
       " '\"manual_offline\"',\n",
       " '\"offline_government_id\"',\n",
       " '\"selfie\"',\n",
       " '\"weibo\"',\n",
       " '\"work_email\"',\n",
       " '\"reviews\"',\n",
       " '\"sent_id\"',\n",
       " '\"sesame_offline\"',\n",
       " '\"manual_online\"',\n",
       " '\"identity_manual\"',\n",
       " '\"email\"']"
      ]
     },
     "execution_count": 148,
     "metadata": {},
     "output_type": "execute_result"
    }
   ],
   "source": [
    "new_list"
   ]
  },
  {
   "cell_type": "code",
   "execution_count": 151,
   "metadata": {},
   "outputs": [],
   "source": [
    "verification = pd.DataFrame({\"host_verifications_id\" : np.arange(len(new_list)), \"host_verifications\" : new_list})"
   ]
  },
  {
   "cell_type": "code",
   "execution_count": 152,
   "metadata": {},
   "outputs": [],
   "source": [
    "verification.to_sql(\"Verification\", engine, if_exists=\"append\", index=False, dtype={\"host_verifications_id\" : sqlalchemy.INT, \"host_verifications\" : sqlalchemy.CHAR(32)})"
   ]
  },
  {
   "cell_type": "markdown",
   "metadata": {},
   "source": [
    "## Import verified_by TODO"
   ]
  },
  {
   "cell_type": "markdown",
   "metadata": {},
   "source": [
    "## Import Calendar"
   ]
  },
  {
   "cell_type": "code",
   "execution_count": 169,
   "metadata": {},
   "outputs": [],
   "source": [
    "cal = pd.DataFrame({\"cal_id\" : np.arange(len(calendar.date.unique())), \"date\" : calendar.date.unique()})"
   ]
  },
  {
   "cell_type": "code",
   "execution_count": 171,
   "metadata": {},
   "outputs": [],
   "source": [
    "for i in cal.index:\n",
    "    cal.at[i, \"date\"] = datetime.datetime.strptime(str(cal.at[i, \"date\"]), \"%Y-%m-%d\").date()"
   ]
  },
  {
   "cell_type": "code",
   "execution_count": 173,
   "metadata": {},
   "outputs": [],
   "source": [
    "cal.to_sql(\"Calendar\", engine, if_exists=\"append\", index=False, dtype={\"cal_id\" : sqlalchemy.INT, \"date\" : sqlalchemy.DATE})"
   ]
  },
  {
   "cell_type": "markdown",
   "metadata": {},
   "source": [
    "## Import Available_at"
   ]
  },
  {
   "cell_type": "code",
   "execution_count": 191,
   "metadata": {},
   "outputs": [],
   "source": [
    "date_mapping = {}\n",
    "for i in cal.index:\n",
    "    date_mapping[str(cal.at[i, \"date\"])] = cal.at[i, \"cal_id\"]"
   ]
  },
  {
   "cell_type": "code",
   "execution_count": 193,
   "metadata": {},
   "outputs": [],
   "source": [
    "second_mapping = []\n",
    "for i in calendar.index:\n",
    "    second_mapping.append(date_mapping.get(calendar.at[i, \"date\"]))"
   ]
  },
  {
   "cell_type": "code",
   "execution_count": 212,
   "metadata": {},
   "outputs": [],
   "source": [
    "avail = pd.DataFrame({\"id\" : calendar.listing_id, \"cal_id\" : second_mapping, \"price\" : calendar.price, \"available\" : calendar.available})"
   ]
  },
  {
   "cell_type": "code",
   "execution_count": 215,
   "metadata": {},
   "outputs": [],
   "source": [
    "for i in avail.index:\n",
    "    if not pd.isna(avail.at[i, \"price\"]):\n",
    "        avail.at[i, \"price\"] = float(str(avail.at[i, \"price\"]).replace(\",\",\"\").replace(\"$\", \"\"))"
   ]
  },
  {
   "cell_type": "code",
   "execution_count": 217,
   "metadata": {},
   "outputs": [],
   "source": [
    "avail = avail.fillna(-1)"
   ]
  },
  {
   "cell_type": "code",
   "execution_count": 219,
   "metadata": {},
   "outputs": [],
   "source": [
    "avail.to_sql(\"Available_at\", engine, if_exists=\"append\", index=False, dtype={\"id\" : sqlalchemy.INT, \"cal_id\" : sqlalchemy.INT, \"price\" : sqlalchemy.INT, \"available\" : sqlalchemy.CHAR(1)})"
   ]
  },
  {
   "cell_type": "markdown",
   "metadata": {},
   "source": [
    "## Import Policy TODO it has been imported but need to check for correctness"
   ]
  },
  {
   "cell_type": "code",
   "execution_count": 38,
   "metadata": {},
   "outputs": [],
   "source": [
    "reduced = listings[[\"id\", \"is_business_travel_ready\", \"cancellation_policy\", \"require_guest_profile_picture\", \"require_guest_phone_verification\"]]"
   ]
  },
  {
   "cell_type": "code",
   "execution_count": 41,
   "metadata": {
    "scrolled": true
   },
   "outputs": [
    {
     "name": "stdout",
     "output_type": "stream",
     "text": [
      "{'flexible': 0, 'strict_14_with_grace_period': 1, 'moderate': 2, 'super_strict_30': 3, 'super_strict_60': 4, 'strict': 5}\n"
     ]
    }
   ],
   "source": [
    "policy_mapping = {}\n",
    "for i, e in enumerate(reduced.cancellation_policy.unique()):\n",
    "    policy_mapping[e] = i"
   ]
  },
  {
   "cell_type": "code",
   "execution_count": 44,
   "metadata": {},
   "outputs": [],
   "source": [
    "policy_id = np.arange(len(listings.id))"
   ]
  },
  {
   "cell_type": "code",
   "execution_count": 45,
   "metadata": {},
   "outputs": [],
   "source": [
    "reduced.insert(1, column=\"policy_id\", value=policy_id)"
   ]
  },
  {
   "cell_type": "code",
   "execution_count": 55,
   "metadata": {},
   "outputs": [],
   "source": [
    "for i in reduced.index:\n",
    "    reduced.at[i, \"policy_id\"] = int(policy_mapping.get(reduced.at[i, \"cancellation_policy\"]))"
   ]
  },
  {
   "cell_type": "code",
   "execution_count": 24,
   "metadata": {
    "scrolled": true
   },
   "outputs": [
    {
     "data": {
      "text/plain": [
       "[]"
      ]
     },
     "execution_count": 24,
     "metadata": {},
     "output_type": "execute_result"
    }
   ],
   "source": [
    "[print(\"Hey\") for i in reduced.index if reduced.at[i, \"is_business_travel_ready\"] == \"t\"]"
   ]
  },
  {
   "cell_type": "markdown",
   "metadata": {},
   "source": [
    "#### This means that we can probably drop the is_business_travel_ready column because no single listing is business ready\n",
    "#### Because of the form of the data (boolean values directly mapped to listing id) it is not possible to put everything in one entity that is compressed, meaning that we keep only the unique values of the cancellation_policy. Tha's why I put them in a big inefficient table until the ER is modified to better accomodate this situation. I also set the primary key to be id, policy_id"
   ]
  },
  {
   "cell_type": "code",
   "execution_count": 57,
   "metadata": {},
   "outputs": [],
   "source": [
    "reduced.to_sql(\"Policy\", engine, if_exists=\"append\", index=False, dtype={\"id\" : sqlalchemy.INT, \"is_business_travel_ready\" : sqlalchemy.CHAR(1), \"cancellation_policy\" : sqlalchemy.CHAR(32), \"require_guest_profile_picture\" : sqlalchemy.CHAR(1), \"require_guest_phone_verification\" : sqlalchemy.CHAR(1)})"
   ]
  },
  {
   "cell_type": "markdown",
   "metadata": {},
   "source": [
    "## Import Score"
   ]
  },
  {
   "cell_type": "code",
   "execution_count": 70,
   "metadata": {},
   "outputs": [],
   "source": [
    "score = pd.DataFrame({\"review_scores_rating\" : listings.review_scores_rating, \"review_scores_accuracy\" : listings.review_scores_accuracy, \"review_scores_cleanliness\" : listings.review_scores_cleanliness, \"review_scores_checkin\" : listings.review_scores_checkin, \"review_scores_communication\" : listings.review_scores_communication, \"review_scores_location\" : listings.review_scores_location, \"review_scores_value\" : listings.review_scores_value, \"id\" : listings.id})"
   ]
  },
  {
   "cell_type": "markdown",
   "metadata": {},
   "source": [
    "#### There are many lines that are onlly NaN. I put -1 to every one of them and loaded it to the db because I wasn't sure how we wanted to handle it. Maybe we could even drop the lines that are all NaN."
   ]
  },
  {
   "cell_type": "code",
   "execution_count": 71,
   "metadata": {
    "scrolled": true
   },
   "outputs": [],
   "source": [
    "score = score.fillna(-1)"
   ]
  },
  {
   "cell_type": "code",
   "execution_count": 72,
   "metadata": {},
   "outputs": [],
   "source": [
    "score.to_sql(\"Score\", engine, if_exists=\"append\", index=False, dtype={\"review_scores_rating\" : sqlalchemy.INT, \"review_scores_accuracy\" : sqlalchemy.INT, \"review_scores_cleanliness\" : sqlalchemy.INT, \"review_scores_checkin\" : sqlalchemy.INT, \"review_scores_communication\" : sqlalchemy.INT, \"review_scores_location\" : sqlalchemy.INT, \"review_scores_value\" : sqlalchemy.INT, \"id\" : sqlalchemy.INT})"
   ]
  }
 ],
 "metadata": {
  "kernelspec": {
   "display_name": "Python 3",
   "language": "python",
   "name": "python3"
  },
  "language_info": {
   "codemirror_mode": {
    "name": "ipython",
    "version": 3
   },
   "file_extension": ".py",
   "mimetype": "text/x-python",
   "name": "python",
   "nbconvert_exporter": "python",
   "pygments_lexer": "ipython3",
   "version": "3.6.6"
  }
 },
 "nbformat": 4,
 "nbformat_minor": 2
}
