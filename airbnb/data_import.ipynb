{
 "cells": [
  {
   "cell_type": "markdown",
   "metadata": {},
   "source": [
    "## Basic setting up"
   ]
  },
  {
   "cell_type": "code",
   "execution_count": 1,
   "metadata": {},
   "outputs": [],
   "source": [
    "import pandas as pd\n",
    "import numpy as np\n",
    "from sqlalchemy import create_engine\n",
    "import sqlalchemy\n",
    "import datetime"
   ]
  },
  {
   "cell_type": "code",
   "execution_count": 2,
   "metadata": {},
   "outputs": [],
   "source": [
    "listings = pd.read_csv(\"barcelona_listings.csv\")"
   ]
  },
  {
   "cell_type": "code",
   "execution_count": 3,
   "metadata": {},
   "outputs": [],
   "source": [
    "reviews = pd.read_csv(\"barcelona_reviews.csv\")"
   ]
  },
  {
   "cell_type": "code",
   "execution_count": 4,
   "metadata": {},
   "outputs": [],
   "source": [
    "calendar = pd.read_csv(\"barcelona_calendar.csv\")"
   ]
  },
  {
   "cell_type": "code",
   "execution_count": 5,
   "metadata": {},
   "outputs": [],
   "source": [
    "engine = create_engine(\"sqlite:///project.db\")"
   ]
  },
  {
   "cell_type": "code",
   "execution_count": 6,
   "metadata": {},
   "outputs": [],
   "source": [
    "def null_count(x):\n",
    "    return listings[x].isna().sum()# / len(listings[x])\n",
    "\n",
    "def unique_count(x):\n",
    "    return listings.nunique()# / listings.shape[0] * 100\n",
    "\n",
    "#for i,c in enumerate(listings.columns):\n",
    " #   print(c, unique_count(c)[i])"
   ]
  },
  {
   "cell_type": "markdown",
   "metadata": {},
   "source": [
    "## Import accommodates"
   ]
  },
  {
   "cell_type": "code",
   "execution_count": 7,
   "metadata": {
    "scrolled": true
   },
   "outputs": [],
   "source": [
    "df = pd.DataFrame(listings.accommodates.unique(), columns=[\"accommodates\"])"
   ]
  },
  {
   "cell_type": "code",
   "execution_count": 9,
   "metadata": {},
   "outputs": [],
   "source": [
    "df.to_sql(\"Accommodation\", engine, if_exists=\"append\", index=False, dtype={\"accommodates\" : sqlalchemy.INT})"
   ]
  },
  {
   "cell_type": "code",
   "execution_count": null,
   "metadata": {},
   "outputs": [],
   "source": [
    "engine.execute(\"select count(*) from Accommodation \").fetchall()"
   ]
  },
  {
   "cell_type": "markdown",
   "metadata": {},
   "source": [
    "## Import amenities"
   ]
  },
  {
   "cell_type": "code",
   "execution_count": 7,
   "metadata": {},
   "outputs": [],
   "source": [
    "amenities = pd.DataFrame(listings.amenities.unique(), columns=[\"amenities\"])"
   ]
  },
  {
   "cell_type": "code",
   "execution_count": 8,
   "metadata": {},
   "outputs": [],
   "source": [
    "temp = []\n",
    "for index, row in amenities.iterrows():\n",
    "    temp.append(row[\"amenities\"].split(','))"
   ]
  },
  {
   "cell_type": "code",
   "execution_count": 9,
   "metadata": {},
   "outputs": [],
   "source": [
    "flat_list = []\n",
    "for sublist in temp:\n",
    "    for item in sublist:\n",
    "        flat_list.append(item)"
   ]
  },
  {
   "cell_type": "code",
   "execution_count": 10,
   "metadata": {
    "scrolled": true
   },
   "outputs": [],
   "source": [
    "def remove_chars(item):\n",
    "    for c in item:\n",
    "        if c == \"{\" or c == \"}\" or c == \"'\" or c == '\"' or c == \"[\" or c == \"]\":\n",
    "            item = item.replace(c, \"\")\n",
    "        item = item.strip().lower()\n",
    "    return item"
   ]
  },
  {
   "cell_type": "code",
   "execution_count": 21,
   "metadata": {},
   "outputs": [],
   "source": [
    "new_list = []\n",
    "for item in flat_list:\n",
    "    new_list.append('\"' + remove_chars(item) + '\"')\n",
    "    "
   ]
  },
  {
   "cell_type": "code",
   "execution_count": 12,
   "metadata": {},
   "outputs": [],
   "source": [
    "new_list = list(set(new_list))"
   ]
  },
  {
   "cell_type": "code",
   "execution_count": 13,
   "metadata": {},
   "outputs": [],
   "source": [
    "new_list.remove('\"\"')"
   ]
  },
  {
   "cell_type": "code",
   "execution_count": 91,
   "metadata": {},
   "outputs": [
    {
     "data": {
      "text/plain": [
       "['\"espresso machine\"',\n",
       " '\"handheld shower head\"',\n",
       " '\"carbon monoxide detector\"',\n",
       " '\"stair gates\"',\n",
       " '\"elevator\"',\n",
       " '\"pets live on this property\"',\n",
       " '\"baby monitor\"',\n",
       " '\"ski-in/ski-out\"',\n",
       " '\"disabled parking spot\"',\n",
       " '\"building staff\"',\n",
       " '\"coffee maker\"',\n",
       " '\"private pool\"',\n",
       " '\"smart lock\"',\n",
       " '\"gym\"',\n",
       " '\"day bed\"',\n",
       " '\"accessible-height bed\"',\n",
       " '\"warming drawer\"',\n",
       " '\"shared pool\"',\n",
       " '\"microwave\"',\n",
       " '\"cooking basics\"',\n",
       " '\"wheelchair accessible\"',\n",
       " '\"pack ’n play/travel crib\"',\n",
       " '\"electric profiling bed\"',\n",
       " '\"free street parking\"',\n",
       " '\"balcony\"',\n",
       " '\"pillow-top mattress\"',\n",
       " '\"bidet\"',\n",
       " '\"air conditioning\"',\n",
       " '\"hbo go\"',\n",
       " '\"baby bath\"',\n",
       " '\"washer\"',\n",
       " '\"private living room\"',\n",
       " '\"single level home\"',\n",
       " '\"beachfront\"',\n",
       " '\"outdoor parking\"',\n",
       " '\"netflix\"',\n",
       " '\"dishes and silverware\"',\n",
       " '\"bath towel\"',\n",
       " '\"cat(s)\"',\n",
       " '\"sun loungers\"',\n",
       " '\"table corner guards\"',\n",
       " '\"changing table\"',\n",
       " '\"bbq grill\"',\n",
       " '\"dishwasher\"',\n",
       " '\"luggage dropoff allowed\"',\n",
       " '\"memory foam mattress\"',\n",
       " '\"free parking on premises\"',\n",
       " '\"cable tv\"',\n",
       " '\"oven\"',\n",
       " '\"patio or balcony\"',\n",
       " '\"waterfront\"',\n",
       " '\"wide entryway\"',\n",
       " '\"translation missing: en.hosting_amenity_49\"',\n",
       " '\"projector and screen\"',\n",
       " '\"shared gym\"',\n",
       " '\"fax machine\"',\n",
       " '\"translation missing: en.hosting_amenity_50\"',\n",
       " '\"essentials\"',\n",
       " '\"heated floors\"',\n",
       " '\"cleaning before checkout\"',\n",
       " '\"pocket wifi\"',\n",
       " '\"toilet\"',\n",
       " '\"garden or backyard\"',\n",
       " '\"babysitter recommendations\"',\n",
       " '\"other pet(s)\"',\n",
       " '\"iron\"',\n",
       " '\"first aid kit\"',\n",
       " '\"wide doorway\"',\n",
       " '\"bathroom essentials\"',\n",
       " '\"beach view\"',\n",
       " '\"ethernet connection\"',\n",
       " '\"laptop friendly workspace\"',\n",
       " '\"lake access\"',\n",
       " '\"kitchen\"',\n",
       " '\"mobile hoist\"',\n",
       " '\"game console\"',\n",
       " '\"family/kid friendly\"',\n",
       " '\"smoking allowed\"',\n",
       " '\"standing valet\"',\n",
       " '\"firm mattress\"',\n",
       " '\"tv\"',\n",
       " '\"fixed grab bars for shower\"',\n",
       " '\"24-hour check-in\"',\n",
       " '\"fire extinguisher\"',\n",
       " '\"touchless faucets\"',\n",
       " '\"lockbox\"',\n",
       " '\"heated towel rack\"',\n",
       " '\"refrigerator\"',\n",
       " '\"private bathroom\"',\n",
       " '\"murphy bed\"',\n",
       " '\"crib\"',\n",
       " '\"pets allowed\"',\n",
       " '\"indoor fireplace\"',\n",
       " '\"fireplace guards\"',\n",
       " '\"wine cooler\"',\n",
       " '\"hammock\"',\n",
       " '\"pool with pool hoist\"',\n",
       " '\"bed linens\"',\n",
       " '\"roll-in shower\"',\n",
       " '\"wifi\"',\n",
       " '\"breakfast\"',\n",
       " '\"suitable for events\"',\n",
       " '\"ceiling fan\"',\n",
       " '\"formal dining area\"',\n",
       " '\"sound system\"',\n",
       " '\"full kitchen\"',\n",
       " '\"steam oven\"',\n",
       " '\"lock on bedroom door\"',\n",
       " '\"hair dryer\"',\n",
       " '\"buzzer/wireless intercom\"',\n",
       " '\"en suite bathroom\"',\n",
       " '\"kitchenette\"',\n",
       " '\"keypad\"',\n",
       " '\"private entrance\"',\n",
       " '\"washer / dryer\"',\n",
       " '\"window guards\"',\n",
       " '\"toilet paper\"',\n",
       " '\"self check-in\"',\n",
       " '\"air purifier\"',\n",
       " '\"mudroom\"',\n",
       " '\"safety card\"',\n",
       " '\"children’s dinnerware\"',\n",
       " '\"flat path to front door\"',\n",
       " '\"stove\"',\n",
       " '\"breakfast table\"',\n",
       " '\"room-darkening shades\"',\n",
       " '\"outlet covers\"',\n",
       " '\"dog(s)\"',\n",
       " '\"walk-in shower\"',\n",
       " '\"bathtub with bath chair\"',\n",
       " '\"body soap\"',\n",
       " '\"host greets you\"',\n",
       " '\"gas oven\"',\n",
       " '\"bedroom comforts\"',\n",
       " '\"other\"',\n",
       " '\"rain shower\"',\n",
       " '\"wide clearance to shower\"',\n",
       " '\"paid parking on premises\"',\n",
       " '\"hot water kettle\"',\n",
       " '\"beach essentials\"',\n",
       " '\"bathtub\"',\n",
       " '\"amazon echo\"',\n",
       " '\"ev charger\"',\n",
       " '\"mountain view\"',\n",
       " '\"hot water\"',\n",
       " '\"pool\"',\n",
       " '\"step-free access\"',\n",
       " '\"accessible-height toilet\"',\n",
       " '\"terrace\"',\n",
       " '\"well-lit path to entrance\"',\n",
       " '\"mini fridge\"',\n",
       " '\"doorman\"',\n",
       " '\"children’s books and toys\"',\n",
       " '\"pool cover\"',\n",
       " '\"sauna\"',\n",
       " '\"high chair\"',\n",
       " '\"outdoor seating\"',\n",
       " '\"shampoo\"',\n",
       " '\"smart tv\"',\n",
       " '\"dryer\"',\n",
       " '\"exercise equipment\"',\n",
       " '\"wide hallway clearance\"',\n",
       " '\"hot tub\"',\n",
       " '\"dvd player\"',\n",
       " '\"jetted tub\"',\n",
       " '\"long term stays allowed\"',\n",
       " '\"wide clearance to bed\"',\n",
       " '\"printer\"',\n",
       " '\"hangers\"',\n",
       " '\"internet\"',\n",
       " '\"smoke detector\"',\n",
       " '\"fixed grab bars for toilet\"',\n",
       " '\"soaking tub\"',\n",
       " '\"central air conditioning\"',\n",
       " '\"paid parking off premises\"',\n",
       " '\"extra pillows and blankets\"',\n",
       " '\"convection oven\"',\n",
       " '\"shower chair\"',\n",
       " '\"heating\"']"
      ]
     },
     "execution_count": 91,
     "metadata": {},
     "output_type": "execute_result"
    }
   ],
   "source": [
    "new_list"
   ]
  },
  {
   "cell_type": "code",
   "execution_count": 14,
   "metadata": {},
   "outputs": [],
   "source": [
    "amenities = pd.DataFrame(new_list, columns=[\"amenities\"])"
   ]
  },
  {
   "cell_type": "code",
   "execution_count": 93,
   "metadata": {},
   "outputs": [],
   "source": [
    "amenities.to_sql(\"Amenities\", engine, if_exists=\"append\", index=False, dtype={\"amenities\" : sqlalchemy.CHAR(32)})"
   ]
  },
  {
   "cell_type": "code",
   "execution_count": 24,
   "metadata": {},
   "outputs": [
    {
     "data": {
      "text/plain": [
       "13095"
      ]
     },
     "execution_count": 24,
     "metadata": {},
     "output_type": "execute_result"
    }
   ],
   "source": [
    "listings.id.count()"
   ]
  },
  {
   "cell_type": "code",
   "execution_count": 29,
   "metadata": {},
   "outputs": [
    {
     "data": {
      "text/plain": [
       "11837"
      ]
     },
     "execution_count": 29,
     "metadata": {},
     "output_type": "execute_result"
    }
   ],
   "source": [
    "len(listings[\"amenities\"].unique() == listings.amenities.unique())"
   ]
  },
  {
   "cell_type": "markdown",
   "metadata": {},
   "source": [
    "## Import Bathrooms"
   ]
  },
  {
   "cell_type": "code",
   "execution_count": 61,
   "metadata": {},
   "outputs": [],
   "source": [
    "bathrooms = pd.DataFrame(listings.bathrooms.unique(), columns=[\"bathrooms\"])"
   ]
  },
  {
   "cell_type": "code",
   "execution_count": 62,
   "metadata": {},
   "outputs": [],
   "source": [
    "bathrooms = bathrooms.dropna()"
   ]
  },
  {
   "cell_type": "code",
   "execution_count": 63,
   "metadata": {},
   "outputs": [],
   "source": [
    "bathrooms.to_sql(\"Bathrooms\", engine, if_exists=\"append\", index=False, dtype={\"bathrooms\" : sqlalchemy.FLOAT})"
   ]
  },
  {
   "cell_type": "markdown",
   "metadata": {},
   "source": [
    "## Import Description"
   ]
  },
  {
   "cell_type": "code",
   "execution_count": 10,
   "metadata": {},
   "outputs": [],
   "source": [
    "description = pd.DataFrame({\"description_id\": np.arange(len(listings.description)), \"summary\": listings.summary, \"space\": listings.space, \"description\": listings.description, \"neighborhood_overview\": listings.neighborhood_overview,\"notes\":listings.notes,\"transit\":listings.transit,\"access\":listings.access,\"picture_url\":listings.picture_url,\"square_feet\": listings.square_feet, \"id\": listings.id})"
   ]
  },
  {
   "cell_type": "code",
   "execution_count": 11,
   "metadata": {},
   "outputs": [],
   "source": [
    "description[\"space\"].fillna(\"\",inplace=True)\n",
    "description[\"neighborhood_overview\"].fillna(\"\",inplace=True)\n",
    "description[\"description\"].fillna(\"\",inplace=True)\n",
    "description[\"summary\"].fillna(\"\",inplace=True)\n",
    "description[\"notes\"].fillna(\"\",inplace=True)\n",
    "description[\"transit\"].fillna(\"\",inplace=True)\n",
    "description[\"access\"].fillna(\"\",inplace=True)\n",
    "description[\"picture_url\"].fillna(\"\",inplace=True)\n",
    "description[\"square_feet\"].fillna(-1,inplace=True)\n"
   ]
  },
  {
   "cell_type": "code",
   "execution_count": 14,
   "metadata": {},
   "outputs": [],
   "source": [
    "description.to_sql(\"Described_Description\", engine, if_exists=\"append\", index=False, dtype={\"description_id\": sqlalchemy.INT, \"summary\": sqlalchemy.VARCHAR(1024), \"space\": sqlalchemy.VARCHAR(1024), \"description\": sqlalchemy.VARCHAR(1024), \"neighborhood_overview\": sqlalchemy.VARCHAR(1024),\"notes\":sqlalchemy.VARCHAR(1024),\"transit\": sqlalchemy.VARCHAR(1024),\"access\": sqlalchemy.VARCHAR(1024),\"picture_url\":sqlalchemy.CHAR(128),\"square_feet\": sqlalchemy.FLOAT, \"id\": sqlalchemy.INT})"
   ]
  },
  {
   "cell_type": "markdown",
   "metadata": {},
   "source": [
    "## Import bedding"
   ]
  },
  {
   "cell_type": "code",
   "execution_count": 19,
   "metadata": {},
   "outputs": [],
   "source": [
    "bedding = pd.DataFrame({\"beds\": listings.beds, \"bed_type\": listings.bed_type})"
   ]
  },
  {
   "cell_type": "code",
   "execution_count": 21,
   "metadata": {},
   "outputs": [],
   "source": [
    "bedding = bedding.fillna(0).drop_duplicates()\n"
   ]
  },
  {
   "cell_type": "code",
   "execution_count": 22,
   "metadata": {},
   "outputs": [],
   "source": [
    "bedding.to_sql(\"Bedding\", engine, if_exists=\"append\", index=False, dtype={\"beds\" : sqlalchemy.FLOAT, \"bed_type\" : sqlalchemy.CHAR(32)})"
   ]
  },
  {
   "cell_type": "markdown",
   "metadata": {},
   "source": [
    "## Import Bedrooms"
   ]
  },
  {
   "cell_type": "code",
   "execution_count": 4,
   "metadata": {},
   "outputs": [],
   "source": [
    "bedrooms = pd.DataFrame({\"bedrooms\": listings.bedrooms})"
   ]
  },
  {
   "cell_type": "code",
   "execution_count": 10,
   "metadata": {},
   "outputs": [],
   "source": [
    "bedrooms = bedrooms.dropna().drop_duplicates()"
   ]
  },
  {
   "cell_type": "code",
   "execution_count": 11,
   "metadata": {
    "collapsed": true
   },
   "outputs": [
    {
     "data": {
      "text/html": [
       "<div>\n",
       "<style scoped>\n",
       "    .dataframe tbody tr th:only-of-type {\n",
       "        vertical-align: middle;\n",
       "    }\n",
       "\n",
       "    .dataframe tbody tr th {\n",
       "        vertical-align: top;\n",
       "    }\n",
       "\n",
       "    .dataframe thead th {\n",
       "        text-align: right;\n",
       "    }\n",
       "</style>\n",
       "<table border=\"1\" class=\"dataframe\">\n",
       "  <thead>\n",
       "    <tr style=\"text-align: right;\">\n",
       "      <th></th>\n",
       "      <th>bedrooms</th>\n",
       "    </tr>\n",
       "  </thead>\n",
       "  <tbody>\n",
       "    <tr>\n",
       "      <th>0</th>\n",
       "      <td>2.0</td>\n",
       "    </tr>\n",
       "    <tr>\n",
       "      <th>1</th>\n",
       "      <td>3.0</td>\n",
       "    </tr>\n",
       "    <tr>\n",
       "      <th>2</th>\n",
       "      <td>1.0</td>\n",
       "    </tr>\n",
       "    <tr>\n",
       "      <th>12</th>\n",
       "      <td>4.0</td>\n",
       "    </tr>\n",
       "    <tr>\n",
       "      <th>77</th>\n",
       "      <td>0.0</td>\n",
       "    </tr>\n",
       "    <tr>\n",
       "      <th>97</th>\n",
       "      <td>5.0</td>\n",
       "    </tr>\n",
       "    <tr>\n",
       "      <th>261</th>\n",
       "      <td>16.0</td>\n",
       "    </tr>\n",
       "    <tr>\n",
       "      <th>308</th>\n",
       "      <td>6.0</td>\n",
       "    </tr>\n",
       "    <tr>\n",
       "      <th>1436</th>\n",
       "      <td>12.0</td>\n",
       "    </tr>\n",
       "    <tr>\n",
       "      <th>2312</th>\n",
       "      <td>8.0</td>\n",
       "    </tr>\n",
       "    <tr>\n",
       "      <th>2527</th>\n",
       "      <td>7.0</td>\n",
       "    </tr>\n",
       "    <tr>\n",
       "      <th>2539</th>\n",
       "      <td>9.0</td>\n",
       "    </tr>\n",
       "    <tr>\n",
       "      <th>2788</th>\n",
       "      <td>10.0</td>\n",
       "    </tr>\n",
       "  </tbody>\n",
       "</table>\n",
       "</div>"
      ],
      "text/plain": [
       "      bedrooms\n",
       "0          2.0\n",
       "1          3.0\n",
       "2          1.0\n",
       "12         4.0\n",
       "77         0.0\n",
       "97         5.0\n",
       "261       16.0\n",
       "308        6.0\n",
       "1436      12.0\n",
       "2312       8.0\n",
       "2527       7.0\n",
       "2539       9.0\n",
       "2788      10.0"
      ]
     },
     "execution_count": 11,
     "metadata": {},
     "output_type": "execute_result"
    }
   ],
   "source": [
    "bedrooms"
   ]
  },
  {
   "cell_type": "code",
   "execution_count": 12,
   "metadata": {
    "collapsed": true
   },
   "outputs": [
    {
     "data": {
      "text/html": [
       "<div>\n",
       "<style scoped>\n",
       "    .dataframe tbody tr th:only-of-type {\n",
       "        vertical-align: middle;\n",
       "    }\n",
       "\n",
       "    .dataframe tbody tr th {\n",
       "        vertical-align: top;\n",
       "    }\n",
       "\n",
       "    .dataframe thead th {\n",
       "        text-align: right;\n",
       "    }\n",
       "</style>\n",
       "<table border=\"1\" class=\"dataframe\">\n",
       "  <thead>\n",
       "    <tr style=\"text-align: right;\">\n",
       "      <th></th>\n",
       "      <th>bedrooms</th>\n",
       "    </tr>\n",
       "  </thead>\n",
       "  <tbody>\n",
       "    <tr>\n",
       "      <th>0</th>\n",
       "      <td>2</td>\n",
       "    </tr>\n",
       "    <tr>\n",
       "      <th>1</th>\n",
       "      <td>3</td>\n",
       "    </tr>\n",
       "    <tr>\n",
       "      <th>2</th>\n",
       "      <td>1</td>\n",
       "    </tr>\n",
       "    <tr>\n",
       "      <th>12</th>\n",
       "      <td>4</td>\n",
       "    </tr>\n",
       "    <tr>\n",
       "      <th>77</th>\n",
       "      <td>0</td>\n",
       "    </tr>\n",
       "    <tr>\n",
       "      <th>97</th>\n",
       "      <td>5</td>\n",
       "    </tr>\n",
       "    <tr>\n",
       "      <th>261</th>\n",
       "      <td>16</td>\n",
       "    </tr>\n",
       "    <tr>\n",
       "      <th>308</th>\n",
       "      <td>6</td>\n",
       "    </tr>\n",
       "    <tr>\n",
       "      <th>1436</th>\n",
       "      <td>12</td>\n",
       "    </tr>\n",
       "    <tr>\n",
       "      <th>2312</th>\n",
       "      <td>8</td>\n",
       "    </tr>\n",
       "    <tr>\n",
       "      <th>2527</th>\n",
       "      <td>7</td>\n",
       "    </tr>\n",
       "    <tr>\n",
       "      <th>2539</th>\n",
       "      <td>9</td>\n",
       "    </tr>\n",
       "    <tr>\n",
       "      <th>2788</th>\n",
       "      <td>10</td>\n",
       "    </tr>\n",
       "  </tbody>\n",
       "</table>\n",
       "</div>"
      ],
      "text/plain": [
       "      bedrooms\n",
       "0            2\n",
       "1            3\n",
       "2            1\n",
       "12           4\n",
       "77           0\n",
       "97           5\n",
       "261         16\n",
       "308          6\n",
       "1436        12\n",
       "2312         8\n",
       "2527         7\n",
       "2539         9\n",
       "2788        10"
      ]
     },
     "execution_count": 12,
     "metadata": {},
     "output_type": "execute_result"
    }
   ],
   "source": [
    "bedrooms.astype(int)"
   ]
  },
  {
   "cell_type": "code",
   "execution_count": 13,
   "metadata": {},
   "outputs": [],
   "source": [
    "bedrooms.to_sql(\"Bedrooms\", engine, if_exists=\"append\", index=False, dtype={\"bedrooms\" : sqlalchemy.INT})"
   ]
  },
  {
   "cell_type": "markdown",
   "metadata": {},
   "source": [
    "## Import Room"
   ]
  },
  {
   "cell_type": "code",
   "execution_count": 14,
   "metadata": {},
   "outputs": [],
   "source": [
    "room = pd.DataFrame({\"room_type\": listings.room_type})"
   ]
  },
  {
   "cell_type": "code",
   "execution_count": 17,
   "metadata": {},
   "outputs": [],
   "source": [
    "room = room.drop_duplicates()"
   ]
  },
  {
   "cell_type": "code",
   "execution_count": 18,
   "metadata": {},
   "outputs": [],
   "source": [
    "room.to_sql(\"Room\", engine, if_exists=\"append\", index=False, dtype={\"room_type\" : sqlalchemy.CHAR(32)})"
   ]
  },
  {
   "cell_type": "markdown",
   "metadata": {},
   "source": [
    "## Import Property"
   ]
  },
  {
   "cell_type": "code",
   "execution_count": 19,
   "metadata": {},
   "outputs": [],
   "source": [
    "prop = pd.DataFrame({\"property_type\": listings.property_type})"
   ]
  },
  {
   "cell_type": "code",
   "execution_count": 23,
   "metadata": {},
   "outputs": [],
   "source": [
    "prop = prop.drop_duplicates()"
   ]
  },
  {
   "cell_type": "code",
   "execution_count": 24,
   "metadata": {},
   "outputs": [],
   "source": [
    "prop.to_sql(\"Property\", engine, if_exists=\"append\", index=False, dtype={\"propery_type\" : sqlalchemy.CHAR(32)})"
   ]
  },
  {
   "cell_type": "markdown",
   "metadata": {},
   "source": [
    "## Import Reviewer"
   ]
  },
  {
   "cell_type": "code",
   "execution_count": 29,
   "metadata": {},
   "outputs": [],
   "source": [
    "reviewer = pd.DataFrame({\"reviewer_id\": reviews.reviewer_id, \"reviewer_name\" : reviews.reviewer_name})"
   ]
  },
  {
   "cell_type": "code",
   "execution_count": 50,
   "metadata": {},
   "outputs": [],
   "source": [
    "reviewer = reviewer.drop_duplicates().drop(174201)"
   ]
  },
  {
   "cell_type": "code",
   "execution_count": 51,
   "metadata": {},
   "outputs": [],
   "source": [
    "reviewer.to_sql(\"Reviewer\", engine, if_exists=\"append\", index=False, dtype={\"reviewer_id\" : sqlalchemy.INT, \"reviewer_name\" : sqlalchemy.CHAR(32)})"
   ]
  },
  {
   "cell_type": "code",
   "execution_count": 49,
   "metadata": {
    "scrolled": true
   },
   "outputs": [
    {
     "data": {
      "text/html": [
       "<div>\n",
       "<style scoped>\n",
       "    .dataframe tbody tr th:only-of-type {\n",
       "        vertical-align: middle;\n",
       "    }\n",
       "\n",
       "    .dataframe tbody tr th {\n",
       "        vertical-align: top;\n",
       "    }\n",
       "\n",
       "    .dataframe thead th {\n",
       "        text-align: right;\n",
       "    }\n",
       "</style>\n",
       "<table border=\"1\" class=\"dataframe\">\n",
       "  <thead>\n",
       "    <tr style=\"text-align: right;\">\n",
       "      <th></th>\n",
       "      <th>reviewer_id</th>\n",
       "      <th>reviewer_name</th>\n",
       "    </tr>\n",
       "  </thead>\n",
       "  <tbody>\n",
       "    <tr>\n",
       "      <th>174201</th>\n",
       "      <td>6148697</td>\n",
       "      <td>Casa Nuna</td>\n",
       "    </tr>\n",
       "    <tr>\n",
       "      <th>179938</th>\n",
       "      <td>6148697</td>\n",
       "      <td>Mi Casa Bali</td>\n",
       "    </tr>\n",
       "  </tbody>\n",
       "</table>\n",
       "</div>"
      ],
      "text/plain": [
       "        reviewer_id reviewer_name\n",
       "174201      6148697     Casa Nuna\n",
       "179938      6148697  Mi Casa Bali"
      ]
     },
     "execution_count": 49,
     "metadata": {},
     "output_type": "execute_result"
    }
   ],
   "source": [
    "reviewer[reviewer.duplicated(['reviewer_id'], keep=False)]"
   ]
  },
  {
   "cell_type": "markdown",
   "metadata": {},
   "source": [
    "## Import Review"
   ]
  },
  {
   "cell_type": "code",
   "execution_count": 8,
   "metadata": {},
   "outputs": [],
   "source": [
    "review = pd.DataFrame({\"review_id\" : np.arange(len(reviews.listing_id)), \"review_date\" : reviews.date, \"comments\" : reviews.comments})"
   ]
  },
  {
   "cell_type": "code",
   "execution_count": 12,
   "metadata": {},
   "outputs": [],
   "source": [
    "for i in review.index:\n",
    "    review.at[i, \"review_date\"] = datetime.datetime.strptime(str(review.at[i, \"review_date\"]), \"%Y-%m-%d\").date()"
   ]
  },
  {
   "cell_type": "code",
   "execution_count": 13,
   "metadata": {},
   "outputs": [],
   "source": [
    "review.to_sql(\"Review\", engine, if_exists=\"append\", index=False, dtype={\"review_id\" : sqlalchemy.INT, \"review_date\" : sqlalchemy.DATE, \"comments\" : sqlalchemy.VARCHAR(1024)})"
   ]
  },
  {
   "cell_type": "markdown",
   "metadata": {},
   "source": [
    "## Import Reviewed TODO"
   ]
  },
  {
   "cell_type": "code",
   "execution_count": 14,
   "metadata": {},
   "outputs": [],
   "source": [
    "reviewed = pd.DataFrame({\"id\": reviews.listing_id, \"reviewer_id\" : reviews.reviewer_id, \"review_id\" : review.review_id})"
   ]
  },
  {
   "cell_type": "code",
   "execution_count": 19,
   "metadata": {},
   "outputs": [],
   "source": [
    "reviewed.to_sql(\"Reviewed\", engine, if_exists=\"append\", index=False, dtype={\"id\" : sqlalchemy.INT, \"reviewer_id\" : sqlalchemy.INT, \"review_id\" : sqlalchemy.INT})"
   ]
  },
  {
   "cell_type": "markdown",
   "metadata": {},
   "source": [
    "#### We need to change the primary key to (id, reviewer_id, date) and decide what to do with the duplicates"
   ]
  },
  {
   "cell_type": "markdown",
   "metadata": {},
   "source": [
    "## Import Pricing"
   ]
  },
  {
   "cell_type": "code",
   "execution_count": 118,
   "metadata": {},
   "outputs": [],
   "source": [
    "pricing = pd.DataFrame({\"price\": listings.price, \"weekly_price\" : listings.weekly_price, \"monthly_price\": listings.monthly_price, \"security_deposit\" : listings.security_deposit, \"cleaning_fee\" : listings.cleaning_fee, \"guests_included\" : listings.guests_included, \"extra_people\" : listings.extra_people, \"minimum_nights\" : listings.minimum_nights, \"maximum_nights\" : listings.maximum_nights, \"id\" : listings.id})"
   ]
  },
  {
   "cell_type": "code",
   "execution_count": 119,
   "metadata": {},
   "outputs": [],
   "source": [
    "for i in pricing.index:\n",
    "    pricing.at[i, \"price\"] = float(str(pricing.at[i, \"price\"])[1:].replace(\",\", \"\"))\n",
    "    if not pd.isnull(pricing.at[i, \"weekly_price\"]):\n",
    "        pricing.at[i, \"weekly_price\"] = float(str(pricing.at[i, \"weekly_price\"])[1:].replace(\",\", \"\"))\n",
    "    if not pd.isnull(pricing.at[i, \"monthly_price\"]):\n",
    "        pricing.at[i, \"monthly_price\"] = float(str(pricing.at[i, \"monthly_price\"])[1:].replace(\",\", \"\"))\n",
    "    if not pd.isnull(pricing.at[i, \"security_deposit\"]):\n",
    "        pricing.at[i, \"security_deposit\"] = float(str(pricing.at[i, \"security_deposit\"])[1:].replace(\",\", \"\"))\n",
    "    if not pd.isnull(pricing.at[i, \"cleaning_fee\"]):\n",
    "        pricing.at[i, \"cleaning_fee\"] = float(str(pricing.at[i, \"cleaning_fee\"])[1:].replace(\",\", \"\"))\n",
    "    if not pd.isnull(pricing.at[i, \"extra_people\"]):\n",
    "        pricing.at[i, \"extra_people\"] = float(str(pricing.at[i, \"extra_people\"])[1:].replace(\",\", \"\"))"
   ]
  },
  {
   "cell_type": "code",
   "execution_count": 120,
   "metadata": {},
   "outputs": [],
   "source": [
    "for i in pricing.index:\n",
    "    if pd.isnull(pricing.at[i, \"weekly_price\"]):\n",
    "        pricing.at[i, \"weekly_price\"] = pricing.at[i, \"price\"] * 7\n",
    "    if pd.isnull(pricing.at[i, \"monthly_price\"]):\n",
    "        pricing.at[i, \"monthly_price\"] = pricing.at[i, \"price\"] * 30\n",
    "    if pd.isnull(pricing.at[i, \"security_deposit\"]):\n",
    "        pricing.at[i, \"security_deposit\"] = 0\n",
    "    if pd.isnull(pricing.at[i, \"cleaning_fee\"]):\n",
    "        pricing.at[i, \"cleaning_fee\"] = 0"
   ]
  },
  {
   "cell_type": "code",
   "execution_count": 123,
   "metadata": {},
   "outputs": [],
   "source": [
    "pricing.to_sql(\"Pricing\", engine, if_exists=\"append\", index=False, dtype={\"price\": sqlalchemy.FLOAT, \"weekly_price\" : sqlalchemy.FLOAT, \"monthly_price\": sqlalchemy.FLOAT, \"security_deposit\" : sqlalchemy.FLOAT, \"cleaning_fee\" : sqlalchemy.FLOAT, \"guests_included\" : sqlalchemy.INT, \"extra_people\" : sqlalchemy.FLOAT, \"minimum_nights\" : sqlalchemy.INT, \"maximum_nights\" : sqlalchemy.INT, \"id\" : sqlalchemy.INT})"
   ]
  },
  {
   "cell_type": "markdown",
   "metadata": {},
   "source": [
    "## Import Verification"
   ]
  },
  {
   "cell_type": "code",
   "execution_count": 50,
   "metadata": {},
   "outputs": [],
   "source": [
    "verification = pd.DataFrame(listings.host_verifications.unique(), columns=[\"host_verifications\"])"
   ]
  },
  {
   "cell_type": "code",
   "execution_count": 51,
   "metadata": {},
   "outputs": [],
   "source": [
    "temp = []\n",
    "for index, row in verification.iterrows():\n",
    "    temp.append(row[\"host_verifications\"].split(','))"
   ]
  },
  {
   "cell_type": "code",
   "execution_count": 52,
   "metadata": {},
   "outputs": [],
   "source": [
    "flat_list = []\n",
    "for sublist in temp:\n",
    "    for item in sublist:\n",
    "        flat_list.append(item)"
   ]
  },
  {
   "cell_type": "code",
   "execution_count": 55,
   "metadata": {},
   "outputs": [],
   "source": [
    "new_list = []\n",
    "for item in flat_list:\n",
    "    new_list.append('\"' + remove_chars(item) + '\"')"
   ]
  },
  {
   "cell_type": "code",
   "execution_count": 56,
   "metadata": {},
   "outputs": [],
   "source": [
    "new_list = list(set(new_list))"
   ]
  },
  {
   "cell_type": "code",
   "execution_count": 57,
   "metadata": {},
   "outputs": [],
   "source": [
    "new_list.remove('\"\"')"
   ]
  },
  {
   "cell_type": "code",
   "execution_count": 59,
   "metadata": {},
   "outputs": [],
   "source": [
    "verification = pd.DataFrame({\"host_verifications\" : new_list})"
   ]
  },
  {
   "cell_type": "code",
   "execution_count": 61,
   "metadata": {},
   "outputs": [],
   "source": [
    "verification.to_sql(\"Verification\", engine, if_exists=\"append\", index=False, dtype={\"host_verifications\" : sqlalchemy.CHAR(32)})"
   ]
  },
  {
   "cell_type": "markdown",
   "metadata": {},
   "source": [
    "## Import Host"
   ]
  },
  {
   "cell_type": "code",
   "execution_count": 23,
   "metadata": {},
   "outputs": [],
   "source": [
    "host = pd.DataFrame({\"host_id\" : listings.host_id, \"host_name\" : listings.host_name, \"host_since\" : listings.host_since, \"host_about\" : listings.host_about, \"host_response_time\" : listings.host_response_time, \"host_response_rate\" : listings.host_response_rate, \"host_neighbourhood\" : listings.host_neighbourhood, \"host_country_code\" : \"ES\", \"host_city\" : \"Barcelona\", \"host_name\" : listings.host_name, \"host_thumbnail_url\" : listings.host_thumbnail_url, \"host_picture_url\" : listings.host_picture_url})"
   ]
  },
  {
   "cell_type": "code",
   "execution_count": 25,
   "metadata": {},
   "outputs": [],
   "source": [
    "host = host.fillna(\"Unknown\")"
   ]
  },
  {
   "cell_type": "code",
   "execution_count": 26,
   "metadata": {},
   "outputs": [],
   "source": [
    "for i in host.index:\n",
    "    host.at[i, \"host_since\"] = datetime.datetime.strptime(str(host.at[i, \"host_since\"]), \"%Y-%m-%d\").date()"
   ]
  },
  {
   "cell_type": "code",
   "execution_count": 27,
   "metadata": {},
   "outputs": [],
   "source": [
    "host = host.drop_duplicates()"
   ]
  },
  {
   "cell_type": "code",
   "execution_count": 29,
   "metadata": {
    "scrolled": false
   },
   "outputs": [],
   "source": [
    "host.to_sql(\"Host\", engine, if_exists=\"append\", index=False, dtype={\"host_id\" : sqlalchemy.CHAR(32), \"host_since\" : sqlalchemy.DATE, \"host_about\" : sqlalchemy.VARCHAR(1024), \"host_response_time\" : sqlalchemy.CHAR(32), \"host_response_rate\" : sqlalchemy.CHAR(32), \"host_neighbourhood\" : sqlalchemy.CHAR(32), \"host_country_code\" : sqlalchemy.CHAR(2), \"host_city\" : sqlalchemy.CHAR(32), \"host_url\" : sqlalchemy.CHAR(32), \"host_name\" : sqlalchemy.CHAR(32), \"host_thumbnail_url\" : sqlalchemy.CHAR(32), \"host_picture_url\" : sqlalchemy.CHAR(32)})"
   ]
  },
  {
   "cell_type": "markdown",
   "metadata": {},
   "source": [
    "## Import verified_by"
   ]
  },
  {
   "cell_type": "code",
   "execution_count": 30,
   "metadata": {},
   "outputs": [],
   "source": [
    "verified_by = pd.DataFrame({\"host_id\" : listings.host_id, \"host_verifications\" : listings.host_verifications})"
   ]
  },
  {
   "cell_type": "code",
   "execution_count": 35,
   "metadata": {},
   "outputs": [],
   "source": [
    "verified_by = verified_by.drop_duplicates()"
   ]
  },
  {
   "cell_type": "code",
   "execution_count": 36,
   "metadata": {},
   "outputs": [],
   "source": [
    "verified_by.to_sql(\"Verified_by\", engine, if_exists=\"append\", index=False, dtype={\"host_id\" : sqlalchemy.INT, \"host_verifications\" : sqlalchemy.CHAR(32)})"
   ]
  },
  {
   "cell_type": "markdown",
   "metadata": {},
   "source": [
    "## Import Calendar"
   ]
  },
  {
   "cell_type": "code",
   "execution_count": 40,
   "metadata": {},
   "outputs": [],
   "source": [
    "cal = pd.DataFrame({\"date\" : calendar.date.unique()})"
   ]
  },
  {
   "cell_type": "code",
   "execution_count": 41,
   "metadata": {},
   "outputs": [],
   "source": [
    "for i in cal.index:\n",
    "    cal.at[i, \"date\"] = datetime.datetime.strptime(str(cal.at[i, \"date\"]), \"%Y-%m-%d\").date()"
   ]
  },
  {
   "cell_type": "code",
   "execution_count": 42,
   "metadata": {},
   "outputs": [],
   "source": [
    "cal.to_sql(\"Calendar\", engine, if_exists=\"append\", index=False, dtype={\"date\" : sqlalchemy.DATE})"
   ]
  },
  {
   "cell_type": "markdown",
   "metadata": {},
   "source": [
    "## Import Available_at"
   ]
  },
  {
   "cell_type": "code",
   "execution_count": 43,
   "metadata": {},
   "outputs": [],
   "source": [
    "avail = pd.DataFrame({\"id\" : calendar.listing_id, \"date\" : calendar.date, \"price\" : calendar.price, \"available\" : calendar.available})"
   ]
  },
  {
   "cell_type": "code",
   "execution_count": 48,
   "metadata": {},
   "outputs": [],
   "source": [
    "for i in calendar.index:\n",
    "    avail.at[i, \"date\"] = datetime.datetime.strptime(str(calendar.at[i, \"date\"]), \"%Y-%m-%d\").date()"
   ]
  },
  {
   "cell_type": "code",
   "execution_count": 44,
   "metadata": {},
   "outputs": [],
   "source": [
    "for i in avail.index:\n",
    "    if not pd.isna(avail.at[i, \"price\"]):\n",
    "        avail.at[i, \"price\"] = float(str(avail.at[i, \"price\"]).replace(\",\",\"\").replace(\"$\", \"\"))"
   ]
  },
  {
   "cell_type": "code",
   "execution_count": 45,
   "metadata": {},
   "outputs": [],
   "source": [
    "avail = avail.fillna(-1)"
   ]
  },
  {
   "cell_type": "code",
   "execution_count": 49,
   "metadata": {},
   "outputs": [],
   "source": [
    "avail.to_sql(\"Available_at\", engine, if_exists=\"append\", index=False, dtype={\"id\" : sqlalchemy.INT, \"date\" : sqlalchemy.DATE, \"price\" : sqlalchemy.INT, \"available\" : sqlalchemy.CHAR(1)})"
   ]
  },
  {
   "cell_type": "markdown",
   "metadata": {},
   "source": [
    "## Import Policy"
   ]
  },
  {
   "cell_type": "code",
   "execution_count": 28,
   "metadata": {},
   "outputs": [],
   "source": [
    "reduced = pd.DataFrame({\"cancellation_policy\" : listings[\"cancellation_policy\"]})"
   ]
  },
  {
   "cell_type": "code",
   "execution_count": 34,
   "metadata": {},
   "outputs": [],
   "source": [
    "reduced = reduced.drop_duplicates()"
   ]
  },
  {
   "cell_type": "code",
   "execution_count": 35,
   "metadata": {},
   "outputs": [],
   "source": [
    "reduced.to_sql(\"Policy\", engine, if_exists=\"append\", index=False, dtype={\"cancellation_policy\" : sqlalchemy.CHAR(32)})"
   ]
  },
  {
   "cell_type": "markdown",
   "metadata": {},
   "source": [
    "## Import Score"
   ]
  },
  {
   "cell_type": "code",
   "execution_count": 70,
   "metadata": {},
   "outputs": [],
   "source": [
    "score = pd.DataFrame({\"review_scores_rating\" : listings.review_scores_rating, \"review_scores_accuracy\" : listings.review_scores_accuracy, \"review_scores_cleanliness\" : listings.review_scores_cleanliness, \"review_scores_checkin\" : listings.review_scores_checkin, \"review_scores_communication\" : listings.review_scores_communication, \"review_scores_location\" : listings.review_scores_location, \"review_scores_value\" : listings.review_scores_value, \"id\" : listings.id})"
   ]
  },
  {
   "cell_type": "code",
   "execution_count": 71,
   "metadata": {
    "scrolled": true
   },
   "outputs": [],
   "source": [
    "score = score.fillna(-1)"
   ]
  },
  {
   "cell_type": "code",
   "execution_count": 72,
   "metadata": {},
   "outputs": [],
   "source": [
    "score.to_sql(\"Score\", engine, if_exists=\"append\", index=False, dtype={\"review_scores_rating\" : sqlalchemy.INT, \"review_scores_accuracy\" : sqlalchemy.INT, \"review_scores_cleanliness\" : sqlalchemy.INT, \"review_scores_checkin\" : sqlalchemy.INT, \"review_scores_communication\" : sqlalchemy.INT, \"review_scores_location\" : sqlalchemy.INT, \"review_scores_value\" : sqlalchemy.INT, \"id\" : sqlalchemy.INT})"
   ]
  },
  {
   "cell_type": "markdown",
   "metadata": {},
   "source": [
    "## Import Provide"
   ]
  },
  {
   "cell_type": "code",
   "execution_count": 61,
   "metadata": {},
   "outputs": [],
   "source": [
    "provide = listings[[\"id\", \"amenities\"]]"
   ]
  },
  {
   "cell_type": "code",
   "execution_count": 62,
   "metadata": {},
   "outputs": [],
   "source": [
    "temp2 = []\n",
    "for index, row in provide.iterrows():\n",
    "    temp2.append(row[\"amenities\"].split(','))"
   ]
  },
  {
   "cell_type": "code",
   "execution_count": 63,
   "metadata": {},
   "outputs": [],
   "source": [
    "removed_chars_list = []\n",
    "for l in temp2:\n",
    "    tmp = []\n",
    "    for a in l:\n",
    "        tmp.append(remove_chars(a))\n",
    "    removed_chars_list.append(tmp)"
   ]
  },
  {
   "cell_type": "code",
   "execution_count": 64,
   "metadata": {},
   "outputs": [],
   "source": [
    "ids = []\n",
    "amens = []\n",
    "for i, elem in enumerate(provide[\"id\"]):\n",
    "    for j in np.arange(len(removed_chars_list[i])):\n",
    "        ids.append(elem)\n",
    "        amens.append(removed_chars_list[i][j])\n",
    "        \n"
   ]
  },
  {
   "cell_type": "code",
   "execution_count": 67,
   "metadata": {},
   "outputs": [],
   "source": [
    "provides = pd.DataFrame({\"id\" : ids, \"amenities\" : amens})"
   ]
  },
  {
   "cell_type": "code",
   "execution_count": 71,
   "metadata": {
    "scrolled": true
   },
   "outputs": [],
   "source": [
    "provides = provides.drop_duplicates()"
   ]
  },
  {
   "cell_type": "code",
   "execution_count": 72,
   "metadata": {},
   "outputs": [],
   "source": [
    "provides.to_sql(\"Provides\", engine, if_exists=\"append\", index=False, dtype={\"id\" : sqlalchemy.INT, \"amenities\" : sqlalchemy.CHAR(32)})"
   ]
  },
  {
   "cell_type": "markdown",
   "metadata": {},
   "source": [
    "## Country"
   ]
  },
  {
   "cell_type": "code",
   "execution_count": 138,
   "metadata": {},
   "outputs": [],
   "source": [
    "country = [\"Spain\", \"Germany\"]\n",
    "c_code = [\"ES\", \"DE\"]"
   ]
  },
  {
   "cell_type": "code",
   "execution_count": 139,
   "metadata": {},
   "outputs": [],
   "source": [
    "da_country = pd.DataFrame({\"country\" : country, \"country_code\" : c_code})"
   ]
  },
  {
   "cell_type": "code",
   "execution_count": 142,
   "metadata": {},
   "outputs": [
    {
     "data": {
      "text/html": [
       "<div>\n",
       "<style scoped>\n",
       "    .dataframe tbody tr th:only-of-type {\n",
       "        vertical-align: middle;\n",
       "    }\n",
       "\n",
       "    .dataframe tbody tr th {\n",
       "        vertical-align: top;\n",
       "    }\n",
       "\n",
       "    .dataframe thead th {\n",
       "        text-align: right;\n",
       "    }\n",
       "</style>\n",
       "<table border=\"1\" class=\"dataframe\">\n",
       "  <thead>\n",
       "    <tr style=\"text-align: right;\">\n",
       "      <th></th>\n",
       "      <th>country</th>\n",
       "      <th>country_code</th>\n",
       "    </tr>\n",
       "  </thead>\n",
       "  <tbody>\n",
       "    <tr>\n",
       "      <th>0</th>\n",
       "      <td>Spain</td>\n",
       "      <td>ES</td>\n",
       "    </tr>\n",
       "    <tr>\n",
       "      <th>1</th>\n",
       "      <td>Germany</td>\n",
       "      <td>DE</td>\n",
       "    </tr>\n",
       "  </tbody>\n",
       "</table>\n",
       "</div>"
      ],
      "text/plain": [
       "   country country_code\n",
       "0    Spain           ES\n",
       "1  Germany           DE"
      ]
     },
     "execution_count": 142,
     "metadata": {},
     "output_type": "execute_result"
    }
   ],
   "source": [
    "da_country"
   ]
  },
  {
   "cell_type": "code",
   "execution_count": 143,
   "metadata": {},
   "outputs": [],
   "source": [
    "da_country.to_sql(\"Country\", engine, if_exists=\"append\", index=False, dtype={\"country_code\" : sqlalchemy.CHAR(2), \"country\" : sqlalchemy.CHAR(32)})"
   ]
  },
  {
   "cell_type": "markdown",
   "metadata": {},
   "source": [
    "## City"
   ]
  },
  {
   "cell_type": "code",
   "execution_count": 133,
   "metadata": {},
   "outputs": [],
   "source": [
    "city= [\"Barcelona\",\"Madrid\",\"Berlin\"]"
   ]
  },
  {
   "cell_type": "code",
   "execution_count": 134,
   "metadata": {},
   "outputs": [],
   "source": [
    "country_code = [\"ES\", \"ES\", \"DE\"]"
   ]
  },
  {
   "cell_type": "code",
   "execution_count": 135,
   "metadata": {},
   "outputs": [],
   "source": [
    "da_city = pd.DataFrame({\"city\" : city, \"country_code\" : country_code})"
   ]
  },
  {
   "cell_type": "code",
   "execution_count": null,
   "metadata": {},
   "outputs": [],
   "source": []
  },
  {
   "cell_type": "code",
   "execution_count": 137,
   "metadata": {},
   "outputs": [],
   "source": [
    "da_city.to_sql(\"City\", engine, if_exists=\"append\", index=False, dtype={\"city\" : sqlalchemy.CHAR(32), \"country_code\" : sqlalchemy.CHAR(2)})"
   ]
  },
  {
   "cell_type": "code",
   "execution_count": null,
   "metadata": {},
   "outputs": [],
   "source": []
  },
  {
   "cell_type": "markdown",
   "metadata": {},
   "source": [
    "### Neighbourhood"
   ]
  },
  {
   "cell_type": "code",
   "execution_count": 98,
   "metadata": {},
   "outputs": [],
   "source": [
    "nei = listings[[\"neighbourhood\", \"country_code\", \"city\"]]"
   ]
  },
  {
   "cell_type": "code",
   "execution_count": 109,
   "metadata": {
    "collapsed": true
   },
   "outputs": [
    {
     "name": "stderr",
     "output_type": "stream",
     "text": [
      "/anaconda3/lib/python3.6/site-packages/ipykernel_launcher.py:1: SettingWithCopyWarning: \n",
      "A value is trying to be set on a copy of a slice from a DataFrame\n",
      "\n",
      "See the caveats in the documentation: http://pandas.pydata.org/pandas-docs/stable/indexing.html#indexing-view-versus-copy\n",
      "  \"\"\"Entry point for launching an IPython kernel.\n"
     ]
    }
   ],
   "source": [
    "nei.drop_duplicates(inplace=True)"
   ]
  },
  {
   "cell_type": "code",
   "execution_count": 105,
   "metadata": {},
   "outputs": [],
   "source": [
    "for i in nei.index:\n",
    "    nei.at[i, \"city\"] = \"Barcelona\""
   ]
  },
  {
   "cell_type": "code",
   "execution_count": 130,
   "metadata": {},
   "outputs": [],
   "source": [
    "nei.to_sql(\"Neighbourhood\", engine, if_exists=\"append\", index=False, dtype={\"Neighbourhood\" : sqlalchemy.CHAR(32), \"country_code\" : sqlalchemy.CHAR(2), \"city\" : sqlalchemy.CHAR(32)})"
   ]
  },
  {
   "cell_type": "markdown",
   "metadata": {},
   "source": [
    "## Import Listing"
   ]
  },
  {
   "cell_type": "code",
   "execution_count": 7,
   "metadata": {},
   "outputs": [],
   "source": [
    "da_listing = listings[[\"id\", \"listing_url\", \"name\", \"accommodates\", \"cancellation_policy\", \"host_id\", \"neighbourhood\", \"city\", \"country_code\", \"latitude\", \"longitude\", \"property_type\", \"room_type\", \"bathrooms\", \"bedrooms\", \"beds\", \"bed_type\", \"interaction\", \"house_rules\", \"is_business_travel_ready\", \"require_guest_profile_picture\", \"require_guest_phone_verification\"]]"
   ]
  },
  {
   "cell_type": "code",
   "execution_count": 8,
   "metadata": {},
   "outputs": [
    {
     "data": {
      "text/plain": [
       "id                                     0\n",
       "listing_url                            0\n",
       "name                                  12\n",
       "accommodates                           0\n",
       "cancellation_policy                    0\n",
       "host_id                                0\n",
       "neighbourhood                          0\n",
       "city                                   2\n",
       "country_code                           0\n",
       "latitude                               0\n",
       "longitude                              0\n",
       "property_type                          0\n",
       "room_type                              0\n",
       "bathrooms                              9\n",
       "bedrooms                               4\n",
       "beds                                  17\n",
       "bed_type                               0\n",
       "interaction                         5686\n",
       "house_rules                         4185\n",
       "is_business_travel_ready               0\n",
       "require_guest_profile_picture          0\n",
       "require_guest_phone_verification       0\n",
       "dtype: int64"
      ]
     },
     "execution_count": 8,
     "metadata": {},
     "output_type": "execute_result"
    }
   ],
   "source": [
    "da_listing.isna().sum()"
   ]
  },
  {
   "cell_type": "code",
   "execution_count": 9,
   "metadata": {},
   "outputs": [
    {
     "name": "stderr",
     "output_type": "stream",
     "text": [
      "/anaconda3/lib/python3.6/site-packages/pandas/core/generic.py:4405: SettingWithCopyWarning: \n",
      "A value is trying to be set on a copy of a slice from a DataFrame.\n",
      "Try using .loc[row_indexer,col_indexer] = value instead\n",
      "\n",
      "See the caveats in the documentation: http://pandas.pydata.org/pandas-docs/stable/indexing.html#indexing-view-versus-copy\n",
      "  self[name] = value\n"
     ]
    }
   ],
   "source": [
    "da_listing.name = da_listing.name.fillna(\"\")\n",
    "da_listing.interaction = da_listing.interaction.fillna(\"\")\n",
    "da_listing.house_rules = da_listing.house_rules.fillna(\"\")\n",
    "\n",
    "da_listing.city = da_listing.city.fillna(\"Barcelona\")\n",
    "da_listing.bathrooms = da_listing.bathrooms.fillna(0)\n",
    "da_listing.bedrooms = da_listing.bedrooms.fillna(0)\n",
    "da_listing.beds = da_listing.beds.fillna(0)"
   ]
  },
  {
   "cell_type": "code",
   "execution_count": 11,
   "metadata": {},
   "outputs": [],
   "source": [
    "da_listing.to_sql(\"Listing\", engine, if_exists=\"append\", index=False, dtype={\"id\" : sqlalchemy.INT, \"listing_url\" : sqlalchemy.CHAR(32), \"name\" : sqlalchemy.CHAR(32), \"accommodates\" : sqlalchemy.CHAR(32), \"cancellation_policy\" : sqlalchemy.CHAR(32), \"host_id\" : sqlalchemy.INT, \"neighbourhood\": sqlalchemy.CHAR(32), \"city\" : sqlalchemy.CHAR(32), \"country_code\" : sqlalchemy.CHAR(2), \"latitude\" : sqlalchemy.FLOAT, \"longitude\" : sqlalchemy.FLOAT, \"property_type\": sqlalchemy.CHAR(32), \"room_type\" : sqlalchemy.CHAR(32), \"bathrooms\" : sqlalchemy.FLOAT, \"bedrooms\" : sqlalchemy.INT, \"beds\" : sqlalchemy.INT, \"bed_type\" : sqlalchemy.CHAR(32), \"interaction\" : sqlalchemy.VARCHAR(1024), \"house_rules\" : sqlalchemy.VARCHAR(1024), \"is_business_travel_ready\" : sqlalchemy.CHAR(1), \"require_guest_profile_picture\" : sqlalchemy.CHAR(1), \"require_guest_phone_verification\" : sqlalchemy.CHAR(1)})"
   ]
  },
  {
   "cell_type": "code",
   "execution_count": null,
   "metadata": {},
   "outputs": [],
   "source": []
  }
 ],
 "metadata": {
  "kernelspec": {
   "display_name": "Python 3",
   "language": "python",
   "name": "python3"
  },
  "language_info": {
   "codemirror_mode": {
    "name": "ipython",
    "version": 3
   },
   "file_extension": ".py",
   "mimetype": "text/x-python",
   "name": "python",
   "nbconvert_exporter": "python",
   "pygments_lexer": "ipython3",
   "version": "3.6.6"
  }
 },
 "nbformat": 4,
 "nbformat_minor": 2
}
