{
 "cells": [
  {
   "cell_type": "markdown",
   "metadata": {},
   "source": [
    "### Policy"
   ]
  },
  {
   "cell_type": "code",
   "execution_count": null,
   "metadata": {},
   "outputs": [],
   "source": [
    "reduced = listings[[\"id\", \"is_business_travel_ready\", \"cancellation_policy\", \"require_guest_profile_picture\", \"require_guest_phone_verification\"]]"
   ]
  },
  {
   "cell_type": "code",
   "execution_count": null,
   "metadata": {},
   "outputs": [],
   "source": [
    "policy_mapping = {}\n",
    "for i, e in enumerate(reduced.cancellation_policy.unique()):\n",
    "    policy_mapping[e] = i"
   ]
  },
  {
   "cell_type": "code",
   "execution_count": null,
   "metadata": {},
   "outputs": [],
   "source": [
    "policy_id = np.arange(len(listings.id))"
   ]
  },
  {
   "cell_type": "code",
   "execution_count": null,
   "metadata": {},
   "outputs": [],
   "source": [
    "reduced.insert(1, column=\"policy_id\", value=policy_id)"
   ]
  },
  {
   "cell_type": "code",
   "execution_count": null,
   "metadata": {},
   "outputs": [],
   "source": [
    "for i in reduced.index:\n",
    "    reduced.at[i, \"policy_id\"] = int(policy_mapping.get(reduced.at[i, \"cancellation_policy\"]))"
   ]
  },
  {
   "cell_type": "code",
   "execution_count": null,
   "metadata": {},
   "outputs": [],
   "source": [
    "[print(\"Hey\") for i in reduced.index if reduced.at[i, \"is_business_travel_ready\"] == \"t\"]"
   ]
  },
  {
   "cell_type": "code",
   "execution_count": null,
   "metadata": {},
   "outputs": [],
   "source": [
    "reduced.to_sql(\"Policy\", engine, if_exists=\"append\", index=False, dtype={\"id\" : sqlalchemy.INT, \"is_business_travel_ready\" : sqlalchemy.CHAR(1), \"cancellation_policy\" : sqlalchemy.CHAR(32), \"require_guest_profile_picture\" : sqlalchemy.CHAR(1), \"require_guest_phone_verification\" : sqlalchemy.CHAR(1)})"
   ]
  },
  {
   "cell_type": "markdown",
   "metadata": {},
   "source": [
    "## Calendar"
   ]
  },
  {
   "cell_type": "code",
   "execution_count": null,
   "metadata": {},
   "outputs": [],
   "source": [
    "cal = pd.DataFrame({\"cal_id\" : np.arange(len(calendar.date.unique())), \"date\" : calendar.date.unique()})"
   ]
  },
  {
   "cell_type": "code",
   "execution_count": null,
   "metadata": {},
   "outputs": [],
   "source": [
    "for i in cal.index:\n",
    "    cal.at[i, \"date\"] = datetime.datetime.strptime(str(cal.at[i, \"date\"]), \"%Y-%m-%d\").date()"
   ]
  },
  {
   "cell_type": "code",
   "execution_count": null,
   "metadata": {},
   "outputs": [],
   "source": [
    "cal.to_sql(\"Calendar\", engine, if_exists=\"append\", index=False, dtype={\"cal_id\" : sqlalchemy.INT, \"date\" : sqlalchemy.DATE})"
   ]
  },
  {
   "cell_type": "markdown",
   "metadata": {},
   "source": [
    "## Available at"
   ]
  },
  {
   "cell_type": "code",
   "execution_count": null,
   "metadata": {},
   "outputs": [],
   "source": [
    "date_mapping = {}\n",
    "for i in cal.index:\n",
    "    date_mapping[str(cal.at[i, \"date\"])] = cal.at[i, \"cal_id\"]"
   ]
  },
  {
   "cell_type": "code",
   "execution_count": null,
   "metadata": {},
   "outputs": [],
   "source": [
    "second_mapping = []\n",
    "for i in calendar.index:\n",
    "    second_mapping.append(date_mapping.get(calendar.at[i, \"date\"]))"
   ]
  },
  {
   "cell_type": "code",
   "execution_count": null,
   "metadata": {},
   "outputs": [],
   "source": [
    "avail = pd.DataFrame({\"id\" : calendar.listing_id, \"cal_id\" : second_mapping, \"price\" : calendar.price, \"available\" : calendar.available})"
   ]
  },
  {
   "cell_type": "code",
   "execution_count": null,
   "metadata": {},
   "outputs": [],
   "source": [
    "for i in avail.index:\n",
    "    if not pd.isna(avail.at[i, \"price\"]):\n",
    "        avail.at[i, \"price\"] = float(str(avail.at[i, \"price\"]).replace(\",\",\"\").replace(\"$\", \"\"))"
   ]
  },
  {
   "cell_type": "code",
   "execution_count": null,
   "metadata": {},
   "outputs": [],
   "source": [
    "avail = avail.fillna(-1)"
   ]
  },
  {
   "cell_type": "code",
   "execution_count": null,
   "metadata": {},
   "outputs": [],
   "source": [
    "avail.to_sql(\"Available_at\", engine, if_exists=\"append\", index=False, dtype={\"id\" : sqlalchemy.INT, \"cal_id\" : sqlalchemy.INT, \"price\" : sqlalchemy.INT, \"available\" : sqlalchemy.CHAR(1)})"
   ]
  },
  {
   "cell_type": "markdown",
   "metadata": {},
   "source": [
    "## Verification"
   ]
  },
  {
   "cell_type": "code",
   "execution_count": null,
   "metadata": {},
   "outputs": [],
   "source": [
    "verification = pd.DataFrame({\"host_verifications_id\" : np.arange(len(new_list)), \"host_verifications\" : new_list})"
   ]
  },
  {
   "cell_type": "code",
   "execution_count": null,
   "metadata": {},
   "outputs": [],
   "source": []
  },
  {
   "cell_type": "code",
   "execution_count": null,
   "metadata": {},
   "outputs": [],
   "source": []
  },
  {
   "cell_type": "code",
   "execution_count": null,
   "metadata": {},
   "outputs": [],
   "source": []
  },
  {
   "cell_type": "code",
   "execution_count": null,
   "metadata": {},
   "outputs": [],
   "source": []
  },
  {
   "cell_type": "code",
   "execution_count": null,
   "metadata": {},
   "outputs": [],
   "source": []
  },
  {
   "cell_type": "code",
   "execution_count": null,
   "metadata": {},
   "outputs": [],
   "source": []
  },
  {
   "cell_type": "code",
   "execution_count": null,
   "metadata": {},
   "outputs": [],
   "source": []
  },
  {
   "cell_type": "code",
   "execution_count": null,
   "metadata": {},
   "outputs": [],
   "source": []
  },
  {
   "cell_type": "code",
   "execution_count": null,
   "metadata": {},
   "outputs": [],
   "source": []
  },
  {
   "cell_type": "code",
   "execution_count": null,
   "metadata": {},
   "outputs": [],
   "source": []
  }
 ],
 "metadata": {
  "kernelspec": {
   "display_name": "Python 3",
   "language": "python",
   "name": "python3"
  },
  "language_info": {
   "codemirror_mode": {
    "name": "ipython",
    "version": 3
   },
   "file_extension": ".py",
   "mimetype": "text/x-python",
   "name": "python",
   "nbconvert_exporter": "python",
   "pygments_lexer": "ipython3",
   "version": "3.6.6"
  }
 },
 "nbformat": 4,
 "nbformat_minor": 2
}
