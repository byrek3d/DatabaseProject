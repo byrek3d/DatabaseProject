{
 "cells": [
  {
   "cell_type": "code",
   "execution_count": 1,
   "metadata": {},
   "outputs": [],
   "source": [
    "import flask\n",
    "import pandas as pd\n",
    "import numpy as np\n",
    "from sqlalchemy import create_engine\n",
    "import sqlalchemy"
   ]
  },
  {
   "cell_type": "code",
   "execution_count": null,
   "metadata": {
    "scrolled": true
   },
   "outputs": [
    {
     "name": "stdout",
     "output_type": "stream",
     "text": [
      " * Serving Flask app \"__main__\" (lazy loading)\n",
      " * Environment: production\n",
      "   WARNING: Do not use the development server in a production environment.\n",
      "   Use a production WSGI server instead.\n",
      " * Debug mode: off\n"
     ]
    },
    {
     "name": "stderr",
     "output_type": "stream",
     "text": [
      " * Running on http://127.0.0.1:5000/ (Press CTRL+C to quit)\n",
      "127.0.0.1 - - [18/May/2019 19:03:35] \"GET / HTTP/1.1\" 200 -\n",
      "127.0.0.1 - - [18/May/2019 19:03:38] \"GET /search HTTP/1.1\" 200 -\n",
      "127.0.0.1 - - [18/May/2019 19:03:40] \"POST /testForm HTTP/1.1\" 200 -\n"
     ]
    }
   ],
   "source": [
    "# serve.py\n",
    "\n",
    "from flask import Flask, redirect, url_for, request\n",
    "from flask import render_template\n",
    "\n",
    "engine = create_engine(\"sqlite:///project.db\")\n",
    "# creates a Flask application, named app\n",
    "app = Flask(__name__)\n",
    "counter=0\n",
    "\n",
    "# a route where we will display a welcome message via an HTML template\n",
    "@app.route(\"/\")\n",
    "def init():\n",
    "    return render_template('table.html')\n",
    "\n",
    "@app.route('/search')\n",
    "def search():\n",
    "    tableNames=engine.table_names()\n",
    "    return render_template('search.html',tableNames=tableNames, message=\"Please Select Table\", hidden2=\"hidden\",hidden3=\"hidden\",hiddenDelete=\"hidden\")\n",
    "\n",
    "    \n",
    "@app.route('/predefined', methods = ['POST', 'GET'])\n",
    "def select():\n",
    "    if request.method == 'POST':\n",
    "        x = request.form[\"query_nr\"]\n",
    "        return redirect(url_for('table', x=x))\n",
    "    \n",
    "@app.route('/searchBox', methods = ['POST', 'GET'])\n",
    "def getInput():\n",
    "    if request.method == 'POST':\n",
    "        first = request.form[\"first\"]\n",
    "        second = request.form[\"second\"]\n",
    "        return redirect(url_for('searchResult', first=first,second=second))\n",
    "    \n",
    "@app.route('/testForm', methods = ['POST', 'GET'])\n",
    "def testForm():\n",
    "    global counter\n",
    "    global first\n",
    "    global second\n",
    "    global third\n",
    "    if request.method == 'POST':\n",
    "        counter=counter+1\n",
    "        if counter==1:\n",
    "            first = request.form[\"testDD\"]\n",
    "            message=\"Please select one columns of the table \"+ first\n",
    "            query=\"select * from \"+first\n",
    "            columns=engine.execute(query).keys();\n",
    "            return render_template('search.html',tableColumns=columns, hidden1=\"hidden\",hidden3=\"hidden\",hiddenSubmit=\"hidden\",hiddenDelete=\"hidden\", message=message)\n",
    "        if counter == 2:\n",
    "            second = request.form[\"testDD2\"]\n",
    "            message=\"Please input the value of the column \"+ second\n",
    "            return render_template('search.html', hidden1=\"hidden\",hidden2=\"hidden\",hiddenDelete=\"hidden\", message=message)\n",
    "        if counter == 3:\n",
    "            third=request.form[\"value\"]\n",
    "            counter=0\n",
    "            return redirect(url_for('searchResult', first=first,second=second, third=third))\n",
    "\n",
    "        \n",
    "        return render_template('search.html', message=message)\n",
    "@app.route('/delete', methods = ['POST', 'GET'])\n",
    "def delete():\n",
    "    if request.method == 'POST':\n",
    "        query=\"Delete From \"+first+\" where \"+second+\" = \"+\"'\"+third+\"'\"\n",
    "        test = engine.execute(query)\n",
    "        return render_template('search.html', hidden1=\"hidden\",hidden2=\"hidden\",hidden3=\"hidden\",hiddenSubmit=\"hidden\",hiddenDelete=\"hidden\", message=\"Row(s) deleted\")\n",
    "    \n",
    "@app.route(\"/searchResult/<first>/<second>/<third>\")\n",
    "def searchResult(first,second, third):\n",
    "    query=\"Select * From \"+first+\" where \"+second+\" = \"+\"'\"+third+\"'\"\n",
    "    test = engine.execute(query).fetchall();\n",
    "    columns=engine.execute(query).keys();\n",
    "    count=len(engine.execute(query).keys());\n",
    "    return render_template('search.html', test=test, columns=columns, count= count,hidden1=\"hidden\",hidden3=\"hidden\",hidden2=\"hidden\",hiddenSubmit=\"hidden\")\n",
    "    \n",
    "\n",
    "@app.route(\"/table/<x>\")\n",
    "def table(x):\n",
    "    list_of_predefined = [\"\",\n",
    "                          \"Select L3.id from listing L3, provides p1 WHere L3.id=p1.id AND p1.amenities='wifi'\", \n",
    "                          \"SELECT AVG(review_scores_cleanliness) FROM Listing L, Amenities A, SCORE S, PROVIDE P WHERE L.id=S.id AND P.id=L.id AND P.amenities='TV' ;\"\n",
    "                         \"SELECT DISTINCT L.host_id FROM Listing L, AVAILABLE_AT AV WHERE AV.id=L.id AND AV.available='t' AND AV.date <= DATE '2019-09-31' AND AV.date >= DATE '2019-03-00' ;\"] \n",
    "    test = engine.execute(list_of_predefined[int(x)]).fetchall();\n",
    "    columns=engine.execute(list_of_predefined[int(x)]).keys();\n",
    "    count=len(engine.execute(list_of_predefined[int(x)]).keys());\n",
    "    return render_template('table.html', test=test, columns=columns, count= count)\n",
    "# run the application\n",
    "if __name__==\"__main__\":\n",
    "     app.run(port=5000, debug=False)"
   ]
  },
  {
   "cell_type": "code",
   "execution_count": null,
   "metadata": {},
   "outputs": [],
   "source": []
  },
  {
   "cell_type": "code",
   "execution_count": null,
   "metadata": {},
   "outputs": [],
   "source": []
  },
  {
   "cell_type": "code",
   "execution_count": null,
   "metadata": {},
   "outputs": [],
   "source": []
  }
 ],
 "metadata": {
  "kernelspec": {
   "display_name": "Python 3",
   "language": "python",
   "name": "python3"
  },
  "language_info": {
   "codemirror_mode": {
    "name": "ipython",
    "version": 3
   },
   "file_extension": ".py",
   "mimetype": "text/x-python",
   "name": "python",
   "nbconvert_exporter": "python",
   "pygments_lexer": "ipython3",
   "version": "3.7.1"
  }
 },
 "nbformat": 4,
 "nbformat_minor": 2
}
