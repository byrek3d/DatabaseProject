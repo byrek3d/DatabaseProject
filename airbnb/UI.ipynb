{
 "cells": [
  {
   "cell_type": "code",
   "execution_count": 1,
   "metadata": {},
   "outputs": [],
   "source": [
    "import flask\n",
    "import pandas as pd\n",
    "import numpy as np\n",
    "from sqlalchemy import create_engine\n",
    "import sqlalchemy"
   ]
  },
  {
   "cell_type": "code",
   "execution_count": null,
   "metadata": {
    "scrolled": true
   },
   "outputs": [
    {
     "name": "stdout",
     "output_type": "stream",
     "text": [
      " * Serving Flask app \"__main__\" (lazy loading)\n",
      " * Environment: production\n",
      "   WARNING: Do not use the development server in a production environment.\n",
      "   Use a production WSGI server instead.\n",
      " * Debug mode: off\n"
     ]
    },
    {
     "name": "stderr",
     "output_type": "stream",
     "text": [
      " * Running on http://127.0.0.1:5000/ (Press CTRL+C to quit)\n",
      "127.0.0.1 - - [26/Apr/2019 10:37:07] \"GET / HTTP/1.1\" 200 -\n",
      "127.0.0.1 - - [26/Apr/2019 10:37:07] \"GET / HTTP/1.1\" 200 -\n",
      "127.0.0.1 - - [26/Apr/2019 10:37:09] \"POST /predefined HTTP/1.1\" 302 -\n",
      "127.0.0.1 - - [26/Apr/2019 10:37:09] \"GET /table/1 HTTP/1.1\" 200 -\n",
      "127.0.0.1 - - [26/Apr/2019 10:37:10] \"GET / HTTP/1.1\" 200 -\n",
      "127.0.0.1 - - [26/Apr/2019 10:37:22] \"GET /search HTTP/1.1\" 404 -\n",
      "[2019-04-26 10:37:27,218] ERROR in app: Exception on /table/0 [GET]\n",
      "Traceback (most recent call last):\n",
      "  File \"C:\\ProgramData\\Anaconda3\\lib\\site-packages\\sqlalchemy\\engine\\result.py\", line 1081, in _fetchall_impl\n",
      "    return self.cursor.fetchall()\n",
      "AttributeError: 'NoneType' object has no attribute 'fetchall'\n",
      "\n",
      "During handling of the above exception, another exception occurred:\n",
      "\n",
      "Traceback (most recent call last):\n",
      "  File \"C:\\ProgramData\\Anaconda3\\lib\\site-packages\\flask\\app.py\", line 2292, in wsgi_app\n",
      "    response = self.full_dispatch_request()\n",
      "  File \"C:\\ProgramData\\Anaconda3\\lib\\site-packages\\flask\\app.py\", line 1815, in full_dispatch_request\n",
      "    rv = self.handle_user_exception(e)\n",
      "  File \"C:\\ProgramData\\Anaconda3\\lib\\site-packages\\flask\\app.py\", line 1718, in handle_user_exception\n",
      "    reraise(exc_type, exc_value, tb)\n",
      "  File \"C:\\ProgramData\\Anaconda3\\lib\\site-packages\\flask\\_compat.py\", line 35, in reraise\n",
      "    raise value\n",
      "  File \"C:\\ProgramData\\Anaconda3\\lib\\site-packages\\flask\\app.py\", line 1813, in full_dispatch_request\n",
      "    rv = self.dispatch_request()\n",
      "  File \"C:\\ProgramData\\Anaconda3\\lib\\site-packages\\flask\\app.py\", line 1799, in dispatch_request\n",
      "    return self.view_functions[rule.endpoint](**req.view_args)\n",
      "  File \"<ipython-input-56-a37a2f3f25e1>\", line 43, in table\n",
      "    test = engine.execute(list_of_predefined[int(x)]).fetchall();\n",
      "  File \"C:\\ProgramData\\Anaconda3\\lib\\site-packages\\sqlalchemy\\engine\\result.py\", line 1136, in fetchall\n",
      "    self.cursor, self.context)\n",
      "  File \"C:\\ProgramData\\Anaconda3\\lib\\site-packages\\sqlalchemy\\engine\\base.py\", line 1416, in _handle_dbapi_exception\n",
      "    util.reraise(*exc_info)\n",
      "  File \"C:\\ProgramData\\Anaconda3\\lib\\site-packages\\sqlalchemy\\util\\compat.py\", line 249, in reraise\n",
      "    raise value\n",
      "  File \"C:\\ProgramData\\Anaconda3\\lib\\site-packages\\sqlalchemy\\engine\\result.py\", line 1130, in fetchall\n",
      "    l = self.process_rows(self._fetchall_impl())\n",
      "  File \"C:\\ProgramData\\Anaconda3\\lib\\site-packages\\sqlalchemy\\engine\\result.py\", line 1083, in _fetchall_impl\n",
      "    return self._non_result([])\n",
      "  File \"C:\\ProgramData\\Anaconda3\\lib\\site-packages\\sqlalchemy\\engine\\result.py\", line 1088, in _non_result\n",
      "    \"This result object does not return rows. \"\n",
      "sqlalchemy.exc.ResourceClosedError: This result object does not return rows. It has been closed automatically.\n",
      "127.0.0.1 - - [26/Apr/2019 10:37:27] \"GET /table/0 HTTP/1.1\" 500 -\n"
     ]
    }
   ],
   "source": [
    "# serve.py\n",
    "\n",
    "from flask import Flask, redirect, url_for, request\n",
    "from flask import render_template\n",
    "\n",
    "engine = create_engine(\"sqlite:///project.db\")\n",
    "# creates a Flask application, named app\n",
    "app = Flask(__name__)\n",
    "\n",
    "# a route where we will display a welcome message via an HTML template\n",
    "@app.route(\"/\")\n",
    "def init():  \n",
    "    return render_template('table.html', x=0)\n",
    "\n",
    "\n",
    "@app.route('/actors')\n",
    "def asb():\n",
    "    return str(engine.execute(\"select * from Bedding Where beds=3\").fetchall());\n",
    "\n",
    "@app.route('/xyz', methods = ['POST', 'GET'])\n",
    "def xyz():\n",
    "    if request.method == 'POST':\n",
    "        x = request.form[\"x\"]\n",
    "\n",
    "        return redirect(url_for('abc', x=x,y=y,z=z))\n",
    "    \n",
    "@app.route('/predefined', methods = ['POST', 'GET'])\n",
    "def select():\n",
    "    if request.method == 'POST':\n",
    "        x = request.form[\"query_nr\"]\n",
    "        return redirect(url_for('table', x=x))\n",
    "    \n",
    "@app.route('/abc/<x>/<y>/<z>')\n",
    "def abc(x,y,z):\n",
    "    return render_template('index.html', message=str(engine.execute(\"select * from \"+x+\" Where \"+y+\" = \"+z).fetchall()))\n",
    "\n",
    "@app.route(\"/table/<x>\")\n",
    "def table(x):\n",
    "    list_of_predefined = [\"\",\n",
    "                          \"select * from Described_Description WHere square_feet=75\", \n",
    "                          \"select * from Reviewer WHere reviewer_name='Maria'\", \n",
    "                          \"select * from Room\"] \n",
    "    test = engine.execute(list_of_predefined[int(x)]).fetchall();\n",
    "    columns=engine.execute(list_of_predefined[int(x)]).keys();\n",
    "    count=len(engine.execute(list_of_predefined[int(x)]).keys());\n",
    "    return render_template('table.html', test=test, columns=columns, count= count)\n",
    "# run the application\n",
    "if __name__==\"__main__\":\n",
    "     app.run(port=5000, debug=False)"
   ]
  },
  {
   "cell_type": "code",
   "execution_count": null,
   "metadata": {},
   "outputs": [],
   "source": []
  },
  {
   "cell_type": "code",
   "execution_count": null,
   "metadata": {},
   "outputs": [],
   "source": []
  },
  {
   "cell_type": "code",
   "execution_count": null,
   "metadata": {},
   "outputs": [],
   "source": []
  }
 ],
 "metadata": {
  "kernelspec": {
   "display_name": "Python 3",
   "language": "python",
   "name": "python3"
  },
  "language_info": {
   "codemirror_mode": {
    "name": "ipython",
    "version": 3
   },
   "file_extension": ".py",
   "mimetype": "text/x-python",
   "name": "python",
   "nbconvert_exporter": "python",
   "pygments_lexer": "ipython3",
   "version": "3.7.1"
  }
 },
 "nbformat": 4,
 "nbformat_minor": 2
}
