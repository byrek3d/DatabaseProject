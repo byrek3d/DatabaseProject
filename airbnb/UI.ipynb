{
 "cells": [
  {
   "cell_type": "code",
   "execution_count": 1,
   "metadata": {},
   "outputs": [],
   "source": [
    "import flask\n",
    "import pandas as pd\n",
    "import numpy as np\n",
    "from sqlalchemy import create_engine\n",
    "import sqlalchemy"
   ]
  },
  {
   "cell_type": "code",
   "execution_count": null,
   "metadata": {
    "scrolled": true
   },
   "outputs": [
    {
     "name": "stdout",
     "output_type": "stream",
     "text": [
      " * Serving Flask app \"__main__\" (lazy loading)\n",
      " * Environment: production\n",
      "   WARNING: Do not use the development server in a production environment.\n",
      "   Use a production WSGI server instead.\n",
      " * Debug mode: off\n"
     ]
    },
    {
     "name": "stderr",
     "output_type": "stream",
     "text": [
      " * Running on http://127.0.0.1:5000/ (Press CTRL+C to quit)\n",
      "127.0.0.1 - - [29/Apr/2019 20:26:55] \"\u001b[37mGET / HTTP/1.1\u001b[0m\" 200 -\n",
      "127.0.0.1 - - [29/Apr/2019 20:26:57] \"\u001b[32mPOST /predefined HTTP/1.1\u001b[0m\" 302 -\n",
      "127.0.0.1 - - [29/Apr/2019 20:26:57] \"\u001b[37mGET /table/1 HTTP/1.1\u001b[0m\" 200 -\n",
      "127.0.0.1 - - [29/Apr/2019 20:27:01] \"\u001b[32mPOST /predefined HTTP/1.1\u001b[0m\" 302 -\n",
      "[2019-04-29 20:27:01,213] ERROR in app: Exception on /table/2 [GET]\n",
      "Traceback (most recent call last):\n",
      "  File \"/anaconda3/lib/python3.6/site-packages/sqlalchemy/engine/base.py\", line 1193, in _execute_context\n",
      "    context)\n",
      "  File \"/anaconda3/lib/python3.6/site-packages/sqlalchemy/engine/default.py\", line 509, in do_execute\n",
      "    cursor.execute(statement, parameters)\n",
      "sqlite3.OperationalError: no such table: PROVIDE\n",
      "\n",
      "The above exception was the direct cause of the following exception:\n",
      "\n",
      "Traceback (most recent call last):\n",
      "  File \"/anaconda3/lib/python3.6/site-packages/flask/app.py\", line 2292, in wsgi_app\n",
      "    response = self.full_dispatch_request()\n",
      "  File \"/anaconda3/lib/python3.6/site-packages/flask/app.py\", line 1815, in full_dispatch_request\n",
      "    rv = self.handle_user_exception(e)\n",
      "  File \"/anaconda3/lib/python3.6/site-packages/flask/app.py\", line 1718, in handle_user_exception\n",
      "    reraise(exc_type, exc_value, tb)\n",
      "  File \"/anaconda3/lib/python3.6/site-packages/flask/_compat.py\", line 35, in reraise\n",
      "    raise value\n",
      "  File \"/anaconda3/lib/python3.6/site-packages/flask/app.py\", line 1813, in full_dispatch_request\n",
      "    rv = self.dispatch_request()\n",
      "  File \"/anaconda3/lib/python3.6/site-packages/flask/app.py\", line 1799, in dispatch_request\n",
      "    return self.view_functions[rule.endpoint](**req.view_args)\n",
      "  File \"<ipython-input-3-f60e3d2ba0f3>\", line 43, in table\n",
      "    test = engine.execute(list_of_predefined[int(x)]).fetchall();\n",
      "  File \"/anaconda3/lib/python3.6/site-packages/sqlalchemy/engine/base.py\", line 2075, in execute\n",
      "    return connection.execute(statement, *multiparams, **params)\n",
      "  File \"/anaconda3/lib/python3.6/site-packages/sqlalchemy/engine/base.py\", line 942, in execute\n",
      "    return self._execute_text(object, multiparams, params)\n",
      "  File \"/anaconda3/lib/python3.6/site-packages/sqlalchemy/engine/base.py\", line 1104, in _execute_text\n",
      "    statement, parameters\n",
      "  File \"/anaconda3/lib/python3.6/site-packages/sqlalchemy/engine/base.py\", line 1200, in _execute_context\n",
      "    context)\n",
      "  File \"/anaconda3/lib/python3.6/site-packages/sqlalchemy/engine/base.py\", line 1413, in _handle_dbapi_exception\n",
      "    exc_info\n",
      "  File \"/anaconda3/lib/python3.6/site-packages/sqlalchemy/util/compat.py\", line 265, in raise_from_cause\n",
      "    reraise(type(exception), exception, tb=exc_tb, cause=cause)\n",
      "  File \"/anaconda3/lib/python3.6/site-packages/sqlalchemy/util/compat.py\", line 248, in reraise\n",
      "    raise value.with_traceback(tb)\n",
      "  File \"/anaconda3/lib/python3.6/site-packages/sqlalchemy/engine/base.py\", line 1193, in _execute_context\n",
      "    context)\n",
      "  File \"/anaconda3/lib/python3.6/site-packages/sqlalchemy/engine/default.py\", line 509, in do_execute\n",
      "    cursor.execute(statement, parameters)\n",
      "sqlalchemy.exc.OperationalError: (sqlite3.OperationalError) no such table: PROVIDE [SQL: \"SELECT AVG(review_scores_cleanliness) FROM Listing L, Amenities A, SCORE S, PROVIDE P WHERE L.id=S.id AND P.id=L.id AND P.amenities='TV' ;SELECT DISTINCT L.host_id FROM Listing L, AVAILABLE_AT AV WHERE AV.id=L.id AND AV.available='t' AND AV.date <= DATE '2019-09-31' AND AV.date >= DATE '2019-03-00' ;\"] (Background on this error at: http://sqlalche.me/e/e3q8)\n",
      "127.0.0.1 - - [29/Apr/2019 20:27:01] \"\u001b[1m\u001b[35mGET /table/2 HTTP/1.1\u001b[0m\" 500 -\n"
     ]
    }
   ],
   "source": [
    "# serve.py\n",
    "\n",
    "from flask import Flask, redirect, url_for, request\n",
    "from flask import render_template\n",
    "\n",
    "engine = create_engine(\"sqlite:///project.db\")\n",
    "# creates a Flask application, named app\n",
    "app = Flask(__name__)\n",
    "\n",
    "# a route where we will display a welcome message via an HTML template\n",
    "@app.route(\"/\")\n",
    "def init():  \n",
    "    return render_template('table.html', x=0)\n",
    "\n",
    "\n",
    "@app.route('/actors')\n",
    "def asb():\n",
    "    return str(engine.execute(\"select * from Bedding Where beds=3\").fetchall());\n",
    "\n",
    "@app.route('/xyz', methods = ['POST', 'GET'])\n",
    "def xyz():\n",
    "    if request.method == 'POST':\n",
    "        x = request.form[\"x\"]\n",
    "\n",
    "        return redirect(url_for('abc', x=x,y=y,z=z))\n",
    "    \n",
    "@app.route('/predefined', methods = ['POST', 'GET'])\n",
    "def select():\n",
    "    if request.method == 'POST':\n",
    "        x = request.form[\"query_nr\"]\n",
    "        return redirect(url_for('table', x=x))\n",
    "    \n",
    "@app.route('/abc/<x>/<y>/<z>')\n",
    "def abc(x,y,z):\n",
    "    return render_template('index.html', message=str(engine.execute(\"select * from \"+x+\" Where \"+y+\" = \"+z).fetchall()))\n",
    "\n",
    "@app.route(\"/table/<x>\")\n",
    "def table(x):\n",
    "    list_of_predefined = [\"\",\n",
    "                          \"SELECT AVG(P.price) FROM Listing L, Pricing P WHERE L.id=P.id AND L.beds=8 ;\", \n",
    "                          \"SELECT AVG(review_scores_cleanliness) FROM Listing L, Amenities A, SCORE S, PROVIDE P WHERE L.id=S.id AND P.id=L.id AND P.amenities='TV' ;\"\n",
    "                         \"SELECT DISTINCT L.host_id FROM Listing L, AVAILABLE_AT AV WHERE AV.id=L.id AND AV.available='t' AND AV.date <= DATE '2019-09-31' AND AV.date >= DATE '2019-03-00' ;\"] \n",
    "    test = engine.execute(list_of_predefined[int(x)]).fetchall();\n",
    "    columns=engine.execute(list_of_predefined[int(x)]).keys();\n",
    "    count=len(engine.execute(list_of_predefined[int(x)]).keys());\n",
    "    return render_template('table.html', test=test, columns=columns, count= count)\n",
    "# run the application\n",
    "if __name__==\"__main__\":\n",
    "     app.run(port=5000, debug=False)"
   ]
  },
  {
   "cell_type": "code",
   "execution_count": null,
   "metadata": {},
   "outputs": [],
   "source": []
  },
  {
   "cell_type": "code",
   "execution_count": null,
   "metadata": {},
   "outputs": [],
   "source": []
  },
  {
   "cell_type": "code",
   "execution_count": null,
   "metadata": {},
   "outputs": [],
   "source": []
  }
 ],
 "metadata": {
  "kernelspec": {
   "display_name": "Python 3",
   "language": "python",
   "name": "python3"
  },
  "language_info": {
   "codemirror_mode": {
    "name": "ipython",
    "version": 3
   },
   "file_extension": ".py",
   "mimetype": "text/x-python",
   "name": "python",
   "nbconvert_exporter": "python",
   "pygments_lexer": "ipython3",
   "version": "3.6.6"
  }
 },
 "nbformat": 4,
 "nbformat_minor": 2
}
